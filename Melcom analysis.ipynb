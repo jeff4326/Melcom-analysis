{
 "cells": [
  {
   "cell_type": "code",
   "execution_count": 38,
   "id": "e627e0b4",
   "metadata": {},
   "outputs": [],
   "source": [
    "import pandas as pd\n",
    "import numpy as np"
   ]
  },
  {
   "cell_type": "code",
   "execution_count": 39,
   "id": "b6771dea",
   "metadata": {},
   "outputs": [],
   "source": [
    "df = pd.read_excel(\"Final data.xlsx\")"
   ]
  },
  {
   "cell_type": "code",
   "execution_count": 40,
   "id": "dc59e57e",
   "metadata": {},
   "outputs": [
    {
     "data": {
      "text/html": [
       "<div>\n",
       "<style scoped>\n",
       "    .dataframe tbody tr th:only-of-type {\n",
       "        vertical-align: middle;\n",
       "    }\n",
       "\n",
       "    .dataframe tbody tr th {\n",
       "        vertical-align: top;\n",
       "    }\n",
       "\n",
       "    .dataframe thead th {\n",
       "        text-align: right;\n",
       "    }\n",
       "</style>\n",
       "<table border=\"1\" class=\"dataframe\">\n",
       "  <thead>\n",
       "    <tr style=\"text-align: right;\">\n",
       "      <th></th>\n",
       "      <th>Invoice ID</th>\n",
       "      <th>Branch_ID</th>\n",
       "      <th>City</th>\n",
       "      <th>Branch</th>\n",
       "      <th>Address</th>\n",
       "      <th>Employee</th>\n",
       "      <th>Employee_ID</th>\n",
       "      <th>Customer type</th>\n",
       "      <th>Gender</th>\n",
       "      <th>Product</th>\n",
       "      <th>...</th>\n",
       "      <th>Unit price</th>\n",
       "      <th>Quantity</th>\n",
       "      <th>Tax 5%</th>\n",
       "      <th>Total</th>\n",
       "      <th>Date</th>\n",
       "      <th>Time</th>\n",
       "      <th>Payment</th>\n",
       "      <th>cogs</th>\n",
       "      <th>gross margin percentage</th>\n",
       "      <th>gross income</th>\n",
       "    </tr>\n",
       "  </thead>\n",
       "  <tbody>\n",
       "    <tr>\n",
       "      <th>0</th>\n",
       "      <td>898-04-2717</td>\n",
       "      <td>A</td>\n",
       "      <td>Tema</td>\n",
       "      <td>Tema</td>\n",
       "      <td>Krakue Rd,Tema</td>\n",
       "      <td>Abigail Gakpo</td>\n",
       "      <td>A77535</td>\n",
       "      <td>Normal</td>\n",
       "      <td>Male</td>\n",
       "      <td>Socks</td>\n",
       "      <td>...</td>\n",
       "      <td>76.40</td>\n",
       "      <td>9</td>\n",
       "      <td>34.3800</td>\n",
       "      <td>721.9800</td>\n",
       "      <td>2019-03-19</td>\n",
       "      <td>15:49:00</td>\n",
       "      <td>Ewallet</td>\n",
       "      <td>687.60</td>\n",
       "      <td>4.761905</td>\n",
       "      <td>34.3800</td>\n",
       "    </tr>\n",
       "    <tr>\n",
       "      <th>1</th>\n",
       "      <td>896-34-0956</td>\n",
       "      <td>A</td>\n",
       "      <td>Tema</td>\n",
       "      <td>Tema</td>\n",
       "      <td>Krakue Rd,Tema</td>\n",
       "      <td>Sandra Tepey</td>\n",
       "      <td>S32468</td>\n",
       "      <td>Normal</td>\n",
       "      <td>Male</td>\n",
       "      <td>Hat</td>\n",
       "      <td>...</td>\n",
       "      <td>21.32</td>\n",
       "      <td>1</td>\n",
       "      <td>1.0660</td>\n",
       "      <td>22.3860</td>\n",
       "      <td>2019-03-20</td>\n",
       "      <td>12:43:00</td>\n",
       "      <td>Cash</td>\n",
       "      <td>21.32</td>\n",
       "      <td>4.761905</td>\n",
       "      <td>1.0660</td>\n",
       "    </tr>\n",
       "    <tr>\n",
       "      <th>2</th>\n",
       "      <td>895-66-0685</td>\n",
       "      <td>B</td>\n",
       "      <td>Accra</td>\n",
       "      <td>Achimota</td>\n",
       "      <td>Achimota-Kumasi National Highway</td>\n",
       "      <td>Esther Osei</td>\n",
       "      <td>E24686</td>\n",
       "      <td>Member</td>\n",
       "      <td>Male</td>\n",
       "      <td>Savana Dry Cider 330ml</td>\n",
       "      <td>...</td>\n",
       "      <td>18.08</td>\n",
       "      <td>3</td>\n",
       "      <td>2.7120</td>\n",
       "      <td>56.9520</td>\n",
       "      <td>2019-03-21</td>\n",
       "      <td>19:46:00</td>\n",
       "      <td>Ewallet</td>\n",
       "      <td>54.24</td>\n",
       "      <td>4.761905</td>\n",
       "      <td>2.7120</td>\n",
       "    </tr>\n",
       "    <tr>\n",
       "      <th>3</th>\n",
       "      <td>895-03-6665</td>\n",
       "      <td>B</td>\n",
       "      <td>Accra</td>\n",
       "      <td>Achimota</td>\n",
       "      <td>Achimota-Kumasi National Highway</td>\n",
       "      <td>Jane Amofa</td>\n",
       "      <td>J18643</td>\n",
       "      <td>Normal</td>\n",
       "      <td>Female</td>\n",
       "      <td>Lipstick</td>\n",
       "      <td>...</td>\n",
       "      <td>36.51</td>\n",
       "      <td>9</td>\n",
       "      <td>16.4295</td>\n",
       "      <td>345.0195</td>\n",
       "      <td>2019-03-22</td>\n",
       "      <td>10:52:00</td>\n",
       "      <td>Cash</td>\n",
       "      <td>328.59</td>\n",
       "      <td>4.761905</td>\n",
       "      <td>16.4295</td>\n",
       "    </tr>\n",
       "    <tr>\n",
       "      <th>4</th>\n",
       "      <td>894-41-5205</td>\n",
       "      <td>C</td>\n",
       "      <td>Kumasi</td>\n",
       "      <td>Ahodwo</td>\n",
       "      <td>Melcom Road,Kumasi</td>\n",
       "      <td>Akua Pokuase</td>\n",
       "      <td>K63578</td>\n",
       "      <td>Normal</td>\n",
       "      <td>Female</td>\n",
       "      <td>GRANORO SPAGHETTI RISTORANTI 500G</td>\n",
       "      <td>...</td>\n",
       "      <td>43.18</td>\n",
       "      <td>8</td>\n",
       "      <td>17.2720</td>\n",
       "      <td>362.7120</td>\n",
       "      <td>2019-03-23</td>\n",
       "      <td>19:39:00</td>\n",
       "      <td>Credit card</td>\n",
       "      <td>345.44</td>\n",
       "      <td>4.761905</td>\n",
       "      <td>17.2720</td>\n",
       "    </tr>\n",
       "  </tbody>\n",
       "</table>\n",
       "<p>5 rows × 22 columns</p>\n",
       "</div>"
      ],
      "text/plain": [
       "    Invoice ID Branch_ID    City    Branch                           Address  \\\n",
       "0  898-04-2717         A    Tema      Tema                    Krakue Rd,Tema   \n",
       "1  896-34-0956         A    Tema      Tema                    Krakue Rd,Tema   \n",
       "2  895-66-0685         B   Accra  Achimota  Achimota-Kumasi National Highway   \n",
       "3  895-03-6665         B   Accra  Achimota  Achimota-Kumasi National Highway   \n",
       "4  894-41-5205         C  Kumasi    Ahodwo                Melcom Road,Kumasi   \n",
       "\n",
       "        Employee Employee_ID Customer type  Gender  \\\n",
       "0  Abigail Gakpo      A77535        Normal    Male   \n",
       "1   Sandra Tepey      S32468        Normal    Male   \n",
       "2    Esther Osei      E24686        Member    Male   \n",
       "3     Jane Amofa      J18643        Normal  Female   \n",
       "4   Akua Pokuase      K63578        Normal  Female   \n",
       "\n",
       "                             Product  ...  Unit price Quantity   Tax 5%  \\\n",
       "0                              Socks  ...       76.40        9  34.3800   \n",
       "1                                Hat  ...       21.32        1   1.0660   \n",
       "2             Savana Dry Cider 330ml  ...       18.08        3   2.7120   \n",
       "3                           Lipstick  ...       36.51        9  16.4295   \n",
       "4  GRANORO SPAGHETTI RISTORANTI 500G  ...       43.18        8  17.2720   \n",
       "\n",
       "      Total       Date      Time      Payment    cogs gross margin percentage  \\\n",
       "0  721.9800 2019-03-19  15:49:00      Ewallet  687.60                4.761905   \n",
       "1   22.3860 2019-03-20  12:43:00         Cash   21.32                4.761905   \n",
       "2   56.9520 2019-03-21  19:46:00      Ewallet   54.24                4.761905   \n",
       "3  345.0195 2019-03-22  10:52:00         Cash  328.59                4.761905   \n",
       "4  362.7120 2019-03-23  19:39:00  Credit card  345.44                4.761905   \n",
       "\n",
       "   gross income  \n",
       "0       34.3800  \n",
       "1        1.0660  \n",
       "2        2.7120  \n",
       "3       16.4295  \n",
       "4       17.2720  \n",
       "\n",
       "[5 rows x 22 columns]"
      ]
     },
     "execution_count": 40,
     "metadata": {},
     "output_type": "execute_result"
    }
   ],
   "source": [
    "df.head()"
   ]
  },
  {
   "cell_type": "code",
   "execution_count": 41,
   "id": "b0d4e42f",
   "metadata": {},
   "outputs": [
    {
     "name": "stdout",
     "output_type": "stream",
     "text": [
      "<class 'pandas.core.frame.DataFrame'>\n",
      "RangeIndex: 199 entries, 0 to 198\n",
      "Data columns (total 22 columns):\n",
      " #   Column                   Non-Null Count  Dtype         \n",
      "---  ------                   --------------  -----         \n",
      " 0   Invoice ID               199 non-null    object        \n",
      " 1   Branch_ID                199 non-null    object        \n",
      " 2   City                     199 non-null    object        \n",
      " 3   Branch                   199 non-null    object        \n",
      " 4   Address                  199 non-null    object        \n",
      " 5   Employee                 199 non-null    object        \n",
      " 6   Employee_ID              199 non-null    object        \n",
      " 7   Customer type            199 non-null    object        \n",
      " 8   Gender                   199 non-null    object        \n",
      " 9   Product                  198 non-null    object        \n",
      " 10  Product_ID               199 non-null    int64         \n",
      " 11  Product line             199 non-null    object        \n",
      " 12  Unit price               199 non-null    float64       \n",
      " 13  Quantity                 199 non-null    int64         \n",
      " 14  Tax 5%                   199 non-null    float64       \n",
      " 15  Total                    199 non-null    float64       \n",
      " 16  Date                     199 non-null    datetime64[ns]\n",
      " 17  Time                     199 non-null    object        \n",
      " 18  Payment                  199 non-null    object        \n",
      " 19  cogs                     199 non-null    float64       \n",
      " 20  gross margin percentage  199 non-null    float64       \n",
      " 21  gross income             199 non-null    float64       \n",
      "dtypes: datetime64[ns](1), float64(6), int64(2), object(13)\n",
      "memory usage: 34.3+ KB\n"
     ]
    }
   ],
   "source": [
    "df.info()"
   ]
  },
  {
   "cell_type": "code",
   "execution_count": 42,
   "id": "20d5b5b4",
   "metadata": {},
   "outputs": [
    {
     "data": {
      "text/html": [
       "<div>\n",
       "<style scoped>\n",
       "    .dataframe tbody tr th:only-of-type {\n",
       "        vertical-align: middle;\n",
       "    }\n",
       "\n",
       "    .dataframe tbody tr th {\n",
       "        vertical-align: top;\n",
       "    }\n",
       "\n",
       "    .dataframe thead th {\n",
       "        text-align: right;\n",
       "    }\n",
       "</style>\n",
       "<table border=\"1\" class=\"dataframe\">\n",
       "  <thead>\n",
       "    <tr style=\"text-align: right;\">\n",
       "      <th></th>\n",
       "      <th>Product_ID</th>\n",
       "      <th>Unit price</th>\n",
       "      <th>Quantity</th>\n",
       "      <th>Tax 5%</th>\n",
       "      <th>Total</th>\n",
       "      <th>cogs</th>\n",
       "      <th>gross margin percentage</th>\n",
       "      <th>gross income</th>\n",
       "    </tr>\n",
       "  </thead>\n",
       "  <tbody>\n",
       "    <tr>\n",
       "      <th>count</th>\n",
       "      <td>199.000000</td>\n",
       "      <td>199.000000</td>\n",
       "      <td>199.00000</td>\n",
       "      <td>199.000000</td>\n",
       "      <td>199.000000</td>\n",
       "      <td>199.000000</td>\n",
       "      <td>1.990000e+02</td>\n",
       "      <td>199.000000</td>\n",
       "    </tr>\n",
       "    <tr>\n",
       "      <th>mean</th>\n",
       "      <td>483.884422</td>\n",
       "      <td>88.283869</td>\n",
       "      <td>5.61809</td>\n",
       "      <td>21.483568</td>\n",
       "      <td>1203.831392</td>\n",
       "      <td>312.229497</td>\n",
       "      <td>4.761905e+00</td>\n",
       "      <td>15.611475</td>\n",
       "    </tr>\n",
       "    <tr>\n",
       "      <th>std</th>\n",
       "      <td>294.819328</td>\n",
       "      <td>289.623074</td>\n",
       "      <td>2.92928</td>\n",
       "      <td>83.431754</td>\n",
       "      <td>10624.322471</td>\n",
       "      <td>239.992835</td>\n",
       "      <td>2.047962e-14</td>\n",
       "      <td>11.999642</td>\n",
       "    </tr>\n",
       "    <tr>\n",
       "      <th>min</th>\n",
       "      <td>1.000000</td>\n",
       "      <td>10.170000</td>\n",
       "      <td>1.00000</td>\n",
       "      <td>0.508500</td>\n",
       "      <td>10.678500</td>\n",
       "      <td>10.170000</td>\n",
       "      <td>4.761905e+00</td>\n",
       "      <td>0.508500</td>\n",
       "    </tr>\n",
       "    <tr>\n",
       "      <th>25%</th>\n",
       "      <td>216.000000</td>\n",
       "      <td>30.935000</td>\n",
       "      <td>3.00000</td>\n",
       "      <td>6.299000</td>\n",
       "      <td>132.279000</td>\n",
       "      <td>125.980000</td>\n",
       "      <td>4.761905e+00</td>\n",
       "      <td>6.299000</td>\n",
       "    </tr>\n",
       "    <tr>\n",
       "      <th>50%</th>\n",
       "      <td>471.000000</td>\n",
       "      <td>57.220000</td>\n",
       "      <td>5.00000</td>\n",
       "      <td>12.245000</td>\n",
       "      <td>258.678000</td>\n",
       "      <td>244.200000</td>\n",
       "      <td>4.761905e+00</td>\n",
       "      <td>12.210000</td>\n",
       "    </tr>\n",
       "    <tr>\n",
       "      <th>75%</th>\n",
       "      <td>742.500000</td>\n",
       "      <td>81.010000</td>\n",
       "      <td>8.00000</td>\n",
       "      <td>22.806500</td>\n",
       "      <td>489.352500</td>\n",
       "      <td>455.130000</td>\n",
       "      <td>4.761905e+00</td>\n",
       "      <td>22.756500</td>\n",
       "    </tr>\n",
       "    <tr>\n",
       "      <th>max</th>\n",
       "      <td>992.000000</td>\n",
       "      <td>2961.000000</td>\n",
       "      <td>10.00000</td>\n",
       "      <td>1180.350000</td>\n",
       "      <td>148689.000000</td>\n",
       "      <td>993.000000</td>\n",
       "      <td>4.761905e+00</td>\n",
       "      <td>49.650000</td>\n",
       "    </tr>\n",
       "  </tbody>\n",
       "</table>\n",
       "</div>"
      ],
      "text/plain": [
       "       Product_ID   Unit price   Quantity       Tax 5%          Total  \\\n",
       "count  199.000000   199.000000  199.00000   199.000000     199.000000   \n",
       "mean   483.884422    88.283869    5.61809    21.483568    1203.831392   \n",
       "std    294.819328   289.623074    2.92928    83.431754   10624.322471   \n",
       "min      1.000000    10.170000    1.00000     0.508500      10.678500   \n",
       "25%    216.000000    30.935000    3.00000     6.299000     132.279000   \n",
       "50%    471.000000    57.220000    5.00000    12.245000     258.678000   \n",
       "75%    742.500000    81.010000    8.00000    22.806500     489.352500   \n",
       "max    992.000000  2961.000000   10.00000  1180.350000  148689.000000   \n",
       "\n",
       "             cogs  gross margin percentage  gross income  \n",
       "count  199.000000             1.990000e+02    199.000000  \n",
       "mean   312.229497             4.761905e+00     15.611475  \n",
       "std    239.992835             2.047962e-14     11.999642  \n",
       "min     10.170000             4.761905e+00      0.508500  \n",
       "25%    125.980000             4.761905e+00      6.299000  \n",
       "50%    244.200000             4.761905e+00     12.210000  \n",
       "75%    455.130000             4.761905e+00     22.756500  \n",
       "max    993.000000             4.761905e+00     49.650000  "
      ]
     },
     "execution_count": 42,
     "metadata": {},
     "output_type": "execute_result"
    }
   ],
   "source": [
    "df.describe()"
   ]
  },
  {
   "cell_type": "code",
   "execution_count": 53,
   "id": "78d15dfb",
   "metadata": {},
   "outputs": [],
   "source": [
    "import matplotlib.pyplot as plt\n",
    "import datetime as dt\n",
    "pd.set_option(\"display.float_format\", lambda x: '%.3f' % x)\n"
   ]
  },
  {
   "cell_type": "code",
   "execution_count": 54,
   "id": "7714839b",
   "metadata": {},
   "outputs": [
    {
     "data": {
      "image/png": "[encoded data removed]",
      "text/plain": [
       "<Figure size 1080x1080 with 9 Axes>"
      ]
     },
     "metadata": {
      "needs_background": "light"
     },
     "output_type": "display_data"
    }
   ],
   "source": [
    "axList = df.hist(bins=20, figsize = (15, 15))\n",
    "plt.savefig(\"Hist.png\")"
   ]
  },
  {
   "cell_type": "code",
   "execution_count": 55,
   "id": "2829d424",
   "metadata": {},
   "outputs": [
    {
     "data": {
      "text/html": [
       "<div>\n",
       "<style scoped>\n",
       "    .dataframe tbody tr th:only-of-type {\n",
       "        vertical-align: middle;\n",
       "    }\n",
       "\n",
       "    .dataframe tbody tr th {\n",
       "        vertical-align: top;\n",
       "    }\n",
       "\n",
       "    .dataframe thead th {\n",
       "        text-align: right;\n",
       "    }\n",
       "</style>\n",
       "<table border=\"1\" class=\"dataframe\">\n",
       "  <thead>\n",
       "    <tr style=\"text-align: right;\">\n",
       "      <th></th>\n",
       "      <th>count</th>\n",
       "      <th>mean</th>\n",
       "      <th>std</th>\n",
       "      <th>min</th>\n",
       "      <th>25%</th>\n",
       "      <th>50%</th>\n",
       "      <th>75%</th>\n",
       "      <th>max</th>\n",
       "    </tr>\n",
       "  </thead>\n",
       "  <tbody>\n",
       "    <tr>\n",
       "      <th>Product_ID</th>\n",
       "      <td>198.000</td>\n",
       "      <td>481.424</td>\n",
       "      <td>293.512</td>\n",
       "      <td>1.000</td>\n",
       "      <td>213.000</td>\n",
       "      <td>469.500</td>\n",
       "      <td>741.000</td>\n",
       "      <td>992.000</td>\n",
       "    </tr>\n",
       "    <tr>\n",
       "      <th>Unit price</th>\n",
       "      <td>198.000</td>\n",
       "      <td>88.295</td>\n",
       "      <td>290.357</td>\n",
       "      <td>10.170</td>\n",
       "      <td>30.527</td>\n",
       "      <td>56.890</td>\n",
       "      <td>80.555</td>\n",
       "      <td>2961.000</td>\n",
       "    </tr>\n",
       "    <tr>\n",
       "      <th>Quantity</th>\n",
       "      <td>198.000</td>\n",
       "      <td>5.636</td>\n",
       "      <td>2.925</td>\n",
       "      <td>1.000</td>\n",
       "      <td>3.000</td>\n",
       "      <td>5.500</td>\n",
       "      <td>8.000</td>\n",
       "      <td>10.000</td>\n",
       "    </tr>\n",
       "    <tr>\n",
       "      <th>Tax 5%</th>\n",
       "      <td>198.000</td>\n",
       "      <td>21.549</td>\n",
       "      <td>83.638</td>\n",
       "      <td>0.508</td>\n",
       "      <td>6.274</td>\n",
       "      <td>12.281</td>\n",
       "      <td>22.823</td>\n",
       "      <td>1180.350</td>\n",
       "    </tr>\n",
       "    <tr>\n",
       "      <th>Total</th>\n",
       "      <td>198.000</td>\n",
       "      <td>1208.998</td>\n",
       "      <td>10651.003</td>\n",
       "      <td>10.678</td>\n",
       "      <td>131.743</td>\n",
       "      <td>259.938</td>\n",
       "      <td>491.767</td>\n",
       "      <td>148689.000</td>\n",
       "    </tr>\n",
       "    <tr>\n",
       "      <th>cogs</th>\n",
       "      <td>198.000</td>\n",
       "      <td>312.936</td>\n",
       "      <td>240.393</td>\n",
       "      <td>10.170</td>\n",
       "      <td>125.470</td>\n",
       "      <td>244.550</td>\n",
       "      <td>455.295</td>\n",
       "      <td>993.000</td>\n",
       "    </tr>\n",
       "    <tr>\n",
       "      <th>gross margin percentage</th>\n",
       "      <td>198.000</td>\n",
       "      <td>4.762</td>\n",
       "      <td>0.000</td>\n",
       "      <td>4.762</td>\n",
       "      <td>4.762</td>\n",
       "      <td>4.762</td>\n",
       "      <td>4.762</td>\n",
       "      <td>4.762</td>\n",
       "    </tr>\n",
       "    <tr>\n",
       "      <th>gross income</th>\n",
       "      <td>198.000</td>\n",
       "      <td>15.647</td>\n",
       "      <td>12.020</td>\n",
       "      <td>0.508</td>\n",
       "      <td>6.274</td>\n",
       "      <td>12.227</td>\n",
       "      <td>22.765</td>\n",
       "      <td>49.650</td>\n",
       "    </tr>\n",
       "  </tbody>\n",
       "</table>\n",
       "</div>"
      ],
      "text/plain": [
       "                          count     mean       std    min     25%     50%  \\\n",
       "Product_ID              198.000  481.424   293.512  1.000 213.000 469.500   \n",
       "Unit price              198.000   88.295   290.357 10.170  30.527  56.890   \n",
       "Quantity                198.000    5.636     2.925  1.000   3.000   5.500   \n",
       "Tax 5%                  198.000   21.549    83.638  0.508   6.274  12.281   \n",
       "Total                   198.000 1208.998 10651.003 10.678 131.743 259.938   \n",
       "cogs                    198.000  312.936   240.393 10.170 125.470 244.550   \n",
       "gross margin percentage 198.000    4.762     0.000  4.762   4.762   4.762   \n",
       "gross income            198.000   15.647    12.020  0.508   6.274  12.227   \n",
       "\n",
       "                            75%        max  \n",
       "Product_ID              741.000    992.000  \n",
       "Unit price               80.555   2961.000  \n",
       "Quantity                  8.000     10.000  \n",
       "Tax 5%                   22.823   1180.350  \n",
       "Total                   491.767 148689.000  \n",
       "cogs                    455.295    993.000  \n",
       "gross margin percentage   4.762      4.762  \n",
       "gross income             22.765     49.650  "
      ]
     },
     "execution_count": 55,
     "metadata": {},
     "output_type": "execute_result"
    }
   ],
   "source": [
    "# dropna() command will help to drop the null values from the data.\n",
    "df.dropna(inplace = True)\n",
    "\n",
    "# Lets check the data\n",
    "df.describe().T"
   ]
  },
  {
   "cell_type": "code",
   "execution_count": 56,
   "id": "a437da3c",
   "metadata": {},
   "outputs": [],
   "source": [
    "# Before the start we should convert the InvoiceDate to date with the datetime library.\n",
    "\n",
    "df[\"Date\"] = pd.to_datetime(df[\"Date\"])"
   ]
  },
  {
   "cell_type": "code",
   "execution_count": 60,
   "id": "e6c73566",
   "metadata": {},
   "outputs": [],
   "source": [
    "# Now, to find out the Recency value of the customers we should know the last order day in the data and make the analysis after the last day + 1 day.\n",
    "\n",
    "last_day = df[\"Date\"].max()\n",
    "today_date = dt.datetime(last_day.year, last_day.month, last_day.day + 1)"
   ]
  },
  {
   "cell_type": "code",
   "execution_count": 61,
   "id": "a9e53e75",
   "metadata": {},
   "outputs": [],
   "source": [
    "df[\"CustomerID\"] = np.arange(0,198)"
   ]
  },
  {
   "cell_type": "code",
   "execution_count": 62,
   "id": "52fd8255",
   "metadata": {},
   "outputs": [],
   "source": [
    "# Recency: Analysis date - last order day of the customer.\n",
    "# Frequency: Total invoice amount the customer\n",
    "# Monetary: Total price that spent by customer for each orders.\n",
    "\n",
    "\n",
    "\n",
    "rfm = df.groupby(\"CustomerID\").agg({\"Date\": lambda date: (today_date - date.max()).days,\n",
    "                                     'Invoice ID': lambda num: num.nunique(),\n",
    "                                     'Total': \"sum\"})"
   ]
  },
  {
   "cell_type": "code",
   "execution_count": 63,
   "id": "10368ab0",
   "metadata": {},
   "outputs": [
    {
     "data": {
      "text/html": [
       "<div>\n",
       "<style scoped>\n",
       "    .dataframe tbody tr th:only-of-type {\n",
       "        vertical-align: middle;\n",
       "    }\n",
       "\n",
       "    .dataframe tbody tr th {\n",
       "        vertical-align: top;\n",
       "    }\n",
       "\n",
       "    .dataframe thead th {\n",
       "        text-align: right;\n",
       "    }\n",
       "</style>\n",
       "<table border=\"1\" class=\"dataframe\">\n",
       "  <thead>\n",
       "    <tr style=\"text-align: right;\">\n",
       "      <th></th>\n",
       "      <th>recency</th>\n",
       "      <th>frequency</th>\n",
       "      <th>monetary</th>\n",
       "    </tr>\n",
       "    <tr>\n",
       "      <th>CustomerID</th>\n",
       "      <th></th>\n",
       "      <th></th>\n",
       "      <th></th>\n",
       "    </tr>\n",
       "  </thead>\n",
       "  <tbody>\n",
       "    <tr>\n",
       "      <th>0</th>\n",
       "      <td>198</td>\n",
       "      <td>1</td>\n",
       "      <td>721.980</td>\n",
       "    </tr>\n",
       "    <tr>\n",
       "      <th>1</th>\n",
       "      <td>197</td>\n",
       "      <td>1</td>\n",
       "      <td>22.386</td>\n",
       "    </tr>\n",
       "    <tr>\n",
       "      <th>2</th>\n",
       "      <td>196</td>\n",
       "      <td>1</td>\n",
       "      <td>56.952</td>\n",
       "    </tr>\n",
       "    <tr>\n",
       "      <th>3</th>\n",
       "      <td>195</td>\n",
       "      <td>1</td>\n",
       "      <td>345.019</td>\n",
       "    </tr>\n",
       "    <tr>\n",
       "      <th>4</th>\n",
       "      <td>194</td>\n",
       "      <td>1</td>\n",
       "      <td>362.712</td>\n",
       "    </tr>\n",
       "  </tbody>\n",
       "</table>\n",
       "</div>"
      ],
      "text/plain": [
       "            recency  frequency  monetary\n",
       "CustomerID                              \n",
       "0               198          1   721.980\n",
       "1               197          1    22.386\n",
       "2               196          1    56.952\n",
       "3               195          1   345.019\n",
       "4               194          1   362.712"
      ]
     },
     "execution_count": 63,
     "metadata": {},
     "output_type": "execute_result"
    }
   ],
   "source": [
    "# Lets change the rfm columns to understandable.\n",
    "\n",
    "rfm.columns = [\"recency\", \"frequency\", \"monetary\"]\n",
    "rfm.head()"
   ]
  },
  {
   "cell_type": "code",
   "execution_count": 64,
   "id": "7af45491",
   "metadata": {},
   "outputs": [],
   "source": [
    "rfm = rfm[rfm[\"monetary\"] >0]"
   ]
  },
  {
   "cell_type": "code",
   "execution_count": 65,
   "id": "7302ceff",
   "metadata": {},
   "outputs": [
    {
     "data": {
      "text/html": [
       "<div>\n",
       "<style scoped>\n",
       "    .dataframe tbody tr th:only-of-type {\n",
       "        vertical-align: middle;\n",
       "    }\n",
       "\n",
       "    .dataframe tbody tr th {\n",
       "        vertical-align: top;\n",
       "    }\n",
       "\n",
       "    .dataframe thead th {\n",
       "        text-align: right;\n",
       "    }\n",
       "</style>\n",
       "<table border=\"1\" class=\"dataframe\">\n",
       "  <thead>\n",
       "    <tr style=\"text-align: right;\">\n",
       "      <th></th>\n",
       "      <th>recency</th>\n",
       "      <th>frequency</th>\n",
       "      <th>monetary</th>\n",
       "      <th>recency_score</th>\n",
       "      <th>frequency_score</th>\n",
       "      <th>monetary_score</th>\n",
       "      <th>RFM_SCORE</th>\n",
       "    </tr>\n",
       "    <tr>\n",
       "      <th>CustomerID</th>\n",
       "      <th></th>\n",
       "      <th></th>\n",
       "      <th></th>\n",
       "      <th></th>\n",
       "      <th></th>\n",
       "      <th></th>\n",
       "      <th></th>\n",
       "    </tr>\n",
       "  </thead>\n",
       "  <tbody>\n",
       "    <tr>\n",
       "      <th>0</th>\n",
       "      <td>198</td>\n",
       "      <td>1</td>\n",
       "      <td>721.980</td>\n",
       "      <td>1</td>\n",
       "      <td>1</td>\n",
       "      <td>5</td>\n",
       "      <td>15</td>\n",
       "    </tr>\n",
       "    <tr>\n",
       "      <th>1</th>\n",
       "      <td>197</td>\n",
       "      <td>1</td>\n",
       "      <td>22.386</td>\n",
       "      <td>1</td>\n",
       "      <td>1</td>\n",
       "      <td>1</td>\n",
       "      <td>11</td>\n",
       "    </tr>\n",
       "    <tr>\n",
       "      <th>2</th>\n",
       "      <td>196</td>\n",
       "      <td>1</td>\n",
       "      <td>56.952</td>\n",
       "      <td>1</td>\n",
       "      <td>1</td>\n",
       "      <td>1</td>\n",
       "      <td>11</td>\n",
       "    </tr>\n",
       "    <tr>\n",
       "      <th>3</th>\n",
       "      <td>195</td>\n",
       "      <td>1</td>\n",
       "      <td>345.019</td>\n",
       "      <td>1</td>\n",
       "      <td>1</td>\n",
       "      <td>4</td>\n",
       "      <td>14</td>\n",
       "    </tr>\n",
       "    <tr>\n",
       "      <th>4</th>\n",
       "      <td>194</td>\n",
       "      <td>1</td>\n",
       "      <td>362.712</td>\n",
       "      <td>1</td>\n",
       "      <td>1</td>\n",
       "      <td>4</td>\n",
       "      <td>14</td>\n",
       "    </tr>\n",
       "  </tbody>\n",
       "</table>\n",
       "</div>"
      ],
      "text/plain": [
       "            recency  frequency  monetary recency_score frequency_score  \\\n",
       "CustomerID                                                               \n",
       "0               198          1   721.980             1               1   \n",
       "1               197          1    22.386             1               1   \n",
       "2               196          1    56.952             1               1   \n",
       "3               195          1   345.019             1               1   \n",
       "4               194          1   362.712             1               1   \n",
       "\n",
       "           monetary_score RFM_SCORE  \n",
       "CustomerID                           \n",
       "0                       5        15  \n",
       "1                       1        11  \n",
       "2                       1        11  \n",
       "3                       4        14  \n",
       "4                       4        14  "
      ]
     },
     "execution_count": 65,
     "metadata": {},
     "output_type": "execute_result"
    }
   ],
   "source": [
    "# According RFM Analysis Model we should to prepare the segmentions for the each metrics below.\n",
    "\n",
    "rfm[\"recency_score\"] = pd.qcut(rfm[\"recency\"], 5, labels = [5,4,3,2,1])\n",
    "rfm[\"frequency_score\"] = pd.qcut(rfm[\"frequency\"].rank(method = \"first\"), 5, labels = [1,2,3,4,5])\n",
    "rfm[\"monetary_score\"] = pd.qcut(rfm[\"monetary\"], 5, labels = [1,2,3,4,5])\n",
    "rfm[\"RFM_SCORE\"] = (rfm['recency_score'].astype(str) + rfm[\"monetary_score\"].astype(str))\n",
    "\n",
    "rfm.head()"
   ]
  },
  {
   "cell_type": "code",
   "execution_count": 66,
   "id": "d1f374c6",
   "metadata": {},
   "outputs": [
    {
     "data": {
      "text/html": [
       "<div>\n",
       "<style scoped>\n",
       "    .dataframe tbody tr th:only-of-type {\n",
       "        vertical-align: middle;\n",
       "    }\n",
       "\n",
       "    .dataframe tbody tr th {\n",
       "        vertical-align: top;\n",
       "    }\n",
       "\n",
       "    .dataframe thead th {\n",
       "        text-align: right;\n",
       "    }\n",
       "</style>\n",
       "<table border=\"1\" class=\"dataframe\">\n",
       "  <thead>\n",
       "    <tr style=\"text-align: right;\">\n",
       "      <th></th>\n",
       "      <th>recency</th>\n",
       "      <th>frequency</th>\n",
       "      <th>monetary</th>\n",
       "      <th>recency_score</th>\n",
       "      <th>frequency_score</th>\n",
       "      <th>monetary_score</th>\n",
       "      <th>RFM_SCORE</th>\n",
       "      <th>segment</th>\n",
       "    </tr>\n",
       "    <tr>\n",
       "      <th>CustomerID</th>\n",
       "      <th></th>\n",
       "      <th></th>\n",
       "      <th></th>\n",
       "      <th></th>\n",
       "      <th></th>\n",
       "      <th></th>\n",
       "      <th></th>\n",
       "      <th></th>\n",
       "    </tr>\n",
       "  </thead>\n",
       "  <tbody>\n",
       "    <tr>\n",
       "      <th>0</th>\n",
       "      <td>198</td>\n",
       "      <td>1</td>\n",
       "      <td>721.980</td>\n",
       "      <td>1</td>\n",
       "      <td>1</td>\n",
       "      <td>5</td>\n",
       "      <td>15</td>\n",
       "      <td>cant_loose</td>\n",
       "    </tr>\n",
       "    <tr>\n",
       "      <th>1</th>\n",
       "      <td>197</td>\n",
       "      <td>1</td>\n",
       "      <td>22.386</td>\n",
       "      <td>1</td>\n",
       "      <td>1</td>\n",
       "      <td>1</td>\n",
       "      <td>11</td>\n",
       "      <td>hibernating</td>\n",
       "    </tr>\n",
       "    <tr>\n",
       "      <th>2</th>\n",
       "      <td>196</td>\n",
       "      <td>1</td>\n",
       "      <td>56.952</td>\n",
       "      <td>1</td>\n",
       "      <td>1</td>\n",
       "      <td>1</td>\n",
       "      <td>11</td>\n",
       "      <td>hibernating</td>\n",
       "    </tr>\n",
       "    <tr>\n",
       "      <th>3</th>\n",
       "      <td>195</td>\n",
       "      <td>1</td>\n",
       "      <td>345.019</td>\n",
       "      <td>1</td>\n",
       "      <td>1</td>\n",
       "      <td>4</td>\n",
       "      <td>14</td>\n",
       "      <td>at_Risk</td>\n",
       "    </tr>\n",
       "    <tr>\n",
       "      <th>4</th>\n",
       "      <td>194</td>\n",
       "      <td>1</td>\n",
       "      <td>362.712</td>\n",
       "      <td>1</td>\n",
       "      <td>1</td>\n",
       "      <td>4</td>\n",
       "      <td>14</td>\n",
       "      <td>at_Risk</td>\n",
       "    </tr>\n",
       "  </tbody>\n",
       "</table>\n",
       "</div>"
      ],
      "text/plain": [
       "            recency  frequency  monetary recency_score frequency_score  \\\n",
       "CustomerID                                                               \n",
       "0               198          1   721.980             1               1   \n",
       "1               197          1    22.386             1               1   \n",
       "2               196          1    56.952             1               1   \n",
       "3               195          1   345.019             1               1   \n",
       "4               194          1   362.712             1               1   \n",
       "\n",
       "           monetary_score RFM_SCORE      segment  \n",
       "CustomerID                                        \n",
       "0                       5        15   cant_loose  \n",
       "1                       1        11  hibernating  \n",
       "2                       1        11  hibernating  \n",
       "3                       4        14      at_Risk  \n",
       "4                       4        14      at_Risk  "
      ]
     },
     "execution_count": 66,
     "metadata": {},
     "output_type": "execute_result"
    }
   ],
   "source": [
    "# Then we can make understandable each segment definition below.\n",
    "\n",
    "seg_map = {r'[1-2][1-2]': \"hibernating\",\n",
    "        r'[1-2][3-4]': \"at_Risk\",\n",
    "        r'[1-2]5': 'cant_loose',\n",
    "        r'3[1-2]': 'about_to_sleep',\n",
    "        r'33': 'need_attention',\n",
    "        r'[3-4][4-5]': 'loyal_customers',\n",
    "        r'41': 'promising',\n",
    "        r'51': 'new_customers',\n",
    "        r'[4-5][2-3]': 'potential,loyalists',\n",
    "        r'5[4-5]': 'champions'\n",
    "          }\n",
    "\n",
    "# Assign of the segments\n",
    "rfm[\"segment\"] = rfm[\"RFM_SCORE\"].replace(seg_map, regex = True)\n",
    "rfm.head()\n"
   ]
  },
  {
   "cell_type": "code",
   "execution_count": 67,
   "id": "7e8c2540",
   "metadata": {},
   "outputs": [
    {
     "name": "stdout",
     "output_type": "stream",
     "text": [
      "                    recency       frequency       monetary      \n",
      "                       mean count      mean count     mean count\n",
      "segment                                                         \n",
      "about_to_sleep      104.429    14     1.000    14   94.148    14\n",
      "at_Risk             155.889    27     1.000    27  353.369    27\n",
      "cant_loose          163.857    21     1.000    21 8963.621    21\n",
      "champions            21.533    15     1.000    15  621.237    15\n",
      "hibernating         158.419    31     1.000    31  102.987    31\n",
      "loyal_customers      82.871    31     1.000    31  563.013    31\n",
      "need_attention       94.286     7     1.000     7  274.933     7\n",
      "new_customers        20.000     5     1.000     5   56.595     5\n",
      "potential,loyalists  40.333    39     1.000    39  197.545    39\n",
      "promising            56.625     8     1.000     8   51.271     8\n"
     ]
    }
   ],
   "source": [
    "# To understand the distribution of the each segmentation we can use the groupby.\n",
    "\n",
    "print(rfm[[\"segment\", \"recency\", \"frequency\", \"monetary\"]].groupby(\"segment\").agg([\"mean\", \"count\"]))"
   ]
  },
  {
   "cell_type": "code",
   "execution_count": 69,
   "id": "8e07b48b",
   "metadata": {},
   "outputs": [
    {
     "data": {
      "text/plain": [
       "Tema        78\n",
       "Achimota    63\n",
       "Ahodwo      57\n",
       "Name: Branch, dtype: int64"
      ]
     },
     "execution_count": 69,
     "metadata": {},
     "output_type": "execute_result"
    }
   ],
   "source": [
    "df['Branch'].value_counts()"
   ]
  },
  {
   "cell_type": "code",
   "execution_count": 71,
   "id": "946eea2c",
   "metadata": {},
   "outputs": [
    {
     "data": {
      "text/plain": [
       "<AxesSubplot:xlabel='Branch', ylabel='count'>"
      ]
     },
     "execution_count": 71,
     "metadata": {},
     "output_type": "execute_result"
    },
    {
     "data": {
      "image/png": "[encoded data removed]",
      "text/plain": [
       "<Figure size 1080x360 with 1 Axes>"
      ]
     },
     "metadata": {
      "needs_background": "light"
     },
     "output_type": "display_data"
    }
   ],
   "source": [
    "plt.figure(figsize=(15,5))\n",
    "sns.countplot(x='Branch',data=df)"
   ]
  },
  {
   "cell_type": "code",
   "execution_count": 72,
   "id": "703cb309",
   "metadata": {},
   "outputs": [
    {
     "data": {
      "text/plain": [
       "Tema      78\n",
       "Accra     63\n",
       "Kumasi    57\n",
       "Name: City, dtype: int64"
      ]
     },
     "execution_count": 72,
     "metadata": {},
     "output_type": "execute_result"
    }
   ],
   "source": [
    "df[\"City\"].value_counts()"
   ]
  },
  {
   "cell_type": "code",
   "execution_count": 74,
   "id": "6b09fb2e",
   "metadata": {},
   "outputs": [
    {
     "data": {
      "text/plain": [
       "<AxesSubplot:title={'center':'Cities count'}, ylabel='City'>"
      ]
     },
     "execution_count": 74,
     "metadata": {},
     "output_type": "execute_result"
    },
    {
     "data": {
      "image/png": "[encoded data removed]",
      "text/plain": [
       "<Figure size 432x288 with 1 Axes>"
      ]
     },
     "metadata": {},
     "output_type": "display_data"
    }
   ],
   "source": [
    "\n",
    "df[\"City\"].value_counts().plot.pie(title='Cities count')"
   ]
  },
  {
   "cell_type": "code",
   "execution_count": 75,
   "id": "f01985b0",
   "metadata": {},
   "outputs": [
    {
     "data": {
      "text/plain": [
       "City    Branch  \n",
       "Accra   Achimota    63\n",
       "Kumasi  Ahodwo      57\n",
       "Tema    Tema        78\n",
       "Name: Branch, dtype: int64"
      ]
     },
     "execution_count": 75,
     "metadata": {},
     "output_type": "execute_result"
    }
   ],
   "source": [
    "df.groupby('City')['Branch'].value_counts()"
   ]
  },
  {
   "cell_type": "code",
   "execution_count": 80,
   "id": "a24071e1",
   "metadata": {},
   "outputs": [
    {
     "data": {
      "text/plain": [
       "<AxesSubplot:title={'center':'Each city with branch count'}, ylabel='City,Branch'>"
      ]
     },
     "execution_count": 80,
     "metadata": {},
     "output_type": "execute_result"
    },
    {
     "data": {
      "image/png": "[encoded data removed]",
      "text/plain": [
       "<Figure size 432x288 with 1 Axes>"
      ]
     },
     "metadata": {
      "needs_background": "light"
     },
     "output_type": "display_data"
    }
   ],
   "source": [
    "df.groupby('City')['Branch'].value_counts().plot.barh(color='black',alpha=0.5,title='Each city with branch count')"
   ]
  },
  {
   "cell_type": "code",
   "execution_count": 81,
   "id": "984bb5c6",
   "metadata": {},
   "outputs": [
    {
     "data": {
      "text/plain": [
       "Normal    103\n",
       "Member     95\n",
       "Name: Customer type, dtype: int64"
      ]
     },
     "execution_count": 81,
     "metadata": {},
     "output_type": "execute_result"
    }
   ],
   "source": [
    "df['Customer type'].value_counts()"
   ]
  },
  {
   "cell_type": "code",
   "execution_count": 83,
   "id": "ccf37c8a",
   "metadata": {},
   "outputs": [
    {
     "data": {
      "text/plain": [
       "<AxesSubplot:title={'center':'Customer type count'}>"
      ]
     },
     "execution_count": 83,
     "metadata": {},
     "output_type": "execute_result"
    },
    {
     "data": {
      "image/png": "[encoded data removed]",
      "text/plain": [
       "<Figure size 432x288 with 1 Axes>"
      ]
     },
     "metadata": {
      "needs_background": "light"
     },
     "output_type": "display_data"
    }
   ],
   "source": [
    "df['Customer type'].value_counts().plot.bar(color='brown',alpha=0.5,title='Customer type count')"
   ]
  },
  {
   "cell_type": "code",
   "execution_count": 86,
   "id": "354a966e",
   "metadata": {},
   "outputs": [],
   "source": [
    "# What about gender ?\n",
    "label=df['Gender'].unique()\n",
    "values=df['Gender'].value_counts().values"
   ]
  },
  {
   "cell_type": "code",
   "execution_count": 87,
   "id": "83882880",
   "metadata": {},
   "outputs": [
    {
     "data": {
      "text/plain": [
       "Female    103\n",
       "Male       95\n",
       "Name: Gender, dtype: int64"
      ]
     },
     "execution_count": 87,
     "metadata": {},
     "output_type": "execute_result"
    }
   ],
   "source": [
    "df['Gender'].value_counts()"
   ]
  },
  {
   "cell_type": "code",
   "execution_count": 88,
   "id": "f6498902",
   "metadata": {},
   "outputs": [
    {
     "data": {
      "text/plain": [
       "Text(0.5, 1.0, 'Males VS Females')"
      ]
     },
     "execution_count": 88,
     "metadata": {},
     "output_type": "execute_result"
    },
    {
     "data": {
      "image/png": "[encoded data removed]",
      "text/plain": [
       "<Figure size 432x288 with 1 Axes>"
      ]
     },
     "metadata": {},
     "output_type": "display_data"
    }
   ],
   "source": [
    "plt.pie(values,autopct='%1.1f%%',labels=label)\n",
    "plt.legend()\n",
    "centre_circle = plt.Circle((0, 0), 0.70, fc='grey')\n",
    "fig = plt.gcf()\n",
    "fig.gca().add_artist(centre_circle)\n",
    "plt.title('Males VS Females')"
   ]
  },
  {
   "cell_type": "code",
   "execution_count": 89,
   "id": "b3966709",
   "metadata": {},
   "outputs": [
    {
     "data": {
      "text/plain": [
       "Gender  Customer type\n",
       "Female  Member           53\n",
       "        Normal           50\n",
       "Male    Normal           53\n",
       "        Member           42\n",
       "Name: Customer type, dtype: int64"
      ]
     },
     "execution_count": 89,
     "metadata": {},
     "output_type": "execute_result"
    }
   ],
   "source": [
    "#From the previous note, what is the relationship between the gender and the client type?¶\n",
    "df.groupby('Gender')[\"Customer type\"].value_counts()"
   ]
  },
  {
   "cell_type": "code",
   "execution_count": 90,
   "id": "e44f5a86",
   "metadata": {},
   "outputs": [
    {
     "data": {
      "text/plain": [
       "Text(0.5, 1.0, 'Gender with customer type ')"
      ]
     },
     "execution_count": 90,
     "metadata": {},
     "output_type": "execute_result"
    },
    {
     "data": {
      "image/png": "[encoded data removed]",
      "text/plain": [
       "<Figure size 432x288 with 1 Axes>"
      ]
     },
     "metadata": {
      "needs_background": "light"
     },
     "output_type": "display_data"
    }
   ],
   "source": [
    "sns.countplot(x='Gender',hue='Customer type',data=df)\n",
    "plt.title('Gender with customer type ')"
   ]
  },
  {
   "cell_type": "code",
   "execution_count": 91,
   "id": "69db5070",
   "metadata": {},
   "outputs": [
    {
     "data": {
      "text/plain": [
       "array(['Fashion accessories', 'Food and beverages', 'Home and lifestyle',\n",
       "       'Sports and travel', 'Electronic accessories', 'Health and beauty'],\n",
       "      dtype=object)"
      ]
     },
     "execution_count": 91,
     "metadata": {},
     "output_type": "execute_result"
    }
   ],
   "source": [
    "#What are the production lines and what about the price information for each production line?¶\n",
    "df['Product line'].unique()"
   ]
  },
  {
   "cell_type": "code",
   "execution_count": 95,
   "id": "78e166bd",
   "metadata": {},
   "outputs": [],
   "source": [
    "import plotly.express as px"
   ]
  },
  {
   "cell_type": "code",
   "execution_count": 99,
   "id": "8682e567",
   "metadata": {},
   "outputs": [
    {
     "data": {
      "application/vnd.plotly.v1+json": {
       "config": {
        "plotlyServerURL": "https://plot.ly"
       },
       "data": [
        {
         "alignmentgroup": "True",
         "hovertemplate": "Product line=%{x}<br>City=%{y}<extra></extra>",
         "legendgroup": "Fashion accessories",
         "marker": {
          "color": "#636efa"
         },
         "name": "Fashion accessories",
         "notched": false,
         "offsetgroup": "Fashion accessories",
         "orientation": "v",
         "showlegend": true,
         "type": "box",
         "x": [
          "Fashion accessories",
          "Fashion accessories",
          "Fashion accessories",
          "Fashion accessories",
          "Fashion accessories",
          "Fashion accessories",
          "Fashion accessories",
          "Fashion accessories",
          "Fashion accessories",
          "Fashion accessories",
          "Fashion accessories",
          "Fashion accessories",
          "Fashion accessories",
          "Fashion accessories",
          "Fashion accessories",
          "Fashion accessories",
          "Fashion accessories",
          "Fashion accessories",
          "Fashion accessories",
          "Fashion accessories",
          "Fashion accessories",
          "Fashion accessories",
          "Fashion accessories",
          "Fashion accessories",
          "Fashion accessories",
          "Fashion accessories",
          "Fashion accessories",
          "Fashion accessories",
          "Fashion accessories",
          "Fashion accessories",
          "Fashion accessories",
          "Fashion accessories",
          "Fashion accessories",
          "Fashion accessories",
          "Fashion accessories",
          "Fashion accessories",
          "Fashion accessories"
         ],
         "x0": " ",
         "xaxis": "x",
         "y": [
          "Tema",
          "Tema",
          "Accra",
          "Kumasi",
          "Accra",
          "Kumasi",
          "Accra",
          "Kumasi",
          "Tema",
          "Accra",
          "Tema",
          "Tema",
          "Tema",
          "Tema",
          "Accra",
          "Kumasi",
          "Accra",
          "Accra",
          "Kumasi",
          "Tema",
          "Kumasi",
          "Kumasi",
          "Tema",
          "Accra",
          "Tema",
          "Kumasi",
          "Kumasi",
          "Accra",
          "Tema",
          "Kumasi",
          "Tema",
          "Kumasi",
          "Tema",
          "Kumasi",
          "Tema",
          "Accra",
          "Tema"
         ],
         "y0": " ",
         "yaxis": "y"
        },
        {
         "alignmentgroup": "True",
         "hovertemplate": "Product line=%{x}<br>City=%{y}<extra></extra>",
         "legendgroup": "Food and beverages",
         "marker": {
          "color": "#EF553B"
         },
         "name": "Food and beverages",
         "notched": false,
         "offsetgroup": "Food and beverages",
         "orientation": "v",
         "showlegend": true,
         "type": "box",
         "x": [
          "Food and beverages",
          "Food and beverages",
          "Food and beverages",
          "Food and beverages",
          "Food and beverages",
          "Food and beverages",
          "Food and beverages",
          "Food and beverages",
          "Food and beverages",
          "Food and beverages",
          "Food and beverages",
          "Food and beverages",
          "Food and beverages",
          "Food and beverages",
          "Food and beverages",
          "Food and beverages",
          "Food and beverages",
          "Food and beverages",
          "Food and beverages",
          "Food and beverages",
          "Food and beverages",
          "Food and beverages",
          "Food and beverages",
          "Food and beverages",
          "Food and beverages",
          "Food and beverages",
          "Food and beverages",
          "Food and beverages",
          "Food and beverages",
          "Food and beverages",
          "Food and beverages",
          "Food and beverages",
          "Food and beverages",
          "Food and beverages"
         ],
         "x0": " ",
         "xaxis": "x",
         "y": [
          "Accra",
          "Kumasi",
          "Accra",
          "Tema",
          "Tema",
          "Tema",
          "Accra",
          "Kumasi",
          "Tema",
          "Tema",
          "Kumasi",
          "Accra",
          "Accra",
          "Kumasi",
          "Accra",
          "Accra",
          "Accra",
          "Tema",
          "Kumasi",
          "Tema",
          "Accra",
          "Tema",
          "Tema",
          "Accra",
          "Accra",
          "Kumasi",
          "Tema",
          "Accra",
          "Kumasi",
          "Tema",
          "Accra",
          "Accra",
          "Kumasi",
          "Accra"
         ],
         "y0": " ",
         "yaxis": "y"
        },
        {
         "alignmentgroup": "True",
         "hovertemplate": "Product line=%{x}<br>City=%{y}<extra></extra>",
         "legendgroup": "Home and lifestyle",
         "marker": {
          "color": "#00cc96"
         },
         "name": "Home and lifestyle",
         "notched": false,
         "offsetgroup": "Home and lifestyle",
         "orientation": "v",
         "showlegend": true,
         "type": "box",
         "x": [
          "Home and lifestyle",
          "Home and lifestyle",
          "Home and lifestyle",
          "Home and lifestyle",
          "Home and lifestyle",
          "Home and lifestyle",
          "Home and lifestyle",
          "Home and lifestyle",
          "Home and lifestyle",
          "Home and lifestyle",
          "Home and lifestyle",
          "Home and lifestyle",
          "Home and lifestyle",
          "Home and lifestyle",
          "Home and lifestyle",
          "Home and lifestyle",
          "Home and lifestyle",
          "Home and lifestyle",
          "Home and lifestyle",
          "Home and lifestyle",
          "Home and lifestyle",
          "Home and lifestyle",
          "Home and lifestyle",
          "Home and lifestyle",
          "Home and lifestyle",
          "Home and lifestyle",
          "Home and lifestyle",
          "Home and lifestyle",
          "Home and lifestyle",
          "Home and lifestyle",
          "Home and lifestyle",
          "Home and lifestyle",
          "Home and lifestyle"
         ],
         "x0": " ",
         "xaxis": "x",
         "y": [
          "Tema",
          "Tema",
          "Accra",
          "Kumasi",
          "Tema",
          "Tema",
          "Kumasi",
          "Accra",
          "Kumasi",
          "Accra",
          "Accra",
          "Tema",
          "Accra",
          "Tema",
          "Tema",
          "Kumasi",
          "Tema",
          "Kumasi",
          "Tema",
          "Tema",
          "Tema",
          "Kumasi",
          "Kumasi",
          "Accra",
          "Accra",
          "Accra",
          "Accra",
          "Kumasi",
          "Accra",
          "Kumasi",
          "Kumasi",
          "Tema",
          "Tema"
         ],
         "y0": " ",
         "yaxis": "y"
        },
        {
         "alignmentgroup": "True",
         "hovertemplate": "Product line=%{x}<br>City=%{y}<extra></extra>",
         "legendgroup": "Sports and travel",
         "marker": {
          "color": "#ab63fa"
         },
         "name": "Sports and travel",
         "notched": false,
         "offsetgroup": "Sports and travel",
         "orientation": "v",
         "showlegend": true,
         "type": "box",
         "x": [
          "Sports and travel",
          "Sports and travel",
          "Sports and travel",
          "Sports and travel",
          "Sports and travel",
          "Sports and travel",
          "Sports and travel",
          "Sports and travel",
          "Sports and travel",
          "Sports and travel",
          "Sports and travel",
          "Sports and travel",
          "Sports and travel",
          "Sports and travel",
          "Sports and travel",
          "Sports and travel",
          "Sports and travel",
          "Sports and travel",
          "Sports and travel",
          "Sports and travel",
          "Sports and travel",
          "Sports and travel",
          "Sports and travel",
          "Sports and travel",
          "Sports and travel",
          "Sports and travel",
          "Sports and travel",
          "Sports and travel",
          "Sports and travel",
          "Sports and travel",
          "Sports and travel",
          "Sports and travel",
          "Sports and travel",
          "Sports and travel"
         ],
         "x0": " ",
         "xaxis": "x",
         "y": [
          "Accra",
          "Kumasi",
          "Kumasi",
          "Tema",
          "Tema",
          "Tema",
          "Kumasi",
          "Accra",
          "Tema",
          "Tema",
          "Tema",
          "Kumasi",
          "Tema",
          "Kumasi",
          "Tema",
          "Tema",
          "Kumasi",
          "Tema",
          "Kumasi",
          "Tema",
          "Tema",
          "Accra",
          "Tema",
          "Tema",
          "Kumasi",
          "Tema",
          "Kumasi",
          "Accra",
          "Accra",
          "Tema",
          "Accra",
          "Kumasi",
          "Accra",
          "Kumasi"
         ],
         "y0": " ",
         "yaxis": "y"
        },
        {
         "alignmentgroup": "True",
         "hovertemplate": "Product line=%{x}<br>City=%{y}<extra></extra>",
         "legendgroup": "Electronic accessories",
         "marker": {
          "color": "#FFA15A"
         },
         "name": "Electronic accessories",
         "notched": false,
         "offsetgroup": "Electronic accessories",
         "orientation": "v",
         "showlegend": true,
         "type": "box",
         "x": [
          "Electronic accessories",
          "Electronic accessories",
          "Electronic accessories",
          "Electronic accessories",
          "Electronic accessories",
          "Electronic accessories",
          "Electronic accessories",
          "Electronic accessories",
          "Electronic accessories",
          "Electronic accessories",
          "Electronic accessories",
          "Electronic accessories",
          "Electronic accessories",
          "Electronic accessories",
          "Electronic accessories",
          "Electronic accessories",
          "Electronic accessories",
          "Electronic accessories",
          "Electronic accessories",
          "Electronic accessories",
          "Electronic accessories",
          "Electronic accessories",
          "Electronic accessories",
          "Electronic accessories",
          "Electronic accessories",
          "Electronic accessories",
          "Electronic accessories",
          "Electronic accessories",
          "Electronic accessories",
          "Electronic accessories",
          "Electronic accessories",
          "Electronic accessories"
         ],
         "x0": " ",
         "xaxis": "x",
         "y": [
          "Accra",
          "Tema",
          "Kumasi",
          "Tema",
          "Kumasi",
          "Tema",
          "Accra",
          "Accra",
          "Kumasi",
          "Kumasi",
          "Accra",
          "Tema",
          "Kumasi",
          "Kumasi",
          "Tema",
          "Accra",
          "Accra",
          "Tema",
          "Accra",
          "Accra",
          "Tema",
          "Kumasi",
          "Tema",
          "Tema",
          "Tema",
          "Accra",
          "Accra",
          "Tema",
          "Accra",
          "Tema",
          "Tema",
          "Tema"
         ],
         "y0": " ",
         "yaxis": "y"
        },
        {
         "alignmentgroup": "True",
         "hovertemplate": "Product line=%{x}<br>City=%{y}<extra></extra>",
         "legendgroup": "Health and beauty",
         "marker": {
          "color": "#19d3f3"
         },
         "name": "Health and beauty",
         "notched": false,
         "offsetgroup": "Health and beauty",
         "orientation": "v",
         "showlegend": true,
         "type": "box",
         "x": [
          "Health and beauty",
          "Health and beauty",
          "Health and beauty",
          "Health and beauty",
          "Health and beauty",
          "Health and beauty",
          "Health and beauty",
          "Health and beauty",
          "Health and beauty",
          "Health and beauty",
          "Health and beauty",
          "Health and beauty",
          "Health and beauty",
          "Health and beauty",
          "Health and beauty",
          "Health and beauty",
          "Health and beauty",
          "Health and beauty",
          "Health and beauty",
          "Health and beauty",
          "Health and beauty",
          "Health and beauty",
          "Health and beauty",
          "Health and beauty",
          "Health and beauty",
          "Health and beauty",
          "Health and beauty",
          "Health and beauty"
         ],
         "x0": " ",
         "xaxis": "x",
         "y": [
          "Tema",
          "Tema",
          "Accra",
          "Accra",
          "Kumasi",
          "Accra",
          "Accra",
          "Accra",
          "Tema",
          "Kumasi",
          "Accra",
          "Kumasi",
          "Accra",
          "Tema",
          "Kumasi",
          "Tema",
          "Tema",
          "Accra",
          "Kumasi",
          "Tema",
          "Kumasi",
          "Kumasi",
          "Accra",
          "Accra",
          "Kumasi",
          "Kumasi",
          "Tema",
          "Tema"
         ],
         "y0": " ",
         "yaxis": "y"
        }
       ],
       "layout": {
        "boxmode": "overlay",
        "legend": {
         "title": {
          "text": "Product line"
         },
         "tracegroupgap": 0
        },
        "template": {
         "data": {
          "bar": [
           {
            "error_x": {
             "color": "#f2f5fa"
            },
            "error_y": {
             "color": "#f2f5fa"
            },
            "marker": {
             "line": {
              "color": "rgb(17,17,17)",
              "width": 0.5
             },
             "pattern": {
              "fillmode": "overlay",
              "size": 10,
              "solidity": 0.2
             }
            },
            "type": "bar"
           }
          ],
          "barpolar": [
           {
            "marker": {
             "line": {
              "color": "rgb(17,17,17)",
              "width": 0.5
             },
             "pattern": {
              "fillmode": "overlay",
              "size": 10,
              "solidity": 0.2
             }
            },
            "type": "barpolar"
           }
          ],
          "carpet": [
           {
            "aaxis": {
             "endlinecolor": "#A2B1C6",
             "gridcolor": "#506784",
             "linecolor": "#506784",
             "minorgridcolor": "#506784",
             "startlinecolor": "#A2B1C6"
            },
            "baxis": {
             "endlinecolor": "#A2B1C6",
             "gridcolor": "#506784",
             "linecolor": "#506784",
             "minorgridcolor": "#506784",
             "startlinecolor": "#A2B1C6"
            },
            "type": "carpet"
           }
          ],
          "choropleth": [
           {
            "colorbar": {
             "outlinewidth": 0,
             "ticks": ""
            },
            "type": "choropleth"
           }
          ],
          "contour": [
           {
            "colorbar": {
             "outlinewidth": 0,
             "ticks": ""
            },
            "colorscale": [
             [
              0,
              "#0d0887"
             ],
             [
              0.1111111111111111,
              "#46039f"
             ],
             [
              0.2222222222222222,
              "#7201a8"
             ],
             [
              0.3333333333333333,
              "#9c179e"
             ],
             [
              0.4444444444444444,
              "#bd3786"
             ],
             [
              0.5555555555555556,
              "#d8576b"
             ],
             [
              0.6666666666666666,
              "#ed7953"
             ],
             [
              0.7777777777777778,
              "#fb9f3a"
             ],
             [
              0.8888888888888888,
              "#fdca26"
             ],
             [
              1,
              "#f0f921"
             ]
            ],
            "type": "contour"
           }
          ],
          "contourcarpet": [
           {
            "colorbar": {
             "outlinewidth": 0,
             "ticks": ""
            },
            "type": "contourcarpet"
           }
          ],
          "heatmap": [
           {
            "colorbar": {
             "outlinewidth": 0,
             "ticks": ""
            },
            "colorscale": [
             [
              0,
              "#0d0887"
             ],
             [
              0.1111111111111111,
              "#46039f"
             ],
             [
              0.2222222222222222,
              "#7201a8"
             ],
             [
              0.3333333333333333,
              "#9c179e"
             ],
             [
              0.4444444444444444,
              "#bd3786"
             ],
             [
              0.5555555555555556,
              "#d8576b"
             ],
             [
              0.6666666666666666,
              "#ed7953"
             ],
             [
              0.7777777777777778,
              "#fb9f3a"
             ],
             [
              0.8888888888888888,
              "#fdca26"
             ],
             [
              1,
              "#f0f921"
             ]
            ],
            "type": "heatmap"
           }
          ],
          "heatmapgl": [
           {
            "colorbar": {
             "outlinewidth": 0,
             "ticks": ""
            },
            "colorscale": [
             [
              0,
              "#0d0887"
             ],
             [
              0.1111111111111111,
              "#46039f"
             ],
             [
              0.2222222222222222,
              "#7201a8"
             ],
             [
              0.3333333333333333,
              "#9c179e"
             ],
             [
              0.4444444444444444,
              "#bd3786"
             ],
             [
              0.5555555555555556,
              "#d8576b"
             ],
             [
              0.6666666666666666,
              "#ed7953"
             ],
             [
              0.7777777777777778,
              "#fb9f3a"
             ],
             [
              0.8888888888888888,
              "#fdca26"
             ],
             [
              1,
              "#f0f921"
             ]
            ],
            "type": "heatmapgl"
           }
          ],
          "histogram": [
           {
            "marker": {
             "pattern": {
              "fillmode": "overlay",
              "size": 10,
              "solidity": 0.2
             }
            },
            "type": "histogram"
           }
          ],
          "histogram2d": [
           {
            "colorbar": {
             "outlinewidth": 0,
             "ticks": ""
            },
            "colorscale": [
             [
              0,
              "#0d0887"
             ],
             [
              0.1111111111111111,
              "#46039f"
             ],
             [
              0.2222222222222222,
              "#7201a8"
             ],
             [
              0.3333333333333333,
              "#9c179e"
             ],
             [
              0.4444444444444444,
              "#bd3786"
             ],
             [
              0.5555555555555556,
              "#d8576b"
             ],
             [
              0.6666666666666666,
              "#ed7953"
             ],
             [
              0.7777777777777778,
              "#fb9f3a"
             ],
             [
              0.8888888888888888,
              "#fdca26"
             ],
             [
              1,
              "#f0f921"
             ]
            ],
            "type": "histogram2d"
           }
          ],
          "histogram2dcontour": [
           {
            "colorbar": {
             "outlinewidth": 0,
             "ticks": ""
            },
            "colorscale": [
             [
              0,
              "#0d0887"
             ],
             [
              0.1111111111111111,
              "#46039f"
             ],
             [
              0.2222222222222222,
              "#7201a8"
             ],
             [
              0.3333333333333333,
              "#9c179e"
             ],
             [
              0.4444444444444444,
              "#bd3786"
             ],
             [
              0.5555555555555556,
              "#d8576b"
             ],
             [
              0.6666666666666666,
              "#ed7953"
             ],
             [
              0.7777777777777778,
              "#fb9f3a"
             ],
             [
              0.8888888888888888,
              "#fdca26"
             ],
             [
              1,
              "#f0f921"
             ]
            ],
            "type": "histogram2dcontour"
           }
          ],
          "mesh3d": [
           {
            "colorbar": {
             "outlinewidth": 0,
             "ticks": ""
            },
            "type": "mesh3d"
           }
          ],
          "parcoords": [
           {
            "line": {
             "colorbar": {
              "outlinewidth": 0,
              "ticks": ""
             }
            },
            "type": "parcoords"
           }
          ],
          "pie": [
           {
            "automargin": true,
            "type": "pie"
           }
          ],
          "scatter": [
           {
            "marker": {
             "line": {
              "color": "#283442"
             }
            },
            "type": "scatter"
           }
          ],
          "scatter3d": [
           {
            "line": {
             "colorbar": {
              "outlinewidth": 0,
              "ticks": ""
             }
            },
            "marker": {
             "colorbar": {
              "outlinewidth": 0,
              "ticks": ""
             }
            },
            "type": "scatter3d"
           }
          ],
          "scattercarpet": [
           {
            "marker": {
             "colorbar": {
              "outlinewidth": 0,
              "ticks": ""
             }
            },
            "type": "scattercarpet"
           }
          ],
          "scattergeo": [
           {
            "marker": {
             "colorbar": {
              "outlinewidth": 0,
              "ticks": ""
             }
            },
            "type": "scattergeo"
           }
          ],
          "scattergl": [
           {
            "marker": {
             "line": {
              "color": "#283442"
             }
            },
            "type": "scattergl"
           }
          ],
          "scattermapbox": [
           {
            "marker": {
             "colorbar": {
              "outlinewidth": 0,
              "ticks": ""
             }
            },
            "type": "scattermapbox"
           }
          ],
          "scatterpolar": [
           {
            "marker": {
             "colorbar": {
              "outlinewidth": 0,
              "ticks": ""
             }
            },
            "type": "scatterpolar"
           }
          ],
          "scatterpolargl": [
           {
            "marker": {
             "colorbar": {
              "outlinewidth": 0,
              "ticks": ""
             }
            },
            "type": "scatterpolargl"
           }
          ],
          "scatterternary": [
           {
            "marker": {
             "colorbar": {
              "outlinewidth": 0,
              "ticks": ""
             }
            },
            "type": "scatterternary"
           }
          ],
          "surface": [
           {
            "colorbar": {
             "outlinewidth": 0,
             "ticks": ""
            },
            "colorscale": [
             [
              0,
              "#0d0887"
             ],
             [
              0.1111111111111111,
              "#46039f"
             ],
             [
              0.2222222222222222,
              "#7201a8"
             ],
             [
              0.3333333333333333,
              "#9c179e"
             ],
             [
              0.4444444444444444,
              "#bd3786"
             ],
             [
              0.5555555555555556,
              "#d8576b"
             ],
             [
              0.6666666666666666,
              "#ed7953"
             ],
             [
              0.7777777777777778,
              "#fb9f3a"
             ],
             [
              0.8888888888888888,
              "#fdca26"
             ],
             [
              1,
              "#f0f921"
             ]
            ],
            "type": "surface"
           }
          ],
          "table": [
           {
            "cells": {
             "fill": {
              "color": "#506784"
             },
             "line": {
              "color": "rgb(17,17,17)"
             }
            },
            "header": {
             "fill": {
              "color": "#2a3f5f"
             },
             "line": {
              "color": "rgb(17,17,17)"
             }
            },
            "type": "table"
           }
          ]
         },
         "layout": {
          "annotationdefaults": {
           "arrowcolor": "#f2f5fa",
           "arrowhead": 0,
           "arrowwidth": 1
          },
          "autotypenumbers": "strict",
          "coloraxis": {
           "colorbar": {
            "outlinewidth": 0,
            "ticks": ""
           }
          },
          "colorscale": {
           "diverging": [
            [
             0,
             "#8e0152"
            ],
            [
             0.1,
             "#c51b7d"
            ],
            [
             0.2,
             "#de77ae"
            ],
            [
             0.3,
             "#f1b6da"
            ],
            [
             0.4,
             "#fde0ef"
            ],
            [
             0.5,
             "#f7f7f7"
            ],
            [
             0.6,
             "#e6f5d0"
            ],
            [
             0.7,
             "#b8e186"
            ],
            [
             0.8,
             "#7fbc41"
            ],
            [
             0.9,
             "#4d9221"
            ],
            [
             1,
             "#276419"
            ]
           ],
           "sequential": [
            [
             0,
             "#0d0887"
            ],
            [
             0.1111111111111111,
             "#46039f"
            ],
            [
             0.2222222222222222,
             "#7201a8"
            ],
            [
             0.3333333333333333,
             "#9c179e"
            ],
            [
             0.4444444444444444,
             "#bd3786"
            ],
            [
             0.5555555555555556,
             "#d8576b"
            ],
            [
             0.6666666666666666,
             "#ed7953"
            ],
            [
             0.7777777777777778,
             "#fb9f3a"
            ],
            [
             0.8888888888888888,
             "#fdca26"
            ],
            [
             1,
             "#f0f921"
            ]
           ],
           "sequentialminus": [
            [
             0,
             "#0d0887"
            ],
            [
             0.1111111111111111,
             "#46039f"
            ],
            [
             0.2222222222222222,
             "#7201a8"
            ],
            [
             0.3333333333333333,
             "#9c179e"
            ],
            [
             0.4444444444444444,
             "#bd3786"
            ],
            [
             0.5555555555555556,
             "#d8576b"
            ],
            [
             0.6666666666666666,
             "#ed7953"
            ],
            [
             0.7777777777777778,
             "#fb9f3a"
            ],
            [
             0.8888888888888888,
             "#fdca26"
            ],
            [
             1,
             "#f0f921"
            ]
           ]
          },
          "colorway": [
           "#636efa",
           "#EF553B",
           "#00cc96",
           "#ab63fa",
           "#FFA15A",
           "#19d3f3",
           "#FF6692",
           "#B6E880",
           "#FF97FF",
           "#FECB52"
          ],
          "font": {
           "color": "#f2f5fa"
          },
          "geo": {
           "bgcolor": "rgb(17,17,17)",
           "lakecolor": "rgb(17,17,17)",
           "landcolor": "rgb(17,17,17)",
           "showlakes": true,
           "showland": true,
           "subunitcolor": "#506784"
          },
          "hoverlabel": {
           "align": "left"
          },
          "hovermode": "closest",
          "mapbox": {
           "style": "dark"
          },
          "paper_bgcolor": "rgb(17,17,17)",
          "plot_bgcolor": "rgb(17,17,17)",
          "polar": {
           "angularaxis": {
            "gridcolor": "#506784",
            "linecolor": "#506784",
            "ticks": ""
           },
           "bgcolor": "rgb(17,17,17)",
           "radialaxis": {
            "gridcolor": "#506784",
            "linecolor": "#506784",
            "ticks": ""
           }
          },
          "scene": {
           "xaxis": {
            "backgroundcolor": "rgb(17,17,17)",
            "gridcolor": "#506784",
            "gridwidth": 2,
            "linecolor": "#506784",
            "showbackground": true,
            "ticks": "",
            "zerolinecolor": "#C8D4E3"
           },
           "yaxis": {
            "backgroundcolor": "rgb(17,17,17)",
            "gridcolor": "#506784",
            "gridwidth": 2,
            "linecolor": "#506784",
            "showbackground": true,
            "ticks": "",
            "zerolinecolor": "#C8D4E3"
           },
           "zaxis": {
            "backgroundcolor": "rgb(17,17,17)",
            "gridcolor": "#506784",
            "gridwidth": 2,
            "linecolor": "#506784",
            "showbackground": true,
            "ticks": "",
            "zerolinecolor": "#C8D4E3"
           }
          },
          "shapedefaults": {
           "line": {
            "color": "#f2f5fa"
           }
          },
          "sliderdefaults": {
           "bgcolor": "#C8D4E3",
           "bordercolor": "rgb(17,17,17)",
           "borderwidth": 1,
           "tickwidth": 0
          },
          "ternary": {
           "aaxis": {
            "gridcolor": "#506784",
            "linecolor": "#506784",
            "ticks": ""
           },
           "baxis": {
            "gridcolor": "#506784",
            "linecolor": "#506784",
            "ticks": ""
           },
           "bgcolor": "rgb(17,17,17)",
           "caxis": {
            "gridcolor": "#506784",
            "linecolor": "#506784",
            "ticks": ""
           }
          },
          "title": {
           "x": 0.05
          },
          "updatemenudefaults": {
           "bgcolor": "#506784",
           "borderwidth": 0
          },
          "xaxis": {
           "automargin": true,
           "gridcolor": "#283442",
           "linecolor": "#506784",
           "ticks": "",
           "title": {
            "standoff": 15
           },
           "zerolinecolor": "#283442",
           "zerolinewidth": 2
          },
          "yaxis": {
           "automargin": true,
           "gridcolor": "#283442",
           "linecolor": "#506784",
           "ticks": "",
           "title": {
            "standoff": 15
           },
           "zerolinecolor": "#283442",
           "zerolinewidth": 2
          }
         }
        },
        "title": {
         "text": "Product line with City"
        },
        "xaxis": {
         "anchor": "y",
         "categoryarray": [
          "Fashion accessories",
          "Food and beverages",
          "Home and lifestyle",
          "Sports and travel",
          "Electronic accessories",
          "Health and beauty"
         ],
         "categoryorder": "array",
         "domain": [
          0,
          1
         ],
         "title": {
          "text": "Product line"
         }
        },
        "yaxis": {
         "anchor": "x",
         "domain": [
          0,
          1
         ],
         "title": {
          "text": "City"
         }
        }
       }
      },
      "text/html": [
       "<div>                            <div id=\"2e24c065-4e29-4a0e-9cb8-a02b61834a00\" class=\"plotly-graph-div\" style=\"height:525px; width:100%;\"></div>            <script type=\"text/javascript\">                require([\"plotly\"], function(Plotly) {                    window.PLOTLYENV=window.PLOTLYENV || {};                                    if (document.getElementById(\"2e24c065-4e29-4a0e-9cb8-a02b61834a00\")) {                    Plotly.newPlot(                        \"2e24c065-4e29-4a0e-9cb8-a02b61834a00\",                        [{\"alignmentgroup\":\"True\",\"hovertemplate\":\"Product line=%{x}<br>City=%{y}<extra></extra>\",\"legendgroup\":\"Fashion accessories\",\"marker\":{\"color\":\"#636efa\"},\"name\":\"Fashion accessories\",\"notched\":false,\"offsetgroup\":\"Fashion accessories\",\"orientation\":\"v\",\"showlegend\":true,\"x\":[\"Fashion accessories\",\"Fashion accessories\",\"Fashion accessories\",\"Fashion accessories\",\"Fashion accessories\",\"Fashion accessories\",\"Fashion accessories\",\"Fashion accessories\",\"Fashion accessories\",\"Fashion accessories\",\"Fashion accessories\",\"Fashion accessories\",\"Fashion accessories\",\"Fashion accessories\",\"Fashion accessories\",\"Fashion accessories\",\"Fashion accessories\",\"Fashion accessories\",\"Fashion accessories\",\"Fashion accessories\",\"Fashion accessories\",\"Fashion accessories\",\"Fashion accessories\",\"Fashion accessories\",\"Fashion accessories\",\"Fashion accessories\",\"Fashion accessories\",\"Fashion accessories\",\"Fashion accessories\",\"Fashion accessories\",\"Fashion accessories\",\"Fashion accessories\",\"Fashion accessories\",\"Fashion accessories\",\"Fashion accessories\",\"Fashion accessories\",\"Fashion accessories\"],\"x0\":\" \",\"xaxis\":\"x\",\"y\":[\"Tema\",\"Tema\",\"Accra\",\"Kumasi\",\"Accra\",\"Kumasi\",\"Accra\",\"Kumasi\",\"Tema\",\"Accra\",\"Tema\",\"Tema\",\"Tema\",\"Tema\",\"Accra\",\"Kumasi\",\"Accra\",\"Accra\",\"Kumasi\",\"Tema\",\"Kumasi\",\"Kumasi\",\"Tema\",\"Accra\",\"Tema\",\"Kumasi\",\"Kumasi\",\"Accra\",\"Tema\",\"Kumasi\",\"Tema\",\"Kumasi\",\"Tema\",\"Kumasi\",\"Tema\",\"Accra\",\"Tema\"],\"y0\":\" \",\"yaxis\":\"y\",\"type\":\"box\"},{\"alignmentgroup\":\"True\",\"hovertemplate\":\"Product line=%{x}<br>City=%{y}<extra></extra>\",\"legendgroup\":\"Food and beverages\",\"marker\":{\"color\":\"#EF553B\"},\"name\":\"Food and beverages\",\"notched\":false,\"offsetgroup\":\"Food and beverages\",\"orientation\":\"v\",\"showlegend\":true,\"x\":[\"Food and beverages\",\"Food and beverages\",\"Food and beverages\",\"Food and beverages\",\"Food and beverages\",\"Food and beverages\",\"Food and beverages\",\"Food and beverages\",\"Food and beverages\",\"Food and beverages\",\"Food and beverages\",\"Food and beverages\",\"Food and beverages\",\"Food and beverages\",\"Food and beverages\",\"Food and beverages\",\"Food and beverages\",\"Food and beverages\",\"Food and beverages\",\"Food and beverages\",\"Food and beverages\",\"Food and beverages\",\"Food and beverages\",\"Food and beverages\",\"Food and beverages\",\"Food and beverages\",\"Food and beverages\",\"Food and beverages\",\"Food and beverages\",\"Food and beverages\",\"Food and beverages\",\"Food and beverages\",\"Food and beverages\",\"Food and beverages\"],\"x0\":\" \",\"xaxis\":\"x\",\"y\":[\"Accra\",\"Kumasi\",\"Accra\",\"Tema\",\"Tema\",\"Tema\",\"Accra\",\"Kumasi\",\"Tema\",\"Tema\",\"Kumasi\",\"Accra\",\"Accra\",\"Kumasi\",\"Accra\",\"Accra\",\"Accra\",\"Tema\",\"Kumasi\",\"Tema\",\"Accra\",\"Tema\",\"Tema\",\"Accra\",\"Accra\",\"Kumasi\",\"Tema\",\"Accra\",\"Kumasi\",\"Tema\",\"Accra\",\"Accra\",\"Kumasi\",\"Accra\"],\"y0\":\" \",\"yaxis\":\"y\",\"type\":\"box\"},{\"alignmentgroup\":\"True\",\"hovertemplate\":\"Product line=%{x}<br>City=%{y}<extra></extra>\",\"legendgroup\":\"Home and lifestyle\",\"marker\":{\"color\":\"#00cc96\"},\"name\":\"Home and lifestyle\",\"notched\":false,\"offsetgroup\":\"Home and lifestyle\",\"orientation\":\"v\",\"showlegend\":true,\"x\":[\"Home and lifestyle\",\"Home and lifestyle\",\"Home and lifestyle\",\"Home and lifestyle\",\"Home and lifestyle\",\"Home and lifestyle\",\"Home and lifestyle\",\"Home and lifestyle\",\"Home and lifestyle\",\"Home and lifestyle\",\"Home and lifestyle\",\"Home and lifestyle\",\"Home and lifestyle\",\"Home and lifestyle\",\"Home and lifestyle\",\"Home and lifestyle\",\"Home and lifestyle\",\"Home and lifestyle\",\"Home and lifestyle\",\"Home and lifestyle\",\"Home and lifestyle\",\"Home and lifestyle\",\"Home and lifestyle\",\"Home and lifestyle\",\"Home and lifestyle\",\"Home and lifestyle\",\"Home and lifestyle\",\"Home and lifestyle\",\"Home and lifestyle\",\"Home and lifestyle\",\"Home and lifestyle\",\"Home and lifestyle\",\"Home and lifestyle\"],\"x0\":\" \",\"xaxis\":\"x\",\"y\":[\"Tema\",\"Tema\",\"Accra\",\"Kumasi\",\"Tema\",\"Tema\",\"Kumasi\",\"Accra\",\"Kumasi\",\"Accra\",\"Accra\",\"Tema\",\"Accra\",\"Tema\",\"Tema\",\"Kumasi\",\"Tema\",\"Kumasi\",\"Tema\",\"Tema\",\"Tema\",\"Kumasi\",\"Kumasi\",\"Accra\",\"Accra\",\"Accra\",\"Accra\",\"Kumasi\",\"Accra\",\"Kumasi\",\"Kumasi\",\"Tema\",\"Tema\"],\"y0\":\" \",\"yaxis\":\"y\",\"type\":\"box\"},{\"alignmentgroup\":\"True\",\"hovertemplate\":\"Product line=%{x}<br>City=%{y}<extra></extra>\",\"legendgroup\":\"Sports and travel\",\"marker\":{\"color\":\"#ab63fa\"},\"name\":\"Sports and travel\",\"notched\":false,\"offsetgroup\":\"Sports and travel\",\"orientation\":\"v\",\"showlegend\":true,\"x\":[\"Sports and travel\",\"Sports and travel\",\"Sports and travel\",\"Sports and travel\",\"Sports and travel\",\"Sports and travel\",\"Sports and travel\",\"Sports and travel\",\"Sports and travel\",\"Sports and travel\",\"Sports and travel\",\"Sports and travel\",\"Sports and travel\",\"Sports and travel\",\"Sports and travel\",\"Sports and travel\",\"Sports and travel\",\"Sports and travel\",\"Sports and travel\",\"Sports and travel\",\"Sports and travel\",\"Sports and travel\",\"Sports and travel\",\"Sports and travel\",\"Sports and travel\",\"Sports and travel\",\"Sports and travel\",\"Sports and travel\",\"Sports and travel\",\"Sports and travel\",\"Sports and travel\",\"Sports and travel\",\"Sports and travel\",\"Sports and travel\"],\"x0\":\" \",\"xaxis\":\"x\",\"y\":[\"Accra\",\"Kumasi\",\"Kumasi\",\"Tema\",\"Tema\",\"Tema\",\"Kumasi\",\"Accra\",\"Tema\",\"Tema\",\"Tema\",\"Kumasi\",\"Tema\",\"Kumasi\",\"Tema\",\"Tema\",\"Kumasi\",\"Tema\",\"Kumasi\",\"Tema\",\"Tema\",\"Accra\",\"Tema\",\"Tema\",\"Kumasi\",\"Tema\",\"Kumasi\",\"Accra\",\"Accra\",\"Tema\",\"Accra\",\"Kumasi\",\"Accra\",\"Kumasi\"],\"y0\":\" \",\"yaxis\":\"y\",\"type\":\"box\"},{\"alignmentgroup\":\"True\",\"hovertemplate\":\"Product line=%{x}<br>City=%{y}<extra></extra>\",\"legendgroup\":\"Electronic accessories\",\"marker\":{\"color\":\"#FFA15A\"},\"name\":\"Electronic accessories\",\"notched\":false,\"offsetgroup\":\"Electronic accessories\",\"orientation\":\"v\",\"showlegend\":true,\"x\":[\"Electronic accessories\",\"Electronic accessories\",\"Electronic accessories\",\"Electronic accessories\",\"Electronic accessories\",\"Electronic accessories\",\"Electronic accessories\",\"Electronic accessories\",\"Electronic accessories\",\"Electronic accessories\",\"Electronic accessories\",\"Electronic accessories\",\"Electronic accessories\",\"Electronic accessories\",\"Electronic accessories\",\"Electronic accessories\",\"Electronic accessories\",\"Electronic accessories\",\"Electronic accessories\",\"Electronic accessories\",\"Electronic accessories\",\"Electronic accessories\",\"Electronic accessories\",\"Electronic accessories\",\"Electronic accessories\",\"Electronic accessories\",\"Electronic accessories\",\"Electronic accessories\",\"Electronic accessories\",\"Electronic accessories\",\"Electronic accessories\",\"Electronic accessories\"],\"x0\":\" \",\"xaxis\":\"x\",\"y\":[\"Accra\",\"Tema\",\"Kumasi\",\"Tema\",\"Kumasi\",\"Tema\",\"Accra\",\"Accra\",\"Kumasi\",\"Kumasi\",\"Accra\",\"Tema\",\"Kumasi\",\"Kumasi\",\"Tema\",\"Accra\",\"Accra\",\"Tema\",\"Accra\",\"Accra\",\"Tema\",\"Kumasi\",\"Tema\",\"Tema\",\"Tema\",\"Accra\",\"Accra\",\"Tema\",\"Accra\",\"Tema\",\"Tema\",\"Tema\"],\"y0\":\" \",\"yaxis\":\"y\",\"type\":\"box\"},{\"alignmentgroup\":\"True\",\"hovertemplate\":\"Product line=%{x}<br>City=%{y}<extra></extra>\",\"legendgroup\":\"Health and beauty\",\"marker\":{\"color\":\"#19d3f3\"},\"name\":\"Health and beauty\",\"notched\":false,\"offsetgroup\":\"Health and beauty\",\"orientation\":\"v\",\"showlegend\":true,\"x\":[\"Health and beauty\",\"Health and beauty\",\"Health and beauty\",\"Health and beauty\",\"Health and beauty\",\"Health and beauty\",\"Health and beauty\",\"Health and beauty\",\"Health and beauty\",\"Health and beauty\",\"Health and beauty\",\"Health and beauty\",\"Health and beauty\",\"Health and beauty\",\"Health and beauty\",\"Health and beauty\",\"Health and beauty\",\"Health and beauty\",\"Health and beauty\",\"Health and beauty\",\"Health and beauty\",\"Health and beauty\",\"Health and beauty\",\"Health and beauty\",\"Health and beauty\",\"Health and beauty\",\"Health and beauty\",\"Health and beauty\"],\"x0\":\" \",\"xaxis\":\"x\",\"y\":[\"Tema\",\"Tema\",\"Accra\",\"Accra\",\"Kumasi\",\"Accra\",\"Accra\",\"Accra\",\"Tema\",\"Kumasi\",\"Accra\",\"Kumasi\",\"Accra\",\"Tema\",\"Kumasi\",\"Tema\",\"Tema\",\"Accra\",\"Kumasi\",\"Tema\",\"Kumasi\",\"Kumasi\",\"Accra\",\"Accra\",\"Kumasi\",\"Kumasi\",\"Tema\",\"Tema\"],\"y0\":\" \",\"yaxis\":\"y\",\"type\":\"box\"}],                        {\"template\":{\"data\":{\"barpolar\":[{\"marker\":{\"line\":{\"color\":\"rgb(17,17,17)\",\"width\":0.5},\"pattern\":{\"fillmode\":\"overlay\",\"size\":10,\"solidity\":0.2}},\"type\":\"barpolar\"}],\"bar\":[{\"error_x\":{\"color\":\"#f2f5fa\"},\"error_y\":{\"color\":\"#f2f5fa\"},\"marker\":{\"line\":{\"color\":\"rgb(17,17,17)\",\"width\":0.5},\"pattern\":{\"fillmode\":\"overlay\",\"size\":10,\"solidity\":0.2}},\"type\":\"bar\"}],\"carpet\":[{\"aaxis\":{\"endlinecolor\":\"#A2B1C6\",\"gridcolor\":\"#506784\",\"linecolor\":\"#506784\",\"minorgridcolor\":\"#506784\",\"startlinecolor\":\"#A2B1C6\"},\"baxis\":{\"endlinecolor\":\"#A2B1C6\",\"gridcolor\":\"#506784\",\"linecolor\":\"#506784\",\"minorgridcolor\":\"#506784\",\"startlinecolor\":\"#A2B1C6\"},\"type\":\"carpet\"}],\"choropleth\":[{\"colorbar\":{\"outlinewidth\":0,\"ticks\":\"\"},\"type\":\"choropleth\"}],\"contourcarpet\":[{\"colorbar\":{\"outlinewidth\":0,\"ticks\":\"\"},\"type\":\"contourcarpet\"}],\"contour\":[{\"colorbar\":{\"outlinewidth\":0,\"ticks\":\"\"},\"colorscale\":[[0.0,\"#0d0887\"],[0.1111111111111111,\"#46039f\"],[0.2222222222222222,\"#7201a8\"],[0.3333333333333333,\"#9c179e\"],[0.4444444444444444,\"#bd3786\"],[0.5555555555555556,\"#d8576b\"],[0.6666666666666666,\"#ed7953\"],[0.7777777777777778,\"#fb9f3a\"],[0.8888888888888888,\"#fdca26\"],[1.0,\"#f0f921\"]],\"type\":\"contour\"}],\"heatmapgl\":[{\"colorbar\":{\"outlinewidth\":0,\"ticks\":\"\"},\"colorscale\":[[0.0,\"#0d0887\"],[0.1111111111111111,\"#46039f\"],[0.2222222222222222,\"#7201a8\"],[0.3333333333333333,\"#9c179e\"],[0.4444444444444444,\"#bd3786\"],[0.5555555555555556,\"#d8576b\"],[0.6666666666666666,\"#ed7953\"],[0.7777777777777778,\"#fb9f3a\"],[0.8888888888888888,\"#fdca26\"],[1.0,\"#f0f921\"]],\"type\":\"heatmapgl\"}],\"heatmap\":[{\"colorbar\":{\"outlinewidth\":0,\"ticks\":\"\"},\"colorscale\":[[0.0,\"#0d0887\"],[0.1111111111111111,\"#46039f\"],[0.2222222222222222,\"#7201a8\"],[0.3333333333333333,\"#9c179e\"],[0.4444444444444444,\"#bd3786\"],[0.5555555555555556,\"#d8576b\"],[0.6666666666666666,\"#ed7953\"],[0.7777777777777778,\"#fb9f3a\"],[0.8888888888888888,\"#fdca26\"],[1.0,\"#f0f921\"]],\"type\":\"heatmap\"}],\"histogram2dcontour\":[{\"colorbar\":{\"outlinewidth\":0,\"ticks\":\"\"},\"colorscale\":[[0.0,\"#0d0887\"],[0.1111111111111111,\"#46039f\"],[0.2222222222222222,\"#7201a8\"],[0.3333333333333333,\"#9c179e\"],[0.4444444444444444,\"#bd3786\"],[0.5555555555555556,\"#d8576b\"],[0.6666666666666666,\"#ed7953\"],[0.7777777777777778,\"#fb9f3a\"],[0.8888888888888888,\"#fdca26\"],[1.0,\"#f0f921\"]],\"type\":\"histogram2dcontour\"}],\"histogram2d\":[{\"colorbar\":{\"outlinewidth\":0,\"ticks\":\"\"},\"colorscale\":[[0.0,\"#0d0887\"],[0.1111111111111111,\"#46039f\"],[0.2222222222222222,\"#7201a8\"],[0.3333333333333333,\"#9c179e\"],[0.4444444444444444,\"#bd3786\"],[0.5555555555555556,\"#d8576b\"],[0.6666666666666666,\"#ed7953\"],[0.7777777777777778,\"#fb9f3a\"],[0.8888888888888888,\"#fdca26\"],[1.0,\"#f0f921\"]],\"type\":\"histogram2d\"}],\"histogram\":[{\"marker\":{\"pattern\":{\"fillmode\":\"overlay\",\"size\":10,\"solidity\":0.2}},\"type\":\"histogram\"}],\"mesh3d\":[{\"colorbar\":{\"outlinewidth\":0,\"ticks\":\"\"},\"type\":\"mesh3d\"}],\"parcoords\":[{\"line\":{\"colorbar\":{\"outlinewidth\":0,\"ticks\":\"\"}},\"type\":\"parcoords\"}],\"pie\":[{\"automargin\":true,\"type\":\"pie\"}],\"scatter3d\":[{\"line\":{\"colorbar\":{\"outlinewidth\":0,\"ticks\":\"\"}},\"marker\":{\"colorbar\":{\"outlinewidth\":0,\"ticks\":\"\"}},\"type\":\"scatter3d\"}],\"scattercarpet\":[{\"marker\":{\"colorbar\":{\"outlinewidth\":0,\"ticks\":\"\"}},\"type\":\"scattercarpet\"}],\"scattergeo\":[{\"marker\":{\"colorbar\":{\"outlinewidth\":0,\"ticks\":\"\"}},\"type\":\"scattergeo\"}],\"scattergl\":[{\"marker\":{\"line\":{\"color\":\"#283442\"}},\"type\":\"scattergl\"}],\"scattermapbox\":[{\"marker\":{\"colorbar\":{\"outlinewidth\":0,\"ticks\":\"\"}},\"type\":\"scattermapbox\"}],\"scatterpolargl\":[{\"marker\":{\"colorbar\":{\"outlinewidth\":0,\"ticks\":\"\"}},\"type\":\"scatterpolargl\"}],\"scatterpolar\":[{\"marker\":{\"colorbar\":{\"outlinewidth\":0,\"ticks\":\"\"}},\"type\":\"scatterpolar\"}],\"scatter\":[{\"marker\":{\"line\":{\"color\":\"#283442\"}},\"type\":\"scatter\"}],\"scatterternary\":[{\"marker\":{\"colorbar\":{\"outlinewidth\":0,\"ticks\":\"\"}},\"type\":\"scatterternary\"}],\"surface\":[{\"colorbar\":{\"outlinewidth\":0,\"ticks\":\"\"},\"colorscale\":[[0.0,\"#0d0887\"],[0.1111111111111111,\"#46039f\"],[0.2222222222222222,\"#7201a8\"],[0.3333333333333333,\"#9c179e\"],[0.4444444444444444,\"#bd3786\"],[0.5555555555555556,\"#d8576b\"],[0.6666666666666666,\"#ed7953\"],[0.7777777777777778,\"#fb9f3a\"],[0.8888888888888888,\"#fdca26\"],[1.0,\"#f0f921\"]],\"type\":\"surface\"}],\"table\":[{\"cells\":{\"fill\":{\"color\":\"#506784\"},\"line\":{\"color\":\"rgb(17,17,17)\"}},\"header\":{\"fill\":{\"color\":\"#2a3f5f\"},\"line\":{\"color\":\"rgb(17,17,17)\"}},\"type\":\"table\"}]},\"layout\":{\"annotationdefaults\":{\"arrowcolor\":\"#f2f5fa\",\"arrowhead\":0,\"arrowwidth\":1},\"autotypenumbers\":\"strict\",\"coloraxis\":{\"colorbar\":{\"outlinewidth\":0,\"ticks\":\"\"}},\"colorscale\":{\"diverging\":[[0,\"#8e0152\"],[0.1,\"#c51b7d\"],[0.2,\"#de77ae\"],[0.3,\"#f1b6da\"],[0.4,\"#fde0ef\"],[0.5,\"#f7f7f7\"],[0.6,\"#e6f5d0\"],[0.7,\"#b8e186\"],[0.8,\"#7fbc41\"],[0.9,\"#4d9221\"],[1,\"#276419\"]],\"sequential\":[[0.0,\"#0d0887\"],[0.1111111111111111,\"#46039f\"],[0.2222222222222222,\"#7201a8\"],[0.3333333333333333,\"#9c179e\"],[0.4444444444444444,\"#bd3786\"],[0.5555555555555556,\"#d8576b\"],[0.6666666666666666,\"#ed7953\"],[0.7777777777777778,\"#fb9f3a\"],[0.8888888888888888,\"#fdca26\"],[1.0,\"#f0f921\"]],\"sequentialminus\":[[0.0,\"#0d0887\"],[0.1111111111111111,\"#46039f\"],[0.2222222222222222,\"#7201a8\"],[0.3333333333333333,\"#9c179e\"],[0.4444444444444444,\"#bd3786\"],[0.5555555555555556,\"#d8576b\"],[0.6666666666666666,\"#ed7953\"],[0.7777777777777778,\"#fb9f3a\"],[0.8888888888888888,\"#fdca26\"],[1.0,\"#f0f921\"]]},\"colorway\":[\"#636efa\",\"#EF553B\",\"#00cc96\",\"#ab63fa\",\"#FFA15A\",\"#19d3f3\",\"#FF6692\",\"#B6E880\",\"#FF97FF\",\"#FECB52\"],\"font\":{\"color\":\"#f2f5fa\"},\"geo\":{\"bgcolor\":\"rgb(17,17,17)\",\"lakecolor\":\"rgb(17,17,17)\",\"landcolor\":\"rgb(17,17,17)\",\"showlakes\":true,\"showland\":true,\"subunitcolor\":\"#506784\"},\"hoverlabel\":{\"align\":\"left\"},\"hovermode\":\"closest\",\"mapbox\":{\"style\":\"dark\"},\"paper_bgcolor\":\"rgb(17,17,17)\",\"plot_bgcolor\":\"rgb(17,17,17)\",\"polar\":{\"angularaxis\":{\"gridcolor\":\"#506784\",\"linecolor\":\"#506784\",\"ticks\":\"\"},\"bgcolor\":\"rgb(17,17,17)\",\"radialaxis\":{\"gridcolor\":\"#506784\",\"linecolor\":\"#506784\",\"ticks\":\"\"}},\"scene\":{\"xaxis\":{\"backgroundcolor\":\"rgb(17,17,17)\",\"gridcolor\":\"#506784\",\"gridwidth\":2,\"linecolor\":\"#506784\",\"showbackground\":true,\"ticks\":\"\",\"zerolinecolor\":\"#C8D4E3\"},\"yaxis\":{\"backgroundcolor\":\"rgb(17,17,17)\",\"gridcolor\":\"#506784\",\"gridwidth\":2,\"linecolor\":\"#506784\",\"showbackground\":true,\"ticks\":\"\",\"zerolinecolor\":\"#C8D4E3\"},\"zaxis\":{\"backgroundcolor\":\"rgb(17,17,17)\",\"gridcolor\":\"#506784\",\"gridwidth\":2,\"linecolor\":\"#506784\",\"showbackground\":true,\"ticks\":\"\",\"zerolinecolor\":\"#C8D4E3\"}},\"shapedefaults\":{\"line\":{\"color\":\"#f2f5fa\"}},\"sliderdefaults\":{\"bgcolor\":\"#C8D4E3\",\"bordercolor\":\"rgb(17,17,17)\",\"borderwidth\":1,\"tickwidth\":0},\"ternary\":{\"aaxis\":{\"gridcolor\":\"#506784\",\"linecolor\":\"#506784\",\"ticks\":\"\"},\"baxis\":{\"gridcolor\":\"#506784\",\"linecolor\":\"#506784\",\"ticks\":\"\"},\"bgcolor\":\"rgb(17,17,17)\",\"caxis\":{\"gridcolor\":\"#506784\",\"linecolor\":\"#506784\",\"ticks\":\"\"}},\"title\":{\"x\":0.05},\"updatemenudefaults\":{\"bgcolor\":\"#506784\",\"borderwidth\":0},\"xaxis\":{\"automargin\":true,\"gridcolor\":\"#283442\",\"linecolor\":\"#506784\",\"ticks\":\"\",\"title\":{\"standoff\":15},\"zerolinecolor\":\"#283442\",\"zerolinewidth\":2},\"yaxis\":{\"automargin\":true,\"gridcolor\":\"#283442\",\"linecolor\":\"#506784\",\"ticks\":\"\",\"title\":{\"standoff\":15},\"zerolinecolor\":\"#283442\",\"zerolinewidth\":2}}},\"xaxis\":{\"anchor\":\"y\",\"domain\":[0.0,1.0],\"title\":{\"text\":\"Product line\"},\"categoryorder\":\"array\",\"categoryarray\":[\"Fashion accessories\",\"Food and beverages\",\"Home and lifestyle\",\"Sports and travel\",\"Electronic accessories\",\"Health and beauty\"]},\"yaxis\":{\"anchor\":\"x\",\"domain\":[0.0,1.0],\"title\":{\"text\":\"City\"}},\"legend\":{\"title\":{\"text\":\"Product line\"},\"tracegroupgap\":0},\"title\":{\"text\":\"Product line with City\"},\"boxmode\":\"overlay\"},                        {\"responsive\": true}                    ).then(function(){\n",
       "                            \n",
       "var gd = document.getElementById('2e24c065-4e29-4a0e-9cb8-a02b61834a00');\n",
       "var x = new MutationObserver(function (mutations, observer) {{\n",
       "        var display = window.getComputedStyle(gd).display;\n",
       "        if (!display || display === 'none') {{\n",
       "            console.log([gd, 'removed!']);\n",
       "            Plotly.purge(gd);\n",
       "            observer.disconnect();\n",
       "        }}\n",
       "}});\n",
       "\n",
       "// Listen for the removal of the full notebook cells\n",
       "var notebookContainer = gd.closest('#notebook-container');\n",
       "if (notebookContainer) {{\n",
       "    x.observe(notebookContainer, {childList: true});\n",
       "}}\n",
       "\n",
       "// Listen for the clearing of the current output cell\n",
       "var outputEl = gd.closest('.output');\n",
       "if (outputEl) {{\n",
       "    x.observe(outputEl, {childList: true});\n",
       "}}\n",
       "\n",
       "                        })                };                });            </script>        </div>"
      ]
     },
     "metadata": {},
     "output_type": "display_data"
    }
   ],
   "source": [
    "figure=px.box(df,x='Product line',color='Product line',y='City',template='plotly_dark',title='Product line with City')\n",
    "figure.show()"
   ]
  },
  {
   "cell_type": "code",
   "execution_count": 101,
   "id": "842d966b",
   "metadata": {},
   "outputs": [
    {
     "data": {
      "application/vnd.plotly.v1+json": {
       "config": {
        "plotlyServerURL": "https://plot.ly"
       },
       "data": [
        {
         "alignmentgroup": "True",
         "hovertemplate": "Product line=%{x}<br>Tax 5%=%{y}<extra></extra>",
         "legendgroup": "Fashion accessories",
         "marker": {
          "color": "#636efa"
         },
         "name": "Fashion accessories",
         "notched": false,
         "offsetgroup": "Fashion accessories",
         "orientation": "v",
         "showlegend": true,
         "type": "box",
         "x": [
          "Fashion accessories",
          "Fashion accessories",
          "Fashion accessories",
          "Fashion accessories",
          "Fashion accessories",
          "Fashion accessories",
          "Fashion accessories",
          "Fashion accessories",
          "Fashion accessories",
          "Fashion accessories",
          "Fashion accessories",
          "Fashion accessories",
          "Fashion accessories",
          "Fashion accessories",
          "Fashion accessories",
          "Fashion accessories",
          "Fashion accessories",
          "Fashion accessories",
          "Fashion accessories",
          "Fashion accessories",
          "Fashion accessories",
          "Fashion accessories",
          "Fashion accessories",
          "Fashion accessories",
          "Fashion accessories",
          "Fashion accessories",
          "Fashion accessories",
          "Fashion accessories",
          "Fashion accessories",
          "Fashion accessories",
          "Fashion accessories",
          "Fashion accessories",
          "Fashion accessories",
          "Fashion accessories",
          "Fashion accessories",
          "Fashion accessories",
          "Fashion accessories"
         ],
         "x0": " ",
         "xaxis": "x",
         "y": [
          34.38,
          1.066,
          16.4295,
          2.6175,
          4.992,
          3.2495,
          23.5325,
          49.65,
          25.011,
          41.625,
          30.919,
          8.191,
          14.8995,
          3.705,
          2.372,
          16.336,
          9.9375,
          5.244,
          3.29,
          2.619,
          11.409,
          31.06,
          7.43,
          13.983,
          6.807,
          21.259,
          0.7715,
          7.39,
          6.192,
          6.248,
          22.032,
          8.335,
          0.985,
          11.055,
          18.934,
          8.5905,
          37.458
         ],
         "y0": " ",
         "yaxis": "y"
        },
        {
         "alignmentgroup": "True",
         "hovertemplate": "Product line=%{x}<br>Tax 5%=%{y}<extra></extra>",
         "legendgroup": "Food and beverages",
         "marker": {
          "color": "#EF553B"
         },
         "name": "Food and beverages",
         "notched": false,
         "offsetgroup": "Food and beverages",
         "orientation": "v",
         "showlegend": true,
         "type": "box",
         "x": [
          "Food and beverages",
          "Food and beverages",
          "Food and beverages",
          "Food and beverages",
          "Food and beverages",
          "Food and beverages",
          "Food and beverages",
          "Food and beverages",
          "Food and beverages",
          "Food and beverages",
          "Food and beverages",
          "Food and beverages",
          "Food and beverages",
          "Food and beverages",
          "Food and beverages",
          "Food and beverages",
          "Food and beverages",
          "Food and beverages",
          "Food and beverages",
          "Food and beverages",
          "Food and beverages",
          "Food and beverages",
          "Food and beverages",
          "Food and beverages",
          "Food and beverages",
          "Food and beverages",
          "Food and beverages",
          "Food and beverages",
          "Food and beverages",
          "Food and beverages",
          "Food and beverages",
          "Food and beverages",
          "Food and beverages",
          "Food and beverages"
         ],
         "x0": " ",
         "xaxis": "x",
         "y": [
          2.712,
          17.272,
          17.828,
          14.14,
          8.687,
          3.5575,
          24.9225,
          44.6,
          7.9125,
          4.0355,
          27.072,
          25.215,
          14.502,
          32.796,
          20.9475,
          38.6,
          3.56,
          13.552,
          39.155,
          29.559,
          27.18,
          24.945,
          15.384,
          3.333,
          8.601,
          16.072,
          24.186,
          25.571,
          4.208,
          23.0725,
          8.661,
          8.448,
          1.079,
          42.315
         ],
         "y0": " ",
         "yaxis": "y"
        },
        {
         "alignmentgroup": "True",
         "hovertemplate": "Product line=%{x}<br>Tax 5%=%{y}<extra></extra>",
         "legendgroup": "Home and lifestyle",
         "marker": {
          "color": "#00cc96"
         },
         "name": "Home and lifestyle",
         "notched": false,
         "offsetgroup": "Home and lifestyle",
         "orientation": "v",
         "showlegend": true,
         "type": "box",
         "x": [
          "Home and lifestyle",
          "Home and lifestyle",
          "Home and lifestyle",
          "Home and lifestyle",
          "Home and lifestyle",
          "Home and lifestyle",
          "Home and lifestyle",
          "Home and lifestyle",
          "Home and lifestyle",
          "Home and lifestyle",
          "Home and lifestyle",
          "Home and lifestyle",
          "Home and lifestyle",
          "Home and lifestyle",
          "Home and lifestyle",
          "Home and lifestyle",
          "Home and lifestyle",
          "Home and lifestyle",
          "Home and lifestyle",
          "Home and lifestyle",
          "Home and lifestyle",
          "Home and lifestyle",
          "Home and lifestyle",
          "Home and lifestyle",
          "Home and lifestyle",
          "Home and lifestyle",
          "Home and lifestyle",
          "Home and lifestyle",
          "Home and lifestyle",
          "Home and lifestyle",
          "Home and lifestyle",
          "Home and lifestyle",
          "Home and lifestyle"
         ],
         "x0": " ",
         "xaxis": "x",
         "y": [
          7.08,
          3.429,
          9.909,
          7.9,
          7.995,
          1.2645,
          4.3135,
          15.921,
          1.273,
          20.51,
          6.35,
          15.228,
          12.438,
          36.175,
          22.84,
          7.094,
          42.282,
          16.719,
          35.516,
          0.914,
          21.8425,
          8.484,
          4.4305,
          12.048,
          10.3455,
          6.618,
          18.32,
          25.131,
          6.1155,
          48.75,
          9.076,
          5.662,
          6.456
         ],
         "y0": " ",
         "yaxis": "y"
        },
        {
         "alignmentgroup": "True",
         "hovertemplate": "Product line=%{x}<br>Tax 5%=%{y}<extra></extra>",
         "legendgroup": "Sports and travel",
         "marker": {
          "color": "#ab63fa"
         },
         "name": "Sports and travel",
         "notched": false,
         "offsetgroup": "Sports and travel",
         "orientation": "v",
         "showlegend": true,
         "type": "box",
         "x": [
          "Sports and travel",
          "Sports and travel",
          "Sports and travel",
          "Sports and travel",
          "Sports and travel",
          "Sports and travel",
          "Sports and travel",
          "Sports and travel",
          "Sports and travel",
          "Sports and travel",
          "Sports and travel",
          "Sports and travel",
          "Sports and travel",
          "Sports and travel",
          "Sports and travel",
          "Sports and travel",
          "Sports and travel",
          "Sports and travel",
          "Sports and travel",
          "Sports and travel",
          "Sports and travel",
          "Sports and travel",
          "Sports and travel",
          "Sports and travel",
          "Sports and travel",
          "Sports and travel",
          "Sports and travel",
          "Sports and travel",
          "Sports and travel",
          "Sports and travel",
          "Sports and travel",
          "Sports and travel",
          "Sports and travel",
          "Sports and travel"
         ],
         "x0": " ",
         "xaxis": "x",
         "y": [
          10.3635,
          29.099,
          1.439,
          13.452,
          38.46,
          11.28,
          27.275,
          4.669,
          7.693,
          8.0625,
          12.245,
          1.119,
          3.947,
          1.549,
          12.918,
          7.75,
          5.999,
          1.276,
          3.675,
          22.01,
          44.1405,
          2.531,
          6.9825,
          6.087,
          16.2425,
          27.639,
          0.5085,
          16.8575,
          6.483,
          21.783,
          22.428,
          44.658,
          6.903,
          8.716
         ],
         "y0": " ",
         "yaxis": "y"
        },
        {
         "alignmentgroup": "True",
         "hovertemplate": "Product line=%{x}<br>Tax 5%=%{y}<extra></extra>",
         "legendgroup": "Electronic accessories",
         "marker": {
          "color": "#FFA15A"
         },
         "name": "Electronic accessories",
         "notched": false,
         "offsetgroup": "Electronic accessories",
         "orientation": "v",
         "showlegend": true,
         "type": "box",
         "x": [
          "Electronic accessories",
          "Electronic accessories",
          "Electronic accessories",
          "Electronic accessories",
          "Electronic accessories",
          "Electronic accessories",
          "Electronic accessories",
          "Electronic accessories",
          "Electronic accessories",
          "Electronic accessories",
          "Electronic accessories",
          "Electronic accessories",
          "Electronic accessories",
          "Electronic accessories",
          "Electronic accessories",
          "Electronic accessories",
          "Electronic accessories",
          "Electronic accessories",
          "Electronic accessories",
          "Electronic accessories",
          "Electronic accessories",
          "Electronic accessories",
          "Electronic accessories",
          "Electronic accessories",
          "Electronic accessories",
          "Electronic accessories",
          "Electronic accessories",
          "Electronic accessories",
          "Electronic accessories",
          "Electronic accessories",
          "Electronic accessories",
          "Electronic accessories"
         ],
         "x0": " ",
         "xaxis": "x",
         "y": [
          22.413,
          1180.35,
          28.756,
          36.735,
          3.735,
          31.311,
          26.395,
          12.21,
          40.985,
          8.425,
          11.475,
          33.777,
          22.773,
          21.9775,
          18.0915,
          8.6,
          34.0155,
          8.1775,
          44.8785,
          15.135,
          22.74,
          16.344,
          8.71,
          14.067,
          15.544,
          5.567,
          14.296,
          19.448,
          4.84,
          22.353,
          5.803,
          8.827
         ],
         "y0": " ",
         "yaxis": "y"
        },
        {
         "alignmentgroup": "True",
         "hovertemplate": "Product line=%{x}<br>Tax 5%=%{y}<extra></extra>",
         "legendgroup": "Health and beauty",
         "marker": {
          "color": "#19d3f3"
         },
         "name": "Health and beauty",
         "notched": false,
         "offsetgroup": "Health and beauty",
         "orientation": "v",
         "showlegend": true,
         "type": "box",
         "x": [
          "Health and beauty",
          "Health and beauty",
          "Health and beauty",
          "Health and beauty",
          "Health and beauty",
          "Health and beauty",
          "Health and beauty",
          "Health and beauty",
          "Health and beauty",
          "Health and beauty",
          "Health and beauty",
          "Health and beauty",
          "Health and beauty",
          "Health and beauty",
          "Health and beauty",
          "Health and beauty",
          "Health and beauty",
          "Health and beauty",
          "Health and beauty",
          "Health and beauty",
          "Health and beauty",
          "Health and beauty",
          "Health and beauty",
          "Health and beauty",
          "Health and beauty",
          "Health and beauty",
          "Health and beauty",
          "Health and beauty"
         ],
         "x0": " ",
         "xaxis": "x",
         "y": [
          3.987,
          7.935,
          12.95,
          26.915,
          29.757,
          19.232,
          15.148,
          20.72,
          11.2005,
          4.37,
          5.722,
          3.347,
          31.2165,
          35.69,
          13.724,
          11.63,
          12.854,
          12.318,
          2.7475,
          11.1,
          8.814,
          21.063,
          43.935,
          1.476,
          30.0545,
          5.095,
          26.1415,
          10.3635
         ],
         "y0": " ",
         "yaxis": "y"
        }
       ],
       "layout": {
        "boxmode": "overlay",
        "legend": {
         "title": {
          "text": "Product line"
         },
         "tracegroupgap": 0
        },
        "template": {
         "data": {
          "bar": [
           {
            "error_x": {
             "color": "#f2f5fa"
            },
            "error_y": {
             "color": "#f2f5fa"
            },
            "marker": {
             "line": {
              "color": "rgb(17,17,17)",
              "width": 0.5
             },
             "pattern": {
              "fillmode": "overlay",
              "size": 10,
              "solidity": 0.2
             }
            },
            "type": "bar"
           }
          ],
          "barpolar": [
           {
            "marker": {
             "line": {
              "color": "rgb(17,17,17)",
              "width": 0.5
             },
             "pattern": {
              "fillmode": "overlay",
              "size": 10,
              "solidity": 0.2
             }
            },
            "type": "barpolar"
           }
          ],
          "carpet": [
           {
            "aaxis": {
             "endlinecolor": "#A2B1C6",
             "gridcolor": "#506784",
             "linecolor": "#506784",
             "minorgridcolor": "#506784",
             "startlinecolor": "#A2B1C6"
            },
            "baxis": {
             "endlinecolor": "#A2B1C6",
             "gridcolor": "#506784",
             "linecolor": "#506784",
             "minorgridcolor": "#506784",
             "startlinecolor": "#A2B1C6"
            },
            "type": "carpet"
           }
          ],
          "choropleth": [
           {
            "colorbar": {
             "outlinewidth": 0,
             "ticks": ""
            },
            "type": "choropleth"
           }
          ],
          "contour": [
           {
            "colorbar": {
             "outlinewidth": 0,
             "ticks": ""
            },
            "colorscale": [
             [
              0,
              "#0d0887"
             ],
             [
              0.1111111111111111,
              "#46039f"
             ],
             [
              0.2222222222222222,
              "#7201a8"
             ],
             [
              0.3333333333333333,
              "#9c179e"
             ],
             [
              0.4444444444444444,
              "#bd3786"
             ],
             [
              0.5555555555555556,
              "#d8576b"
             ],
             [
              0.6666666666666666,
              "#ed7953"
             ],
             [
              0.7777777777777778,
              "#fb9f3a"
             ],
             [
              0.8888888888888888,
              "#fdca26"
             ],
             [
              1,
              "#f0f921"
             ]
            ],
            "type": "contour"
           }
          ],
          "contourcarpet": [
           {
            "colorbar": {
             "outlinewidth": 0,
             "ticks": ""
            },
            "type": "contourcarpet"
           }
          ],
          "heatmap": [
           {
            "colorbar": {
             "outlinewidth": 0,
             "ticks": ""
            },
            "colorscale": [
             [
              0,
              "#0d0887"
             ],
             [
              0.1111111111111111,
              "#46039f"
             ],
             [
              0.2222222222222222,
              "#7201a8"
             ],
             [
              0.3333333333333333,
              "#9c179e"
             ],
             [
              0.4444444444444444,
              "#bd3786"
             ],
             [
              0.5555555555555556,
              "#d8576b"
             ],
             [
              0.6666666666666666,
              "#ed7953"
             ],
             [
              0.7777777777777778,
              "#fb9f3a"
             ],
             [
              0.8888888888888888,
              "#fdca26"
             ],
             [
              1,
              "#f0f921"
             ]
            ],
            "type": "heatmap"
           }
          ],
          "heatmapgl": [
           {
            "colorbar": {
             "outlinewidth": 0,
             "ticks": ""
            },
            "colorscale": [
             [
              0,
              "#0d0887"
             ],
             [
              0.1111111111111111,
              "#46039f"
             ],
             [
              0.2222222222222222,
              "#7201a8"
             ],
             [
              0.3333333333333333,
              "#9c179e"
             ],
             [
              0.4444444444444444,
              "#bd3786"
             ],
             [
              0.5555555555555556,
              "#d8576b"
             ],
             [
              0.6666666666666666,
              "#ed7953"
             ],
             [
              0.7777777777777778,
              "#fb9f3a"
             ],
             [
              0.8888888888888888,
              "#fdca26"
             ],
             [
              1,
              "#f0f921"
             ]
            ],
            "type": "heatmapgl"
           }
          ],
          "histogram": [
           {
            "marker": {
             "pattern": {
              "fillmode": "overlay",
              "size": 10,
              "solidity": 0.2
             }
            },
            "type": "histogram"
           }
          ],
          "histogram2d": [
           {
            "colorbar": {
             "outlinewidth": 0,
             "ticks": ""
            },
            "colorscale": [
             [
              0,
              "#0d0887"
             ],
             [
              0.1111111111111111,
              "#46039f"
             ],
             [
              0.2222222222222222,
              "#7201a8"
             ],
             [
              0.3333333333333333,
              "#9c179e"
             ],
             [
              0.4444444444444444,
              "#bd3786"
             ],
             [
              0.5555555555555556,
              "#d8576b"
             ],
             [
              0.6666666666666666,
              "#ed7953"
             ],
             [
              0.7777777777777778,
              "#fb9f3a"
             ],
             [
              0.8888888888888888,
              "#fdca26"
             ],
             [
              1,
              "#f0f921"
             ]
            ],
            "type": "histogram2d"
           }
          ],
          "histogram2dcontour": [
           {
            "colorbar": {
             "outlinewidth": 0,
             "ticks": ""
            },
            "colorscale": [
             [
              0,
              "#0d0887"
             ],
             [
              0.1111111111111111,
              "#46039f"
             ],
             [
              0.2222222222222222,
              "#7201a8"
             ],
             [
              0.3333333333333333,
              "#9c179e"
             ],
             [
              0.4444444444444444,
              "#bd3786"
             ],
             [
              0.5555555555555556,
              "#d8576b"
             ],
             [
              0.6666666666666666,
              "#ed7953"
             ],
             [
              0.7777777777777778,
              "#fb9f3a"
             ],
             [
              0.8888888888888888,
              "#fdca26"
             ],
             [
              1,
              "#f0f921"
             ]
            ],
            "type": "histogram2dcontour"
           }
          ],
          "mesh3d": [
           {
            "colorbar": {
             "outlinewidth": 0,
             "ticks": ""
            },
            "type": "mesh3d"
           }
          ],
          "parcoords": [
           {
            "line": {
             "colorbar": {
              "outlinewidth": 0,
              "ticks": ""
             }
            },
            "type": "parcoords"
           }
          ],
          "pie": [
           {
            "automargin": true,
            "type": "pie"
           }
          ],
          "scatter": [
           {
            "marker": {
             "line": {
              "color": "#283442"
             }
            },
            "type": "scatter"
           }
          ],
          "scatter3d": [
           {
            "line": {
             "colorbar": {
              "outlinewidth": 0,
              "ticks": ""
             }
            },
            "marker": {
             "colorbar": {
              "outlinewidth": 0,
              "ticks": ""
             }
            },
            "type": "scatter3d"
           }
          ],
          "scattercarpet": [
           {
            "marker": {
             "colorbar": {
              "outlinewidth": 0,
              "ticks": ""
             }
            },
            "type": "scattercarpet"
           }
          ],
          "scattergeo": [
           {
            "marker": {
             "colorbar": {
              "outlinewidth": 0,
              "ticks": ""
             }
            },
            "type": "scattergeo"
           }
          ],
          "scattergl": [
           {
            "marker": {
             "line": {
              "color": "#283442"
             }
            },
            "type": "scattergl"
           }
          ],
          "scattermapbox": [
           {
            "marker": {
             "colorbar": {
              "outlinewidth": 0,
              "ticks": ""
             }
            },
            "type": "scattermapbox"
           }
          ],
          "scatterpolar": [
           {
            "marker": {
             "colorbar": {
              "outlinewidth": 0,
              "ticks": ""
             }
            },
            "type": "scatterpolar"
           }
          ],
          "scatterpolargl": [
           {
            "marker": {
             "colorbar": {
              "outlinewidth": 0,
              "ticks": ""
             }
            },
            "type": "scatterpolargl"
           }
          ],
          "scatterternary": [
           {
            "marker": {
             "colorbar": {
              "outlinewidth": 0,
              "ticks": ""
             }
            },
            "type": "scatterternary"
           }
          ],
          "surface": [
           {
            "colorbar": {
             "outlinewidth": 0,
             "ticks": ""
            },
            "colorscale": [
             [
              0,
              "#0d0887"
             ],
             [
              0.1111111111111111,
              "#46039f"
             ],
             [
              0.2222222222222222,
              "#7201a8"
             ],
             [
              0.3333333333333333,
              "#9c179e"
             ],
             [
              0.4444444444444444,
              "#bd3786"
             ],
             [
              0.5555555555555556,
              "#d8576b"
             ],
             [
              0.6666666666666666,
              "#ed7953"
             ],
             [
              0.7777777777777778,
              "#fb9f3a"
             ],
             [
              0.8888888888888888,
              "#fdca26"
             ],
             [
              1,
              "#f0f921"
             ]
            ],
            "type": "surface"
           }
          ],
          "table": [
           {
            "cells": {
             "fill": {
              "color": "#506784"
             },
             "line": {
              "color": "rgb(17,17,17)"
             }
            },
            "header": {
             "fill": {
              "color": "#2a3f5f"
             },
             "line": {
              "color": "rgb(17,17,17)"
             }
            },
            "type": "table"
           }
          ]
         },
         "layout": {
          "annotationdefaults": {
           "arrowcolor": "#f2f5fa",
           "arrowhead": 0,
           "arrowwidth": 1
          },
          "autotypenumbers": "strict",
          "coloraxis": {
           "colorbar": {
            "outlinewidth": 0,
            "ticks": ""
           }
          },
          "colorscale": {
           "diverging": [
            [
             0,
             "#8e0152"
            ],
            [
             0.1,
             "#c51b7d"
            ],
            [
             0.2,
             "#de77ae"
            ],
            [
             0.3,
             "#f1b6da"
            ],
            [
             0.4,
             "#fde0ef"
            ],
            [
             0.5,
             "#f7f7f7"
            ],
            [
             0.6,
             "#e6f5d0"
            ],
            [
             0.7,
             "#b8e186"
            ],
            [
             0.8,
             "#7fbc41"
            ],
            [
             0.9,
             "#4d9221"
            ],
            [
             1,
             "#276419"
            ]
           ],
           "sequential": [
            [
             0,
             "#0d0887"
            ],
            [
             0.1111111111111111,
             "#46039f"
            ],
            [
             0.2222222222222222,
             "#7201a8"
            ],
            [
             0.3333333333333333,
             "#9c179e"
            ],
            [
             0.4444444444444444,
             "#bd3786"
            ],
            [
             0.5555555555555556,
             "#d8576b"
            ],
            [
             0.6666666666666666,
             "#ed7953"
            ],
            [
             0.7777777777777778,
             "#fb9f3a"
            ],
            [
             0.8888888888888888,
             "#fdca26"
            ],
            [
             1,
             "#f0f921"
            ]
           ],
           "sequentialminus": [
            [
             0,
             "#0d0887"
            ],
            [
             0.1111111111111111,
             "#46039f"
            ],
            [
             0.2222222222222222,
             "#7201a8"
            ],
            [
             0.3333333333333333,
             "#9c179e"
            ],
            [
             0.4444444444444444,
             "#bd3786"
            ],
            [
             0.5555555555555556,
             "#d8576b"
            ],
            [
             0.6666666666666666,
             "#ed7953"
            ],
            [
             0.7777777777777778,
             "#fb9f3a"
            ],
            [
             0.8888888888888888,
             "#fdca26"
            ],
            [
             1,
             "#f0f921"
            ]
           ]
          },
          "colorway": [
           "#636efa",
           "#EF553B",
           "#00cc96",
           "#ab63fa",
           "#FFA15A",
           "#19d3f3",
           "#FF6692",
           "#B6E880",
           "#FF97FF",
           "#FECB52"
          ],
          "font": {
           "color": "#f2f5fa"
          },
          "geo": {
           "bgcolor": "rgb(17,17,17)",
           "lakecolor": "rgb(17,17,17)",
           "landcolor": "rgb(17,17,17)",
           "showlakes": true,
           "showland": true,
           "subunitcolor": "#506784"
          },
          "hoverlabel": {
           "align": "left"
          },
          "hovermode": "closest",
          "mapbox": {
           "style": "dark"
          },
          "paper_bgcolor": "rgb(17,17,17)",
          "plot_bgcolor": "rgb(17,17,17)",
          "polar": {
           "angularaxis": {
            "gridcolor": "#506784",
            "linecolor": "#506784",
            "ticks": ""
           },
           "bgcolor": "rgb(17,17,17)",
           "radialaxis": {
            "gridcolor": "#506784",
            "linecolor": "#506784",
            "ticks": ""
           }
          },
          "scene": {
           "xaxis": {
            "backgroundcolor": "rgb(17,17,17)",
            "gridcolor": "#506784",
            "gridwidth": 2,
            "linecolor": "#506784",
            "showbackground": true,
            "ticks": "",
            "zerolinecolor": "#C8D4E3"
           },
           "yaxis": {
            "backgroundcolor": "rgb(17,17,17)",
            "gridcolor": "#506784",
            "gridwidth": 2,
            "linecolor": "#506784",
            "showbackground": true,
            "ticks": "",
            "zerolinecolor": "#C8D4E3"
           },
           "zaxis": {
            "backgroundcolor": "rgb(17,17,17)",
            "gridcolor": "#506784",
            "gridwidth": 2,
            "linecolor": "#506784",
            "showbackground": true,
            "ticks": "",
            "zerolinecolor": "#C8D4E3"
           }
          },
          "shapedefaults": {
           "line": {
            "color": "#f2f5fa"
           }
          },
          "sliderdefaults": {
           "bgcolor": "#C8D4E3",
           "bordercolor": "rgb(17,17,17)",
           "borderwidth": 1,
           "tickwidth": 0
          },
          "ternary": {
           "aaxis": {
            "gridcolor": "#506784",
            "linecolor": "#506784",
            "ticks": ""
           },
           "baxis": {
            "gridcolor": "#506784",
            "linecolor": "#506784",
            "ticks": ""
           },
           "bgcolor": "rgb(17,17,17)",
           "caxis": {
            "gridcolor": "#506784",
            "linecolor": "#506784",
            "ticks": ""
           }
          },
          "title": {
           "x": 0.05
          },
          "updatemenudefaults": {
           "bgcolor": "#506784",
           "borderwidth": 0
          },
          "xaxis": {
           "automargin": true,
           "gridcolor": "#283442",
           "linecolor": "#506784",
           "ticks": "",
           "title": {
            "standoff": 15
           },
           "zerolinecolor": "#283442",
           "zerolinewidth": 2
          },
          "yaxis": {
           "automargin": true,
           "gridcolor": "#283442",
           "linecolor": "#506784",
           "ticks": "",
           "title": {
            "standoff": 15
           },
           "zerolinecolor": "#283442",
           "zerolinewidth": 2
          }
         }
        },
        "title": {
         "text": "Product line with tax 5%"
        },
        "xaxis": {
         "anchor": "y",
         "categoryarray": [
          "Fashion accessories",
          "Food and beverages",
          "Home and lifestyle",
          "Sports and travel",
          "Electronic accessories",
          "Health and beauty"
         ],
         "categoryorder": "array",
         "domain": [
          0,
          1
         ],
         "title": {
          "text": "Product line"
         }
        },
        "yaxis": {
         "anchor": "x",
         "domain": [
          0,
          1
         ],
         "title": {
          "text": "Tax 5%"
         }
        }
       }
      },
      "text/html": [
       "<div>                            <div id=\"86faf215-276c-4da1-90e2-7c141a84fb8d\" class=\"plotly-graph-div\" style=\"height:525px; width:100%;\"></div>            <script type=\"text/javascript\">                require([\"plotly\"], function(Plotly) {                    window.PLOTLYENV=window.PLOTLYENV || {};                                    if (document.getElementById(\"86faf215-276c-4da1-90e2-7c141a84fb8d\")) {                    Plotly.newPlot(                        \"86faf215-276c-4da1-90e2-7c141a84fb8d\",                        [{\"alignmentgroup\":\"True\",\"hovertemplate\":\"Product line=%{x}<br>Tax 5%=%{y}<extra></extra>\",\"legendgroup\":\"Fashion accessories\",\"marker\":{\"color\":\"#636efa\"},\"name\":\"Fashion accessories\",\"notched\":false,\"offsetgroup\":\"Fashion accessories\",\"orientation\":\"v\",\"showlegend\":true,\"x\":[\"Fashion accessories\",\"Fashion accessories\",\"Fashion accessories\",\"Fashion accessories\",\"Fashion accessories\",\"Fashion accessories\",\"Fashion accessories\",\"Fashion accessories\",\"Fashion accessories\",\"Fashion accessories\",\"Fashion accessories\",\"Fashion accessories\",\"Fashion accessories\",\"Fashion accessories\",\"Fashion accessories\",\"Fashion accessories\",\"Fashion accessories\",\"Fashion accessories\",\"Fashion accessories\",\"Fashion accessories\",\"Fashion accessories\",\"Fashion accessories\",\"Fashion accessories\",\"Fashion accessories\",\"Fashion accessories\",\"Fashion accessories\",\"Fashion accessories\",\"Fashion accessories\",\"Fashion accessories\",\"Fashion accessories\",\"Fashion accessories\",\"Fashion accessories\",\"Fashion accessories\",\"Fashion accessories\",\"Fashion accessories\",\"Fashion accessories\",\"Fashion accessories\"],\"x0\":\" \",\"xaxis\":\"x\",\"y\":[34.38,1.066,16.4295,2.6175,4.992,3.2495,23.5325,49.65,25.011,41.625,30.919,8.191,14.8995,3.705,2.372,16.336,9.9375,5.244,3.29,2.619,11.409,31.06,7.43,13.983,6.807,21.259,0.7715,7.39,6.192,6.248,22.032,8.335,0.985,11.055,18.934,8.5905,37.458],\"y0\":\" \",\"yaxis\":\"y\",\"type\":\"box\"},{\"alignmentgroup\":\"True\",\"hovertemplate\":\"Product line=%{x}<br>Tax 5%=%{y}<extra></extra>\",\"legendgroup\":\"Food and beverages\",\"marker\":{\"color\":\"#EF553B\"},\"name\":\"Food and beverages\",\"notched\":false,\"offsetgroup\":\"Food and beverages\",\"orientation\":\"v\",\"showlegend\":true,\"x\":[\"Food and beverages\",\"Food and beverages\",\"Food and beverages\",\"Food and beverages\",\"Food and beverages\",\"Food and beverages\",\"Food and beverages\",\"Food and beverages\",\"Food and beverages\",\"Food and beverages\",\"Food and beverages\",\"Food and beverages\",\"Food and beverages\",\"Food and beverages\",\"Food and beverages\",\"Food and beverages\",\"Food and beverages\",\"Food and beverages\",\"Food and beverages\",\"Food and beverages\",\"Food and beverages\",\"Food and beverages\",\"Food and beverages\",\"Food and beverages\",\"Food and beverages\",\"Food and beverages\",\"Food and beverages\",\"Food and beverages\",\"Food and beverages\",\"Food and beverages\",\"Food and beverages\",\"Food and beverages\",\"Food and beverages\",\"Food and beverages\"],\"x0\":\" \",\"xaxis\":\"x\",\"y\":[2.712,17.272,17.828,14.14,8.687,3.5575,24.9225,44.6,7.9125,4.0355,27.072,25.215,14.502,32.796,20.9475,38.6,3.56,13.552,39.155,29.559,27.18,24.945,15.384,3.333,8.601,16.072,24.186,25.571,4.208,23.0725,8.661,8.448,1.079,42.315],\"y0\":\" \",\"yaxis\":\"y\",\"type\":\"box\"},{\"alignmentgroup\":\"True\",\"hovertemplate\":\"Product line=%{x}<br>Tax 5%=%{y}<extra></extra>\",\"legendgroup\":\"Home and lifestyle\",\"marker\":{\"color\":\"#00cc96\"},\"name\":\"Home and lifestyle\",\"notched\":false,\"offsetgroup\":\"Home and lifestyle\",\"orientation\":\"v\",\"showlegend\":true,\"x\":[\"Home and lifestyle\",\"Home and lifestyle\",\"Home and lifestyle\",\"Home and lifestyle\",\"Home and lifestyle\",\"Home and lifestyle\",\"Home and lifestyle\",\"Home and lifestyle\",\"Home and lifestyle\",\"Home and lifestyle\",\"Home and lifestyle\",\"Home and lifestyle\",\"Home and lifestyle\",\"Home and lifestyle\",\"Home and lifestyle\",\"Home and lifestyle\",\"Home and lifestyle\",\"Home and lifestyle\",\"Home and lifestyle\",\"Home and lifestyle\",\"Home and lifestyle\",\"Home and lifestyle\",\"Home and lifestyle\",\"Home and lifestyle\",\"Home and lifestyle\",\"Home and lifestyle\",\"Home and lifestyle\",\"Home and lifestyle\",\"Home and lifestyle\",\"Home and lifestyle\",\"Home and lifestyle\",\"Home and lifestyle\",\"Home and lifestyle\"],\"x0\":\" \",\"xaxis\":\"x\",\"y\":[7.08,3.429,9.909,7.9,7.995,1.2645,4.3135,15.921,1.273,20.51,6.35,15.228,12.438,36.175,22.84,7.094,42.282,16.719,35.516,0.914,21.8425,8.484,4.4305,12.048,10.3455,6.618,18.32,25.131,6.1155,48.75,9.076,5.662,6.456],\"y0\":\" \",\"yaxis\":\"y\",\"type\":\"box\"},{\"alignmentgroup\":\"True\",\"hovertemplate\":\"Product line=%{x}<br>Tax 5%=%{y}<extra></extra>\",\"legendgroup\":\"Sports and travel\",\"marker\":{\"color\":\"#ab63fa\"},\"name\":\"Sports and travel\",\"notched\":false,\"offsetgroup\":\"Sports and travel\",\"orientation\":\"v\",\"showlegend\":true,\"x\":[\"Sports and travel\",\"Sports and travel\",\"Sports and travel\",\"Sports and travel\",\"Sports and travel\",\"Sports and travel\",\"Sports and travel\",\"Sports and travel\",\"Sports and travel\",\"Sports and travel\",\"Sports and travel\",\"Sports and travel\",\"Sports and travel\",\"Sports and travel\",\"Sports and travel\",\"Sports and travel\",\"Sports and travel\",\"Sports and travel\",\"Sports and travel\",\"Sports and travel\",\"Sports and travel\",\"Sports and travel\",\"Sports and travel\",\"Sports and travel\",\"Sports and travel\",\"Sports and travel\",\"Sports and travel\",\"Sports and travel\",\"Sports and travel\",\"Sports and travel\",\"Sports and travel\",\"Sports and travel\",\"Sports and travel\",\"Sports and travel\"],\"x0\":\" \",\"xaxis\":\"x\",\"y\":[10.3635,29.099,1.439,13.452,38.46,11.28,27.275,4.669,7.693,8.0625,12.245,1.119,3.947,1.549,12.918,7.75,5.999,1.276,3.675,22.01,44.1405,2.531,6.9825,6.087,16.2425,27.639,0.5085,16.8575,6.483,21.783,22.428,44.658,6.903,8.716],\"y0\":\" \",\"yaxis\":\"y\",\"type\":\"box\"},{\"alignmentgroup\":\"True\",\"hovertemplate\":\"Product line=%{x}<br>Tax 5%=%{y}<extra></extra>\",\"legendgroup\":\"Electronic accessories\",\"marker\":{\"color\":\"#FFA15A\"},\"name\":\"Electronic accessories\",\"notched\":false,\"offsetgroup\":\"Electronic accessories\",\"orientation\":\"v\",\"showlegend\":true,\"x\":[\"Electronic accessories\",\"Electronic accessories\",\"Electronic accessories\",\"Electronic accessories\",\"Electronic accessories\",\"Electronic accessories\",\"Electronic accessories\",\"Electronic accessories\",\"Electronic accessories\",\"Electronic accessories\",\"Electronic accessories\",\"Electronic accessories\",\"Electronic accessories\",\"Electronic accessories\",\"Electronic accessories\",\"Electronic accessories\",\"Electronic accessories\",\"Electronic accessories\",\"Electronic accessories\",\"Electronic accessories\",\"Electronic accessories\",\"Electronic accessories\",\"Electronic accessories\",\"Electronic accessories\",\"Electronic accessories\",\"Electronic accessories\",\"Electronic accessories\",\"Electronic accessories\",\"Electronic accessories\",\"Electronic accessories\",\"Electronic accessories\",\"Electronic accessories\"],\"x0\":\" \",\"xaxis\":\"x\",\"y\":[22.413,1180.35,28.756,36.735,3.735,31.311,26.395,12.21,40.985,8.425,11.475,33.777,22.773,21.9775,18.0915,8.6,34.0155,8.1775,44.8785,15.135,22.74,16.344,8.71,14.067,15.544,5.567,14.296,19.448,4.84,22.353,5.803,8.827],\"y0\":\" \",\"yaxis\":\"y\",\"type\":\"box\"},{\"alignmentgroup\":\"True\",\"hovertemplate\":\"Product line=%{x}<br>Tax 5%=%{y}<extra></extra>\",\"legendgroup\":\"Health and beauty\",\"marker\":{\"color\":\"#19d3f3\"},\"name\":\"Health and beauty\",\"notched\":false,\"offsetgroup\":\"Health and beauty\",\"orientation\":\"v\",\"showlegend\":true,\"x\":[\"Health and beauty\",\"Health and beauty\",\"Health and beauty\",\"Health and beauty\",\"Health and beauty\",\"Health and beauty\",\"Health and beauty\",\"Health and beauty\",\"Health and beauty\",\"Health and beauty\",\"Health and beauty\",\"Health and beauty\",\"Health and beauty\",\"Health and beauty\",\"Health and beauty\",\"Health and beauty\",\"Health and beauty\",\"Health and beauty\",\"Health and beauty\",\"Health and beauty\",\"Health and beauty\",\"Health and beauty\",\"Health and beauty\",\"Health and beauty\",\"Health and beauty\",\"Health and beauty\",\"Health and beauty\",\"Health and beauty\"],\"x0\":\" \",\"xaxis\":\"x\",\"y\":[3.987,7.935,12.95,26.915,29.757,19.232,15.148,20.72,11.2005,4.37,5.722,3.347,31.2165,35.69,13.724,11.63,12.854,12.318,2.7475,11.1,8.814,21.063,43.935,1.476,30.0545,5.095,26.1415,10.3635],\"y0\":\" \",\"yaxis\":\"y\",\"type\":\"box\"}],                        {\"template\":{\"data\":{\"barpolar\":[{\"marker\":{\"line\":{\"color\":\"rgb(17,17,17)\",\"width\":0.5},\"pattern\":{\"fillmode\":\"overlay\",\"size\":10,\"solidity\":0.2}},\"type\":\"barpolar\"}],\"bar\":[{\"error_x\":{\"color\":\"#f2f5fa\"},\"error_y\":{\"color\":\"#f2f5fa\"},\"marker\":{\"line\":{\"color\":\"rgb(17,17,17)\",\"width\":0.5},\"pattern\":{\"fillmode\":\"overlay\",\"size\":10,\"solidity\":0.2}},\"type\":\"bar\"}],\"carpet\":[{\"aaxis\":{\"endlinecolor\":\"#A2B1C6\",\"gridcolor\":\"#506784\",\"linecolor\":\"#506784\",\"minorgridcolor\":\"#506784\",\"startlinecolor\":\"#A2B1C6\"},\"baxis\":{\"endlinecolor\":\"#A2B1C6\",\"gridcolor\":\"#506784\",\"linecolor\":\"#506784\",\"minorgridcolor\":\"#506784\",\"startlinecolor\":\"#A2B1C6\"},\"type\":\"carpet\"}],\"choropleth\":[{\"colorbar\":{\"outlinewidth\":0,\"ticks\":\"\"},\"type\":\"choropleth\"}],\"contourcarpet\":[{\"colorbar\":{\"outlinewidth\":0,\"ticks\":\"\"},\"type\":\"contourcarpet\"}],\"contour\":[{\"colorbar\":{\"outlinewidth\":0,\"ticks\":\"\"},\"colorscale\":[[0.0,\"#0d0887\"],[0.1111111111111111,\"#46039f\"],[0.2222222222222222,\"#7201a8\"],[0.3333333333333333,\"#9c179e\"],[0.4444444444444444,\"#bd3786\"],[0.5555555555555556,\"#d8576b\"],[0.6666666666666666,\"#ed7953\"],[0.7777777777777778,\"#fb9f3a\"],[0.8888888888888888,\"#fdca26\"],[1.0,\"#f0f921\"]],\"type\":\"contour\"}],\"heatmapgl\":[{\"colorbar\":{\"outlinewidth\":0,\"ticks\":\"\"},\"colorscale\":[[0.0,\"#0d0887\"],[0.1111111111111111,\"#46039f\"],[0.2222222222222222,\"#7201a8\"],[0.3333333333333333,\"#9c179e\"],[0.4444444444444444,\"#bd3786\"],[0.5555555555555556,\"#d8576b\"],[0.6666666666666666,\"#ed7953\"],[0.7777777777777778,\"#fb9f3a\"],[0.8888888888888888,\"#fdca26\"],[1.0,\"#f0f921\"]],\"type\":\"heatmapgl\"}],\"heatmap\":[{\"colorbar\":{\"outlinewidth\":0,\"ticks\":\"\"},\"colorscale\":[[0.0,\"#0d0887\"],[0.1111111111111111,\"#46039f\"],[0.2222222222222222,\"#7201a8\"],[0.3333333333333333,\"#9c179e\"],[0.4444444444444444,\"#bd3786\"],[0.5555555555555556,\"#d8576b\"],[0.6666666666666666,\"#ed7953\"],[0.7777777777777778,\"#fb9f3a\"],[0.8888888888888888,\"#fdca26\"],[1.0,\"#f0f921\"]],\"type\":\"heatmap\"}],\"histogram2dcontour\":[{\"colorbar\":{\"outlinewidth\":0,\"ticks\":\"\"},\"colorscale\":[[0.0,\"#0d0887\"],[0.1111111111111111,\"#46039f\"],[0.2222222222222222,\"#7201a8\"],[0.3333333333333333,\"#9c179e\"],[0.4444444444444444,\"#bd3786\"],[0.5555555555555556,\"#d8576b\"],[0.6666666666666666,\"#ed7953\"],[0.7777777777777778,\"#fb9f3a\"],[0.8888888888888888,\"#fdca26\"],[1.0,\"#f0f921\"]],\"type\":\"histogram2dcontour\"}],\"histogram2d\":[{\"colorbar\":{\"outlinewidth\":0,\"ticks\":\"\"},\"colorscale\":[[0.0,\"#0d0887\"],[0.1111111111111111,\"#46039f\"],[0.2222222222222222,\"#7201a8\"],[0.3333333333333333,\"#9c179e\"],[0.4444444444444444,\"#bd3786\"],[0.5555555555555556,\"#d8576b\"],[0.6666666666666666,\"#ed7953\"],[0.7777777777777778,\"#fb9f3a\"],[0.8888888888888888,\"#fdca26\"],[1.0,\"#f0f921\"]],\"type\":\"histogram2d\"}],\"histogram\":[{\"marker\":{\"pattern\":{\"fillmode\":\"overlay\",\"size\":10,\"solidity\":0.2}},\"type\":\"histogram\"}],\"mesh3d\":[{\"colorbar\":{\"outlinewidth\":0,\"ticks\":\"\"},\"type\":\"mesh3d\"}],\"parcoords\":[{\"line\":{\"colorbar\":{\"outlinewidth\":0,\"ticks\":\"\"}},\"type\":\"parcoords\"}],\"pie\":[{\"automargin\":true,\"type\":\"pie\"}],\"scatter3d\":[{\"line\":{\"colorbar\":{\"outlinewidth\":0,\"ticks\":\"\"}},\"marker\":{\"colorbar\":{\"outlinewidth\":0,\"ticks\":\"\"}},\"type\":\"scatter3d\"}],\"scattercarpet\":[{\"marker\":{\"colorbar\":{\"outlinewidth\":0,\"ticks\":\"\"}},\"type\":\"scattercarpet\"}],\"scattergeo\":[{\"marker\":{\"colorbar\":{\"outlinewidth\":0,\"ticks\":\"\"}},\"type\":\"scattergeo\"}],\"scattergl\":[{\"marker\":{\"line\":{\"color\":\"#283442\"}},\"type\":\"scattergl\"}],\"scattermapbox\":[{\"marker\":{\"colorbar\":{\"outlinewidth\":0,\"ticks\":\"\"}},\"type\":\"scattermapbox\"}],\"scatterpolargl\":[{\"marker\":{\"colorbar\":{\"outlinewidth\":0,\"ticks\":\"\"}},\"type\":\"scatterpolargl\"}],\"scatterpolar\":[{\"marker\":{\"colorbar\":{\"outlinewidth\":0,\"ticks\":\"\"}},\"type\":\"scatterpolar\"}],\"scatter\":[{\"marker\":{\"line\":{\"color\":\"#283442\"}},\"type\":\"scatter\"}],\"scatterternary\":[{\"marker\":{\"colorbar\":{\"outlinewidth\":0,\"ticks\":\"\"}},\"type\":\"scatterternary\"}],\"surface\":[{\"colorbar\":{\"outlinewidth\":0,\"ticks\":\"\"},\"colorscale\":[[0.0,\"#0d0887\"],[0.1111111111111111,\"#46039f\"],[0.2222222222222222,\"#7201a8\"],[0.3333333333333333,\"#9c179e\"],[0.4444444444444444,\"#bd3786\"],[0.5555555555555556,\"#d8576b\"],[0.6666666666666666,\"#ed7953\"],[0.7777777777777778,\"#fb9f3a\"],[0.8888888888888888,\"#fdca26\"],[1.0,\"#f0f921\"]],\"type\":\"surface\"}],\"table\":[{\"cells\":{\"fill\":{\"color\":\"#506784\"},\"line\":{\"color\":\"rgb(17,17,17)\"}},\"header\":{\"fill\":{\"color\":\"#2a3f5f\"},\"line\":{\"color\":\"rgb(17,17,17)\"}},\"type\":\"table\"}]},\"layout\":{\"annotationdefaults\":{\"arrowcolor\":\"#f2f5fa\",\"arrowhead\":0,\"arrowwidth\":1},\"autotypenumbers\":\"strict\",\"coloraxis\":{\"colorbar\":{\"outlinewidth\":0,\"ticks\":\"\"}},\"colorscale\":{\"diverging\":[[0,\"#8e0152\"],[0.1,\"#c51b7d\"],[0.2,\"#de77ae\"],[0.3,\"#f1b6da\"],[0.4,\"#fde0ef\"],[0.5,\"#f7f7f7\"],[0.6,\"#e6f5d0\"],[0.7,\"#b8e186\"],[0.8,\"#7fbc41\"],[0.9,\"#4d9221\"],[1,\"#276419\"]],\"sequential\":[[0.0,\"#0d0887\"],[0.1111111111111111,\"#46039f\"],[0.2222222222222222,\"#7201a8\"],[0.3333333333333333,\"#9c179e\"],[0.4444444444444444,\"#bd3786\"],[0.5555555555555556,\"#d8576b\"],[0.6666666666666666,\"#ed7953\"],[0.7777777777777778,\"#fb9f3a\"],[0.8888888888888888,\"#fdca26\"],[1.0,\"#f0f921\"]],\"sequentialminus\":[[0.0,\"#0d0887\"],[0.1111111111111111,\"#46039f\"],[0.2222222222222222,\"#7201a8\"],[0.3333333333333333,\"#9c179e\"],[0.4444444444444444,\"#bd3786\"],[0.5555555555555556,\"#d8576b\"],[0.6666666666666666,\"#ed7953\"],[0.7777777777777778,\"#fb9f3a\"],[0.8888888888888888,\"#fdca26\"],[1.0,\"#f0f921\"]]},\"colorway\":[\"#636efa\",\"#EF553B\",\"#00cc96\",\"#ab63fa\",\"#FFA15A\",\"#19d3f3\",\"#FF6692\",\"#B6E880\",\"#FF97FF\",\"#FECB52\"],\"font\":{\"color\":\"#f2f5fa\"},\"geo\":{\"bgcolor\":\"rgb(17,17,17)\",\"lakecolor\":\"rgb(17,17,17)\",\"landcolor\":\"rgb(17,17,17)\",\"showlakes\":true,\"showland\":true,\"subunitcolor\":\"#506784\"},\"hoverlabel\":{\"align\":\"left\"},\"hovermode\":\"closest\",\"mapbox\":{\"style\":\"dark\"},\"paper_bgcolor\":\"rgb(17,17,17)\",\"plot_bgcolor\":\"rgb(17,17,17)\",\"polar\":{\"angularaxis\":{\"gridcolor\":\"#506784\",\"linecolor\":\"#506784\",\"ticks\":\"\"},\"bgcolor\":\"rgb(17,17,17)\",\"radialaxis\":{\"gridcolor\":\"#506784\",\"linecolor\":\"#506784\",\"ticks\":\"\"}},\"scene\":{\"xaxis\":{\"backgroundcolor\":\"rgb(17,17,17)\",\"gridcolor\":\"#506784\",\"gridwidth\":2,\"linecolor\":\"#506784\",\"showbackground\":true,\"ticks\":\"\",\"zerolinecolor\":\"#C8D4E3\"},\"yaxis\":{\"backgroundcolor\":\"rgb(17,17,17)\",\"gridcolor\":\"#506784\",\"gridwidth\":2,\"linecolor\":\"#506784\",\"showbackground\":true,\"ticks\":\"\",\"zerolinecolor\":\"#C8D4E3\"},\"zaxis\":{\"backgroundcolor\":\"rgb(17,17,17)\",\"gridcolor\":\"#506784\",\"gridwidth\":2,\"linecolor\":\"#506784\",\"showbackground\":true,\"ticks\":\"\",\"zerolinecolor\":\"#C8D4E3\"}},\"shapedefaults\":{\"line\":{\"color\":\"#f2f5fa\"}},\"sliderdefaults\":{\"bgcolor\":\"#C8D4E3\",\"bordercolor\":\"rgb(17,17,17)\",\"borderwidth\":1,\"tickwidth\":0},\"ternary\":{\"aaxis\":{\"gridcolor\":\"#506784\",\"linecolor\":\"#506784\",\"ticks\":\"\"},\"baxis\":{\"gridcolor\":\"#506784\",\"linecolor\":\"#506784\",\"ticks\":\"\"},\"bgcolor\":\"rgb(17,17,17)\",\"caxis\":{\"gridcolor\":\"#506784\",\"linecolor\":\"#506784\",\"ticks\":\"\"}},\"title\":{\"x\":0.05},\"updatemenudefaults\":{\"bgcolor\":\"#506784\",\"borderwidth\":0},\"xaxis\":{\"automargin\":true,\"gridcolor\":\"#283442\",\"linecolor\":\"#506784\",\"ticks\":\"\",\"title\":{\"standoff\":15},\"zerolinecolor\":\"#283442\",\"zerolinewidth\":2},\"yaxis\":{\"automargin\":true,\"gridcolor\":\"#283442\",\"linecolor\":\"#506784\",\"ticks\":\"\",\"title\":{\"standoff\":15},\"zerolinecolor\":\"#283442\",\"zerolinewidth\":2}}},\"xaxis\":{\"anchor\":\"y\",\"domain\":[0.0,1.0],\"title\":{\"text\":\"Product line\"},\"categoryorder\":\"array\",\"categoryarray\":[\"Fashion accessories\",\"Food and beverages\",\"Home and lifestyle\",\"Sports and travel\",\"Electronic accessories\",\"Health and beauty\"]},\"yaxis\":{\"anchor\":\"x\",\"domain\":[0.0,1.0],\"title\":{\"text\":\"Tax 5%\"}},\"legend\":{\"title\":{\"text\":\"Product line\"},\"tracegroupgap\":0},\"title\":{\"text\":\"Product line with tax 5%\"},\"boxmode\":\"overlay\"},                        {\"responsive\": true}                    ).then(function(){\n",
       "                            \n",
       "var gd = document.getElementById('86faf215-276c-4da1-90e2-7c141a84fb8d');\n",
       "var x = new MutationObserver(function (mutations, observer) {{\n",
       "        var display = window.getComputedStyle(gd).display;\n",
       "        if (!display || display === 'none') {{\n",
       "            console.log([gd, 'removed!']);\n",
       "            Plotly.purge(gd);\n",
       "            observer.disconnect();\n",
       "        }}\n",
       "}});\n",
       "\n",
       "// Listen for the removal of the full notebook cells\n",
       "var notebookContainer = gd.closest('#notebook-container');\n",
       "if (notebookContainer) {{\n",
       "    x.observe(notebookContainer, {childList: true});\n",
       "}}\n",
       "\n",
       "// Listen for the clearing of the current output cell\n",
       "var outputEl = gd.closest('.output');\n",
       "if (outputEl) {{\n",
       "    x.observe(outputEl, {childList: true});\n",
       "}}\n",
       "\n",
       "                        })                };                });            </script>        </div>"
      ]
     },
     "metadata": {},
     "output_type": "display_data"
    }
   ],
   "source": [
    "#Information about the 5% tax for each production line !¶\n",
    "figure=px.box(df,x='Product line',color='Product line',y='Tax 5%',template='plotly_dark',title='Product line with tax 5%')\n",
    "figure.show()"
   ]
  },
  {
   "cell_type": "code",
   "execution_count": 102,
   "id": "90da526c",
   "metadata": {},
   "outputs": [
    {
     "data": {
      "text/plain": [
       "Credit card    68\n",
       "Ewallet        67\n",
       "Cash           63\n",
       "Name: Payment, dtype: int64"
      ]
     },
     "execution_count": 102,
     "metadata": {},
     "output_type": "execute_result"
    }
   ],
   "source": [
    "df['Payment'].value_counts()"
   ]
  },
  {
   "cell_type": "code",
   "execution_count": 103,
   "id": "ff3ea21a",
   "metadata": {},
   "outputs": [
    {
     "data": {
      "text/plain": [
       "<AxesSubplot:title={'center':'Payment count & types'}, ylabel='Payment'>"
      ]
     },
     "execution_count": 103,
     "metadata": {},
     "output_type": "execute_result"
    },
    {
     "data": {
      "image/png": "[encoded data removed]",
      "text/plain": [
       "<Figure size 432x288 with 1 Axes>"
      ]
     },
     "metadata": {},
     "output_type": "display_data"
    }
   ],
   "source": [
    "df['Payment'].value_counts().plot.pie(title='Payment count & types')"
   ]
  },
  {
   "cell_type": "code",
   "execution_count": 108,
   "id": "8b326755",
   "metadata": {},
   "outputs": [
    {
     "data": {
      "text/html": [
       "<div>\n",
       "<style scoped>\n",
       "    .dataframe tbody tr th:only-of-type {\n",
       "        vertical-align: middle;\n",
       "    }\n",
       "\n",
       "    .dataframe tbody tr th {\n",
       "        vertical-align: top;\n",
       "    }\n",
       "\n",
       "    .dataframe thead th {\n",
       "        text-align: right;\n",
       "    }\n",
       "</style>\n",
       "<table border=\"1\" class=\"dataframe\">\n",
       "  <thead>\n",
       "    <tr style=\"text-align: right;\">\n",
       "      <th></th>\n",
       "      <th>gross income</th>\n",
       "    </tr>\n",
       "    <tr>\n",
       "      <th>Branch</th>\n",
       "      <th></th>\n",
       "    </tr>\n",
       "  </thead>\n",
       "  <tbody>\n",
       "    <tr>\n",
       "      <th>Achimota</th>\n",
       "      <td>44.879</td>\n",
       "    </tr>\n",
       "    <tr>\n",
       "      <th>Ahodwo</th>\n",
       "      <td>49.650</td>\n",
       "    </tr>\n",
       "    <tr>\n",
       "      <th>Tema</th>\n",
       "      <td>44.141</td>\n",
       "    </tr>\n",
       "  </tbody>\n",
       "</table>\n",
       "</div>"
      ],
      "text/plain": [
       "          gross income\n",
       "Branch                \n",
       "Achimota        44.879\n",
       "Ahodwo          49.650\n",
       "Tema            44.141"
      ]
     },
     "execution_count": 108,
     "metadata": {},
     "output_type": "execute_result"
    }
   ],
   "source": [
    "#What is the highest gross income for the three branches?¶\n",
    "df[['Branch','gross income']].groupby('Branch').max()"
   ]
  },
  {
   "cell_type": "code",
   "execution_count": 110,
   "id": "84478331",
   "metadata": {},
   "outputs": [
    {
     "data": {
      "application/vnd.plotly.v1+json": {
       "config": {
        "plotlyServerURL": "https://plot.ly"
       },
       "data": [
        {
         "alignmentgroup": "True",
         "hovertemplate": "Product line=%{x}<br>gross income=%{y}<extra></extra>",
         "legendgroup": "Fashion accessories",
         "marker": {
          "color": "#636efa"
         },
         "name": "Fashion accessories",
         "notched": false,
         "offsetgroup": "Fashion accessories",
         "orientation": "v",
         "showlegend": true,
         "type": "box",
         "x": [
          "Fashion accessories",
          "Fashion accessories",
          "Fashion accessories",
          "Fashion accessories",
          "Fashion accessories",
          "Fashion accessories",
          "Fashion accessories",
          "Fashion accessories",
          "Fashion accessories",
          "Fashion accessories",
          "Fashion accessories",
          "Fashion accessories",
          "Fashion accessories",
          "Fashion accessories",
          "Fashion accessories",
          "Fashion accessories",
          "Fashion accessories",
          "Fashion accessories",
          "Fashion accessories",
          "Fashion accessories",
          "Fashion accessories",
          "Fashion accessories",
          "Fashion accessories",
          "Fashion accessories",
          "Fashion accessories",
          "Fashion accessories",
          "Fashion accessories",
          "Fashion accessories",
          "Fashion accessories",
          "Fashion accessories",
          "Fashion accessories",
          "Fashion accessories",
          "Fashion accessories",
          "Fashion accessories",
          "Fashion accessories",
          "Fashion accessories",
          "Fashion accessories"
         ],
         "x0": " ",
         "xaxis": "x",
         "y": [
          34.38,
          1.066,
          16.4295,
          2.6175,
          4.992,
          3.2495,
          23.5325,
          49.65,
          25.011,
          41.625,
          30.919,
          8.191,
          14.8995,
          3.705,
          2.372,
          16.336,
          9.9375,
          5.244,
          3.29,
          2.619,
          11.409,
          31.06,
          7.43,
          13.983,
          6.807,
          21.259,
          0.7715,
          7.39,
          6.192,
          6.248,
          22.032,
          8.335,
          0.985,
          11.055,
          18.934,
          8.5905,
          37.458
         ],
         "y0": " ",
         "yaxis": "y"
        },
        {
         "alignmentgroup": "True",
         "hovertemplate": "Product line=%{x}<br>gross income=%{y}<extra></extra>",
         "legendgroup": "Food and beverages",
         "marker": {
          "color": "#EF553B"
         },
         "name": "Food and beverages",
         "notched": false,
         "offsetgroup": "Food and beverages",
         "orientation": "v",
         "showlegend": true,
         "type": "box",
         "x": [
          "Food and beverages",
          "Food and beverages",
          "Food and beverages",
          "Food and beverages",
          "Food and beverages",
          "Food and beverages",
          "Food and beverages",
          "Food and beverages",
          "Food and beverages",
          "Food and beverages",
          "Food and beverages",
          "Food and beverages",
          "Food and beverages",
          "Food and beverages",
          "Food and beverages",
          "Food and beverages",
          "Food and beverages",
          "Food and beverages",
          "Food and beverages",
          "Food and beverages",
          "Food and beverages",
          "Food and beverages",
          "Food and beverages",
          "Food and beverages",
          "Food and beverages",
          "Food and beverages",
          "Food and beverages",
          "Food and beverages",
          "Food and beverages",
          "Food and beverages",
          "Food and beverages",
          "Food and beverages",
          "Food and beverages",
          "Food and beverages"
         ],
         "x0": " ",
         "xaxis": "x",
         "y": [
          2.712,
          17.272,
          17.828,
          14.14,
          8.687,
          3.5575,
          24.9225,
          44.6,
          7.9125,
          4.0355,
          27.072,
          25.215,
          14.502,
          32.796,
          20.9475,
          38.6,
          3.56,
          13.552,
          39.155,
          29.559,
          27.18,
          24.945,
          15.384,
          3.333,
          8.601,
          16.072,
          24.186,
          25.571,
          4.208,
          23.0725,
          8.661,
          8.448,
          1.079,
          42.315
         ],
         "y0": " ",
         "yaxis": "y"
        },
        {
         "alignmentgroup": "True",
         "hovertemplate": "Product line=%{x}<br>gross income=%{y}<extra></extra>",
         "legendgroup": "Home and lifestyle",
         "marker": {
          "color": "#00cc96"
         },
         "name": "Home and lifestyle",
         "notched": false,
         "offsetgroup": "Home and lifestyle",
         "orientation": "v",
         "showlegend": true,
         "type": "box",
         "x": [
          "Home and lifestyle",
          "Home and lifestyle",
          "Home and lifestyle",
          "Home and lifestyle",
          "Home and lifestyle",
          "Home and lifestyle",
          "Home and lifestyle",
          "Home and lifestyle",
          "Home and lifestyle",
          "Home and lifestyle",
          "Home and lifestyle",
          "Home and lifestyle",
          "Home and lifestyle",
          "Home and lifestyle",
          "Home and lifestyle",
          "Home and lifestyle",
          "Home and lifestyle",
          "Home and lifestyle",
          "Home and lifestyle",
          "Home and lifestyle",
          "Home and lifestyle",
          "Home and lifestyle",
          "Home and lifestyle",
          "Home and lifestyle",
          "Home and lifestyle",
          "Home and lifestyle",
          "Home and lifestyle",
          "Home and lifestyle",
          "Home and lifestyle",
          "Home and lifestyle",
          "Home and lifestyle",
          "Home and lifestyle",
          "Home and lifestyle"
         ],
         "x0": " ",
         "xaxis": "x",
         "y": [
          7.08,
          3.429,
          9.909,
          7.9,
          7.995,
          1.2645,
          4.3135,
          15.921,
          1.273,
          20.51,
          6.35,
          15.228,
          12.438,
          36.175,
          22.84,
          7.094,
          42.282,
          16.719,
          35.516,
          0.914,
          21.8425,
          8.484,
          4.4305,
          12.048,
          10.3455,
          6.618,
          18.32,
          25.131,
          6.1155,
          48.75,
          9.076,
          5.662,
          6.456
         ],
         "y0": " ",
         "yaxis": "y"
        },
        {
         "alignmentgroup": "True",
         "hovertemplate": "Product line=%{x}<br>gross income=%{y}<extra></extra>",
         "legendgroup": "Sports and travel",
         "marker": {
          "color": "#ab63fa"
         },
         "name": "Sports and travel",
         "notched": false,
         "offsetgroup": "Sports and travel",
         "orientation": "v",
         "showlegend": true,
         "type": "box",
         "x": [
          "Sports and travel",
          "Sports and travel",
          "Sports and travel",
          "Sports and travel",
          "Sports and travel",
          "Sports and travel",
          "Sports and travel",
          "Sports and travel",
          "Sports and travel",
          "Sports and travel",
          "Sports and travel",
          "Sports and travel",
          "Sports and travel",
          "Sports and travel",
          "Sports and travel",
          "Sports and travel",
          "Sports and travel",
          "Sports and travel",
          "Sports and travel",
          "Sports and travel",
          "Sports and travel",
          "Sports and travel",
          "Sports and travel",
          "Sports and travel",
          "Sports and travel",
          "Sports and travel",
          "Sports and travel",
          "Sports and travel",
          "Sports and travel",
          "Sports and travel",
          "Sports and travel",
          "Sports and travel",
          "Sports and travel",
          "Sports and travel"
         ],
         "x0": " ",
         "xaxis": "x",
         "y": [
          10.3635,
          29.099,
          1.439,
          13.452,
          38.46,
          11.28,
          27.275,
          4.669,
          7.693,
          8.0625,
          12.245,
          1.119,
          3.947,
          1.549,
          12.918,
          7.75,
          5.999,
          1.276,
          3.675,
          22.01,
          44.1405,
          2.531,
          6.9825,
          6.087,
          16.2425,
          27.639,
          0.5085,
          16.8575,
          6.483,
          21.783,
          22.428,
          44.658,
          6.903,
          8.716
         ],
         "y0": " ",
         "yaxis": "y"
        },
        {
         "alignmentgroup": "True",
         "hovertemplate": "Product line=%{x}<br>gross income=%{y}<extra></extra>",
         "legendgroup": "Electronic accessories",
         "marker": {
          "color": "#FFA15A"
         },
         "name": "Electronic accessories",
         "notched": false,
         "offsetgroup": "Electronic accessories",
         "orientation": "v",
         "showlegend": true,
         "type": "box",
         "x": [
          "Electronic accessories",
          "Electronic accessories",
          "Electronic accessories",
          "Electronic accessories",
          "Electronic accessories",
          "Electronic accessories",
          "Electronic accessories",
          "Electronic accessories",
          "Electronic accessories",
          "Electronic accessories",
          "Electronic accessories",
          "Electronic accessories",
          "Electronic accessories",
          "Electronic accessories",
          "Electronic accessories",
          "Electronic accessories",
          "Electronic accessories",
          "Electronic accessories",
          "Electronic accessories",
          "Electronic accessories",
          "Electronic accessories",
          "Electronic accessories",
          "Electronic accessories",
          "Electronic accessories",
          "Electronic accessories",
          "Electronic accessories",
          "Electronic accessories",
          "Electronic accessories",
          "Electronic accessories",
          "Electronic accessories",
          "Electronic accessories",
          "Electronic accessories"
         ],
         "x0": " ",
         "xaxis": "x",
         "y": [
          22.413,
          11.8035,
          28.756,
          36.735,
          3.735,
          31.311,
          26.395,
          12.21,
          40.985,
          8.425,
          11.475,
          33.777,
          22.773,
          21.9775,
          18.0915,
          8.6,
          34.0155,
          8.1775,
          44.8785,
          15.135,
          22.74,
          16.344,
          8.71,
          14.067,
          15.544,
          5.567,
          14.296,
          19.448,
          4.84,
          22.353,
          5.803,
          8.827
         ],
         "y0": " ",
         "yaxis": "y"
        },
        {
         "alignmentgroup": "True",
         "hovertemplate": "Product line=%{x}<br>gross income=%{y}<extra></extra>",
         "legendgroup": "Health and beauty",
         "marker": {
          "color": "#19d3f3"
         },
         "name": "Health and beauty",
         "notched": false,
         "offsetgroup": "Health and beauty",
         "orientation": "v",
         "showlegend": true,
         "type": "box",
         "x": [
          "Health and beauty",
          "Health and beauty",
          "Health and beauty",
          "Health and beauty",
          "Health and beauty",
          "Health and beauty",
          "Health and beauty",
          "Health and beauty",
          "Health and beauty",
          "Health and beauty",
          "Health and beauty",
          "Health and beauty",
          "Health and beauty",
          "Health and beauty",
          "Health and beauty",
          "Health and beauty",
          "Health and beauty",
          "Health and beauty",
          "Health and beauty",
          "Health and beauty",
          "Health and beauty",
          "Health and beauty",
          "Health and beauty",
          "Health and beauty",
          "Health and beauty",
          "Health and beauty",
          "Health and beauty",
          "Health and beauty"
         ],
         "x0": " ",
         "xaxis": "x",
         "y": [
          3.987,
          7.935,
          12.95,
          26.915,
          29.757,
          19.232,
          15.148,
          20.72,
          11.2005,
          4.37,
          5.722,
          3.347,
          31.2165,
          35.69,
          13.724,
          11.63,
          12.854,
          12.318,
          2.7475,
          11.1,
          8.814,
          21.063,
          43.935,
          1.476,
          30.0545,
          5.095,
          26.1415,
          10.3635
         ],
         "y0": " ",
         "yaxis": "y"
        }
       ],
       "layout": {
        "boxmode": "overlay",
        "legend": {
         "title": {
          "text": "Product line"
         },
         "tracegroupgap": 0
        },
        "template": {
         "data": {
          "bar": [
           {
            "error_x": {
             "color": "#f2f5fa"
            },
            "error_y": {
             "color": "#f2f5fa"
            },
            "marker": {
             "line": {
              "color": "rgb(17,17,17)",
              "width": 0.5
             },
             "pattern": {
              "fillmode": "overlay",
              "size": 10,
              "solidity": 0.2
             }
            },
            "type": "bar"
           }
          ],
          "barpolar": [
           {
            "marker": {
             "line": {
              "color": "rgb(17,17,17)",
              "width": 0.5
             },
             "pattern": {
              "fillmode": "overlay",
              "size": 10,
              "solidity": 0.2
             }
            },
            "type": "barpolar"
           }
          ],
          "carpet": [
           {
            "aaxis": {
             "endlinecolor": "#A2B1C6",
             "gridcolor": "#506784",
             "linecolor": "#506784",
             "minorgridcolor": "#506784",
             "startlinecolor": "#A2B1C6"
            },
            "baxis": {
             "endlinecolor": "#A2B1C6",
             "gridcolor": "#506784",
             "linecolor": "#506784",
             "minorgridcolor": "#506784",
             "startlinecolor": "#A2B1C6"
            },
            "type": "carpet"
           }
          ],
          "choropleth": [
           {
            "colorbar": {
             "outlinewidth": 0,
             "ticks": ""
            },
            "type": "choropleth"
           }
          ],
          "contour": [
           {
            "colorbar": {
             "outlinewidth": 0,
             "ticks": ""
            },
            "colorscale": [
             [
              0,
              "#0d0887"
             ],
             [
              0.1111111111111111,
              "#46039f"
             ],
             [
              0.2222222222222222,
              "#7201a8"
             ],
             [
              0.3333333333333333,
              "#9c179e"
             ],
             [
              0.4444444444444444,
              "#bd3786"
             ],
             [
              0.5555555555555556,
              "#d8576b"
             ],
             [
              0.6666666666666666,
              "#ed7953"
             ],
             [
              0.7777777777777778,
              "#fb9f3a"
             ],
             [
              0.8888888888888888,
              "#fdca26"
             ],
             [
              1,
              "#f0f921"
             ]
            ],
            "type": "contour"
           }
          ],
          "contourcarpet": [
           {
            "colorbar": {
             "outlinewidth": 0,
             "ticks": ""
            },
            "type": "contourcarpet"
           }
          ],
          "heatmap": [
           {
            "colorbar": {
             "outlinewidth": 0,
             "ticks": ""
            },
            "colorscale": [
             [
              0,
              "#0d0887"
             ],
             [
              0.1111111111111111,
              "#46039f"
             ],
             [
              0.2222222222222222,
              "#7201a8"
             ],
             [
              0.3333333333333333,
              "#9c179e"
             ],
             [
              0.4444444444444444,
              "#bd3786"
             ],
             [
              0.5555555555555556,
              "#d8576b"
             ],
             [
              0.6666666666666666,
              "#ed7953"
             ],
             [
              0.7777777777777778,
              "#fb9f3a"
             ],
             [
              0.8888888888888888,
              "#fdca26"
             ],
             [
              1,
              "#f0f921"
             ]
            ],
            "type": "heatmap"
           }
          ],
          "heatmapgl": [
           {
            "colorbar": {
             "outlinewidth": 0,
             "ticks": ""
            },
            "colorscale": [
             [
              0,
              "#0d0887"
             ],
             [
              0.1111111111111111,
              "#46039f"
             ],
             [
              0.2222222222222222,
              "#7201a8"
             ],
             [
              0.3333333333333333,
              "#9c179e"
             ],
             [
              0.4444444444444444,
              "#bd3786"
             ],
             [
              0.5555555555555556,
              "#d8576b"
             ],
             [
              0.6666666666666666,
              "#ed7953"
             ],
             [
              0.7777777777777778,
              "#fb9f3a"
             ],
             [
              0.8888888888888888,
              "#fdca26"
             ],
             [
              1,
              "#f0f921"
             ]
            ],
            "type": "heatmapgl"
           }
          ],
          "histogram": [
           {
            "marker": {
             "pattern": {
              "fillmode": "overlay",
              "size": 10,
              "solidity": 0.2
             }
            },
            "type": "histogram"
           }
          ],
          "histogram2d": [
           {
            "colorbar": {
             "outlinewidth": 0,
             "ticks": ""
            },
            "colorscale": [
             [
              0,
              "#0d0887"
             ],
             [
              0.1111111111111111,
              "#46039f"
             ],
             [
              0.2222222222222222,
              "#7201a8"
             ],
             [
              0.3333333333333333,
              "#9c179e"
             ],
             [
              0.4444444444444444,
              "#bd3786"
             ],
             [
              0.5555555555555556,
              "#d8576b"
             ],
             [
              0.6666666666666666,
              "#ed7953"
             ],
             [
              0.7777777777777778,
              "#fb9f3a"
             ],
             [
              0.8888888888888888,
              "#fdca26"
             ],
             [
              1,
              "#f0f921"
             ]
            ],
            "type": "histogram2d"
           }
          ],
          "histogram2dcontour": [
           {
            "colorbar": {
             "outlinewidth": 0,
             "ticks": ""
            },
            "colorscale": [
             [
              0,
              "#0d0887"
             ],
             [
              0.1111111111111111,
              "#46039f"
             ],
             [
              0.2222222222222222,
              "#7201a8"
             ],
             [
              0.3333333333333333,
              "#9c179e"
             ],
             [
              0.4444444444444444,
              "#bd3786"
             ],
             [
              0.5555555555555556,
              "#d8576b"
             ],
             [
              0.6666666666666666,
              "#ed7953"
             ],
             [
              0.7777777777777778,
              "#fb9f3a"
             ],
             [
              0.8888888888888888,
              "#fdca26"
             ],
             [
              1,
              "#f0f921"
             ]
            ],
            "type": "histogram2dcontour"
           }
          ],
          "mesh3d": [
           {
            "colorbar": {
             "outlinewidth": 0,
             "ticks": ""
            },
            "type": "mesh3d"
           }
          ],
          "parcoords": [
           {
            "line": {
             "colorbar": {
              "outlinewidth": 0,
              "ticks": ""
             }
            },
            "type": "parcoords"
           }
          ],
          "pie": [
           {
            "automargin": true,
            "type": "pie"
           }
          ],
          "scatter": [
           {
            "marker": {
             "line": {
              "color": "#283442"
             }
            },
            "type": "scatter"
           }
          ],
          "scatter3d": [
           {
            "line": {
             "colorbar": {
              "outlinewidth": 0,
              "ticks": ""
             }
            },
            "marker": {
             "colorbar": {
              "outlinewidth": 0,
              "ticks": ""
             }
            },
            "type": "scatter3d"
           }
          ],
          "scattercarpet": [
           {
            "marker": {
             "colorbar": {
              "outlinewidth": 0,
              "ticks": ""
             }
            },
            "type": "scattercarpet"
           }
          ],
          "scattergeo": [
           {
            "marker": {
             "colorbar": {
              "outlinewidth": 0,
              "ticks": ""
             }
            },
            "type": "scattergeo"
           }
          ],
          "scattergl": [
           {
            "marker": {
             "line": {
              "color": "#283442"
             }
            },
            "type": "scattergl"
           }
          ],
          "scattermapbox": [
           {
            "marker": {
             "colorbar": {
              "outlinewidth": 0,
              "ticks": ""
             }
            },
            "type": "scattermapbox"
           }
          ],
          "scatterpolar": [
           {
            "marker": {
             "colorbar": {
              "outlinewidth": 0,
              "ticks": ""
             }
            },
            "type": "scatterpolar"
           }
          ],
          "scatterpolargl": [
           {
            "marker": {
             "colorbar": {
              "outlinewidth": 0,
              "ticks": ""
             }
            },
            "type": "scatterpolargl"
           }
          ],
          "scatterternary": [
           {
            "marker": {
             "colorbar": {
              "outlinewidth": 0,
              "ticks": ""
             }
            },
            "type": "scatterternary"
           }
          ],
          "surface": [
           {
            "colorbar": {
             "outlinewidth": 0,
             "ticks": ""
            },
            "colorscale": [
             [
              0,
              "#0d0887"
             ],
             [
              0.1111111111111111,
              "#46039f"
             ],
             [
              0.2222222222222222,
              "#7201a8"
             ],
             [
              0.3333333333333333,
              "#9c179e"
             ],
             [
              0.4444444444444444,
              "#bd3786"
             ],
             [
              0.5555555555555556,
              "#d8576b"
             ],
             [
              0.6666666666666666,
              "#ed7953"
             ],
             [
              0.7777777777777778,
              "#fb9f3a"
             ],
             [
              0.8888888888888888,
              "#fdca26"
             ],
             [
              1,
              "#f0f921"
             ]
            ],
            "type": "surface"
           }
          ],
          "table": [
           {
            "cells": {
             "fill": {
              "color": "#506784"
             },
             "line": {
              "color": "rgb(17,17,17)"
             }
            },
            "header": {
             "fill": {
              "color": "#2a3f5f"
             },
             "line": {
              "color": "rgb(17,17,17)"
             }
            },
            "type": "table"
           }
          ]
         },
         "layout": {
          "annotationdefaults": {
           "arrowcolor": "#f2f5fa",
           "arrowhead": 0,
           "arrowwidth": 1
          },
          "autotypenumbers": "strict",
          "coloraxis": {
           "colorbar": {
            "outlinewidth": 0,
            "ticks": ""
           }
          },
          "colorscale": {
           "diverging": [
            [
             0,
             "#8e0152"
            ],
            [
             0.1,
             "#c51b7d"
            ],
            [
             0.2,
             "#de77ae"
            ],
            [
             0.3,
             "#f1b6da"
            ],
            [
             0.4,
             "#fde0ef"
            ],
            [
             0.5,
             "#f7f7f7"
            ],
            [
             0.6,
             "#e6f5d0"
            ],
            [
             0.7,
             "#b8e186"
            ],
            [
             0.8,
             "#7fbc41"
            ],
            [
             0.9,
             "#4d9221"
            ],
            [
             1,
             "#276419"
            ]
           ],
           "sequential": [
            [
             0,
             "#0d0887"
            ],
            [
             0.1111111111111111,
             "#46039f"
            ],
            [
             0.2222222222222222,
             "#7201a8"
            ],
            [
             0.3333333333333333,
             "#9c179e"
            ],
            [
             0.4444444444444444,
             "#bd3786"
            ],
            [
             0.5555555555555556,
             "#d8576b"
            ],
            [
             0.6666666666666666,
             "#ed7953"
            ],
            [
             0.7777777777777778,
             "#fb9f3a"
            ],
            [
             0.8888888888888888,
             "#fdca26"
            ],
            [
             1,
             "#f0f921"
            ]
           ],
           "sequentialminus": [
            [
             0,
             "#0d0887"
            ],
            [
             0.1111111111111111,
             "#46039f"
            ],
            [
             0.2222222222222222,
             "#7201a8"
            ],
            [
             0.3333333333333333,
             "#9c179e"
            ],
            [
             0.4444444444444444,
             "#bd3786"
            ],
            [
             0.5555555555555556,
             "#d8576b"
            ],
            [
             0.6666666666666666,
             "#ed7953"
            ],
            [
             0.7777777777777778,
             "#fb9f3a"
            ],
            [
             0.8888888888888888,
             "#fdca26"
            ],
            [
             1,
             "#f0f921"
            ]
           ]
          },
          "colorway": [
           "#636efa",
           "#EF553B",
           "#00cc96",
           "#ab63fa",
           "#FFA15A",
           "#19d3f3",
           "#FF6692",
           "#B6E880",
           "#FF97FF",
           "#FECB52"
          ],
          "font": {
           "color": "#f2f5fa"
          },
          "geo": {
           "bgcolor": "rgb(17,17,17)",
           "lakecolor": "rgb(17,17,17)",
           "landcolor": "rgb(17,17,17)",
           "showlakes": true,
           "showland": true,
           "subunitcolor": "#506784"
          },
          "hoverlabel": {
           "align": "left"
          },
          "hovermode": "closest",
          "mapbox": {
           "style": "dark"
          },
          "paper_bgcolor": "rgb(17,17,17)",
          "plot_bgcolor": "rgb(17,17,17)",
          "polar": {
           "angularaxis": {
            "gridcolor": "#506784",
            "linecolor": "#506784",
            "ticks": ""
           },
           "bgcolor": "rgb(17,17,17)",
           "radialaxis": {
            "gridcolor": "#506784",
            "linecolor": "#506784",
            "ticks": ""
           }
          },
          "scene": {
           "xaxis": {
            "backgroundcolor": "rgb(17,17,17)",
            "gridcolor": "#506784",
            "gridwidth": 2,
            "linecolor": "#506784",
            "showbackground": true,
            "ticks": "",
            "zerolinecolor": "#C8D4E3"
           },
           "yaxis": {
            "backgroundcolor": "rgb(17,17,17)",
            "gridcolor": "#506784",
            "gridwidth": 2,
            "linecolor": "#506784",
            "showbackground": true,
            "ticks": "",
            "zerolinecolor": "#C8D4E3"
           },
           "zaxis": {
            "backgroundcolor": "rgb(17,17,17)",
            "gridcolor": "#506784",
            "gridwidth": 2,
            "linecolor": "#506784",
            "showbackground": true,
            "ticks": "",
            "zerolinecolor": "#C8D4E3"
           }
          },
          "shapedefaults": {
           "line": {
            "color": "#f2f5fa"
           }
          },
          "sliderdefaults": {
           "bgcolor": "#C8D4E3",
           "bordercolor": "rgb(17,17,17)",
           "borderwidth": 1,
           "tickwidth": 0
          },
          "ternary": {
           "aaxis": {
            "gridcolor": "#506784",
            "linecolor": "#506784",
            "ticks": ""
           },
           "baxis": {
            "gridcolor": "#506784",
            "linecolor": "#506784",
            "ticks": ""
           },
           "bgcolor": "rgb(17,17,17)",
           "caxis": {
            "gridcolor": "#506784",
            "linecolor": "#506784",
            "ticks": ""
           }
          },
          "title": {
           "x": 0.05
          },
          "updatemenudefaults": {
           "bgcolor": "#506784",
           "borderwidth": 0
          },
          "xaxis": {
           "automargin": true,
           "gridcolor": "#283442",
           "linecolor": "#506784",
           "ticks": "",
           "title": {
            "standoff": 15
           },
           "zerolinecolor": "#283442",
           "zerolinewidth": 2
          },
          "yaxis": {
           "automargin": true,
           "gridcolor": "#283442",
           "linecolor": "#506784",
           "ticks": "",
           "title": {
            "standoff": 15
           },
           "zerolinecolor": "#283442",
           "zerolinewidth": 2
          }
         }
        },
        "title": {
         "text": "Product line with gross income"
        },
        "xaxis": {
         "anchor": "y",
         "categoryarray": [
          "Fashion accessories",
          "Food and beverages",
          "Home and lifestyle",
          "Sports and travel",
          "Electronic accessories",
          "Health and beauty"
         ],
         "categoryorder": "array",
         "domain": [
          0,
          1
         ],
         "title": {
          "text": "Product line"
         }
        },
        "yaxis": {
         "anchor": "x",
         "domain": [
          0,
          1
         ],
         "title": {
          "text": "gross income"
         }
        }
       }
      },
      "text/html": [
       "<div>                            <div id=\"ec604699-b175-4e24-9e04-305956e72c54\" class=\"plotly-graph-div\" style=\"height:525px; width:100%;\"></div>            <script type=\"text/javascript\">                require([\"plotly\"], function(Plotly) {                    window.PLOTLYENV=window.PLOTLYENV || {};                                    if (document.getElementById(\"ec604699-b175-4e24-9e04-305956e72c54\")) {                    Plotly.newPlot(                        \"ec604699-b175-4e24-9e04-305956e72c54\",                        [{\"alignmentgroup\":\"True\",\"hovertemplate\":\"Product line=%{x}<br>gross income=%{y}<extra></extra>\",\"legendgroup\":\"Fashion accessories\",\"marker\":{\"color\":\"#636efa\"},\"name\":\"Fashion accessories\",\"notched\":false,\"offsetgroup\":\"Fashion accessories\",\"orientation\":\"v\",\"showlegend\":true,\"x\":[\"Fashion accessories\",\"Fashion accessories\",\"Fashion accessories\",\"Fashion accessories\",\"Fashion accessories\",\"Fashion accessories\",\"Fashion accessories\",\"Fashion accessories\",\"Fashion accessories\",\"Fashion accessories\",\"Fashion accessories\",\"Fashion accessories\",\"Fashion accessories\",\"Fashion accessories\",\"Fashion accessories\",\"Fashion accessories\",\"Fashion accessories\",\"Fashion accessories\",\"Fashion accessories\",\"Fashion accessories\",\"Fashion accessories\",\"Fashion accessories\",\"Fashion accessories\",\"Fashion accessories\",\"Fashion accessories\",\"Fashion accessories\",\"Fashion accessories\",\"Fashion accessories\",\"Fashion accessories\",\"Fashion accessories\",\"Fashion accessories\",\"Fashion accessories\",\"Fashion accessories\",\"Fashion accessories\",\"Fashion accessories\",\"Fashion accessories\",\"Fashion accessories\"],\"x0\":\" \",\"xaxis\":\"x\",\"y\":[34.38,1.066,16.4295,2.6175,4.992,3.2495,23.5325,49.65,25.011,41.625,30.919,8.191,14.8995,3.705,2.372,16.336,9.9375,5.244,3.29,2.619,11.409,31.06,7.43,13.983,6.807,21.259,0.7715,7.39,6.192,6.248,22.032,8.335,0.985,11.055,18.934,8.5905,37.458],\"y0\":\" \",\"yaxis\":\"y\",\"type\":\"box\"},{\"alignmentgroup\":\"True\",\"hovertemplate\":\"Product line=%{x}<br>gross income=%{y}<extra></extra>\",\"legendgroup\":\"Food and beverages\",\"marker\":{\"color\":\"#EF553B\"},\"name\":\"Food and beverages\",\"notched\":false,\"offsetgroup\":\"Food and beverages\",\"orientation\":\"v\",\"showlegend\":true,\"x\":[\"Food and beverages\",\"Food and beverages\",\"Food and beverages\",\"Food and beverages\",\"Food and beverages\",\"Food and beverages\",\"Food and beverages\",\"Food and beverages\",\"Food and beverages\",\"Food and beverages\",\"Food and beverages\",\"Food and beverages\",\"Food and beverages\",\"Food and beverages\",\"Food and beverages\",\"Food and beverages\",\"Food and beverages\",\"Food and beverages\",\"Food and beverages\",\"Food and beverages\",\"Food and beverages\",\"Food and beverages\",\"Food and beverages\",\"Food and beverages\",\"Food and beverages\",\"Food and beverages\",\"Food and beverages\",\"Food and beverages\",\"Food and beverages\",\"Food and beverages\",\"Food and beverages\",\"Food and beverages\",\"Food and beverages\",\"Food and beverages\"],\"x0\":\" \",\"xaxis\":\"x\",\"y\":[2.712,17.272,17.828,14.14,8.687,3.5575,24.9225,44.6,7.9125,4.0355,27.072,25.215,14.502,32.796,20.9475,38.6,3.56,13.552,39.155,29.559,27.18,24.945,15.384,3.333,8.601,16.072,24.186,25.571,4.208,23.0725,8.661,8.448,1.079,42.315],\"y0\":\" \",\"yaxis\":\"y\",\"type\":\"box\"},{\"alignmentgroup\":\"True\",\"hovertemplate\":\"Product line=%{x}<br>gross income=%{y}<extra></extra>\",\"legendgroup\":\"Home and lifestyle\",\"marker\":{\"color\":\"#00cc96\"},\"name\":\"Home and lifestyle\",\"notched\":false,\"offsetgroup\":\"Home and lifestyle\",\"orientation\":\"v\",\"showlegend\":true,\"x\":[\"Home and lifestyle\",\"Home and lifestyle\",\"Home and lifestyle\",\"Home and lifestyle\",\"Home and lifestyle\",\"Home and lifestyle\",\"Home and lifestyle\",\"Home and lifestyle\",\"Home and lifestyle\",\"Home and lifestyle\",\"Home and lifestyle\",\"Home and lifestyle\",\"Home and lifestyle\",\"Home and lifestyle\",\"Home and lifestyle\",\"Home and lifestyle\",\"Home and lifestyle\",\"Home and lifestyle\",\"Home and lifestyle\",\"Home and lifestyle\",\"Home and lifestyle\",\"Home and lifestyle\",\"Home and lifestyle\",\"Home and lifestyle\",\"Home and lifestyle\",\"Home and lifestyle\",\"Home and lifestyle\",\"Home and lifestyle\",\"Home and lifestyle\",\"Home and lifestyle\",\"Home and lifestyle\",\"Home and lifestyle\",\"Home and lifestyle\"],\"x0\":\" \",\"xaxis\":\"x\",\"y\":[7.08,3.429,9.909,7.9,7.995,1.2645,4.3135,15.921,1.273,20.51,6.35,15.228,12.438,36.175,22.84,7.094,42.282,16.719,35.516,0.914,21.8425,8.484,4.4305,12.048,10.3455,6.618,18.32,25.131,6.1155,48.75,9.076,5.662,6.456],\"y0\":\" \",\"yaxis\":\"y\",\"type\":\"box\"},{\"alignmentgroup\":\"True\",\"hovertemplate\":\"Product line=%{x}<br>gross income=%{y}<extra></extra>\",\"legendgroup\":\"Sports and travel\",\"marker\":{\"color\":\"#ab63fa\"},\"name\":\"Sports and travel\",\"notched\":false,\"offsetgroup\":\"Sports and travel\",\"orientation\":\"v\",\"showlegend\":true,\"x\":[\"Sports and travel\",\"Sports and travel\",\"Sports and travel\",\"Sports and travel\",\"Sports and travel\",\"Sports and travel\",\"Sports and travel\",\"Sports and travel\",\"Sports and travel\",\"Sports and travel\",\"Sports and travel\",\"Sports and travel\",\"Sports and travel\",\"Sports and travel\",\"Sports and travel\",\"Sports and travel\",\"Sports and travel\",\"Sports and travel\",\"Sports and travel\",\"Sports and travel\",\"Sports and travel\",\"Sports and travel\",\"Sports and travel\",\"Sports and travel\",\"Sports and travel\",\"Sports and travel\",\"Sports and travel\",\"Sports and travel\",\"Sports and travel\",\"Sports and travel\",\"Sports and travel\",\"Sports and travel\",\"Sports and travel\",\"Sports and travel\"],\"x0\":\" \",\"xaxis\":\"x\",\"y\":[10.3635,29.099,1.439,13.452,38.46,11.28,27.275,4.669,7.693,8.0625,12.245,1.119,3.947,1.549,12.918,7.75,5.999,1.276,3.675,22.01,44.1405,2.531,6.9825,6.087,16.2425,27.639,0.5085,16.8575,6.483,21.783,22.428,44.658,6.903,8.716],\"y0\":\" \",\"yaxis\":\"y\",\"type\":\"box\"},{\"alignmentgroup\":\"True\",\"hovertemplate\":\"Product line=%{x}<br>gross income=%{y}<extra></extra>\",\"legendgroup\":\"Electronic accessories\",\"marker\":{\"color\":\"#FFA15A\"},\"name\":\"Electronic accessories\",\"notched\":false,\"offsetgroup\":\"Electronic accessories\",\"orientation\":\"v\",\"showlegend\":true,\"x\":[\"Electronic accessories\",\"Electronic accessories\",\"Electronic accessories\",\"Electronic accessories\",\"Electronic accessories\",\"Electronic accessories\",\"Electronic accessories\",\"Electronic accessories\",\"Electronic accessories\",\"Electronic accessories\",\"Electronic accessories\",\"Electronic accessories\",\"Electronic accessories\",\"Electronic accessories\",\"Electronic accessories\",\"Electronic accessories\",\"Electronic accessories\",\"Electronic accessories\",\"Electronic accessories\",\"Electronic accessories\",\"Electronic accessories\",\"Electronic accessories\",\"Electronic accessories\",\"Electronic accessories\",\"Electronic accessories\",\"Electronic accessories\",\"Electronic accessories\",\"Electronic accessories\",\"Electronic accessories\",\"Electronic accessories\",\"Electronic accessories\",\"Electronic accessories\"],\"x0\":\" \",\"xaxis\":\"x\",\"y\":[22.413,11.8035,28.756,36.735,3.735,31.311,26.395,12.21,40.985,8.425,11.475,33.777,22.773,21.9775,18.0915,8.6,34.0155,8.1775,44.8785,15.135,22.74,16.344,8.71,14.067,15.544,5.567,14.296,19.448,4.84,22.353,5.803,8.827],\"y0\":\" \",\"yaxis\":\"y\",\"type\":\"box\"},{\"alignmentgroup\":\"True\",\"hovertemplate\":\"Product line=%{x}<br>gross income=%{y}<extra></extra>\",\"legendgroup\":\"Health and beauty\",\"marker\":{\"color\":\"#19d3f3\"},\"name\":\"Health and beauty\",\"notched\":false,\"offsetgroup\":\"Health and beauty\",\"orientation\":\"v\",\"showlegend\":true,\"x\":[\"Health and beauty\",\"Health and beauty\",\"Health and beauty\",\"Health and beauty\",\"Health and beauty\",\"Health and beauty\",\"Health and beauty\",\"Health and beauty\",\"Health and beauty\",\"Health and beauty\",\"Health and beauty\",\"Health and beauty\",\"Health and beauty\",\"Health and beauty\",\"Health and beauty\",\"Health and beauty\",\"Health and beauty\",\"Health and beauty\",\"Health and beauty\",\"Health and beauty\",\"Health and beauty\",\"Health and beauty\",\"Health and beauty\",\"Health and beauty\",\"Health and beauty\",\"Health and beauty\",\"Health and beauty\",\"Health and beauty\"],\"x0\":\" \",\"xaxis\":\"x\",\"y\":[3.987,7.935,12.95,26.915,29.757,19.232,15.148,20.72,11.2005,4.37,5.722,3.347,31.2165,35.69,13.724,11.63,12.854,12.318,2.7475,11.1,8.814,21.063,43.935,1.476,30.0545,5.095,26.1415,10.3635],\"y0\":\" \",\"yaxis\":\"y\",\"type\":\"box\"}],                        {\"template\":{\"data\":{\"barpolar\":[{\"marker\":{\"line\":{\"color\":\"rgb(17,17,17)\",\"width\":0.5},\"pattern\":{\"fillmode\":\"overlay\",\"size\":10,\"solidity\":0.2}},\"type\":\"barpolar\"}],\"bar\":[{\"error_x\":{\"color\":\"#f2f5fa\"},\"error_y\":{\"color\":\"#f2f5fa\"},\"marker\":{\"line\":{\"color\":\"rgb(17,17,17)\",\"width\":0.5},\"pattern\":{\"fillmode\":\"overlay\",\"size\":10,\"solidity\":0.2}},\"type\":\"bar\"}],\"carpet\":[{\"aaxis\":{\"endlinecolor\":\"#A2B1C6\",\"gridcolor\":\"#506784\",\"linecolor\":\"#506784\",\"minorgridcolor\":\"#506784\",\"startlinecolor\":\"#A2B1C6\"},\"baxis\":{\"endlinecolor\":\"#A2B1C6\",\"gridcolor\":\"#506784\",\"linecolor\":\"#506784\",\"minorgridcolor\":\"#506784\",\"startlinecolor\":\"#A2B1C6\"},\"type\":\"carpet\"}],\"choropleth\":[{\"colorbar\":{\"outlinewidth\":0,\"ticks\":\"\"},\"type\":\"choropleth\"}],\"contourcarpet\":[{\"colorbar\":{\"outlinewidth\":0,\"ticks\":\"\"},\"type\":\"contourcarpet\"}],\"contour\":[{\"colorbar\":{\"outlinewidth\":0,\"ticks\":\"\"},\"colorscale\":[[0.0,\"#0d0887\"],[0.1111111111111111,\"#46039f\"],[0.2222222222222222,\"#7201a8\"],[0.3333333333333333,\"#9c179e\"],[0.4444444444444444,\"#bd3786\"],[0.5555555555555556,\"#d8576b\"],[0.6666666666666666,\"#ed7953\"],[0.7777777777777778,\"#fb9f3a\"],[0.8888888888888888,\"#fdca26\"],[1.0,\"#f0f921\"]],\"type\":\"contour\"}],\"heatmapgl\":[{\"colorbar\":{\"outlinewidth\":0,\"ticks\":\"\"},\"colorscale\":[[0.0,\"#0d0887\"],[0.1111111111111111,\"#46039f\"],[0.2222222222222222,\"#7201a8\"],[0.3333333333333333,\"#9c179e\"],[0.4444444444444444,\"#bd3786\"],[0.5555555555555556,\"#d8576b\"],[0.6666666666666666,\"#ed7953\"],[0.7777777777777778,\"#fb9f3a\"],[0.8888888888888888,\"#fdca26\"],[1.0,\"#f0f921\"]],\"type\":\"heatmapgl\"}],\"heatmap\":[{\"colorbar\":{\"outlinewidth\":0,\"ticks\":\"\"},\"colorscale\":[[0.0,\"#0d0887\"],[0.1111111111111111,\"#46039f\"],[0.2222222222222222,\"#7201a8\"],[0.3333333333333333,\"#9c179e\"],[0.4444444444444444,\"#bd3786\"],[0.5555555555555556,\"#d8576b\"],[0.6666666666666666,\"#ed7953\"],[0.7777777777777778,\"#fb9f3a\"],[0.8888888888888888,\"#fdca26\"],[1.0,\"#f0f921\"]],\"type\":\"heatmap\"}],\"histogram2dcontour\":[{\"colorbar\":{\"outlinewidth\":0,\"ticks\":\"\"},\"colorscale\":[[0.0,\"#0d0887\"],[0.1111111111111111,\"#46039f\"],[0.2222222222222222,\"#7201a8\"],[0.3333333333333333,\"#9c179e\"],[0.4444444444444444,\"#bd3786\"],[0.5555555555555556,\"#d8576b\"],[0.6666666666666666,\"#ed7953\"],[0.7777777777777778,\"#fb9f3a\"],[0.8888888888888888,\"#fdca26\"],[1.0,\"#f0f921\"]],\"type\":\"histogram2dcontour\"}],\"histogram2d\":[{\"colorbar\":{\"outlinewidth\":0,\"ticks\":\"\"},\"colorscale\":[[0.0,\"#0d0887\"],[0.1111111111111111,\"#46039f\"],[0.2222222222222222,\"#7201a8\"],[0.3333333333333333,\"#9c179e\"],[0.4444444444444444,\"#bd3786\"],[0.5555555555555556,\"#d8576b\"],[0.6666666666666666,\"#ed7953\"],[0.7777777777777778,\"#fb9f3a\"],[0.8888888888888888,\"#fdca26\"],[1.0,\"#f0f921\"]],\"type\":\"histogram2d\"}],\"histogram\":[{\"marker\":{\"pattern\":{\"fillmode\":\"overlay\",\"size\":10,\"solidity\":0.2}},\"type\":\"histogram\"}],\"mesh3d\":[{\"colorbar\":{\"outlinewidth\":0,\"ticks\":\"\"},\"type\":\"mesh3d\"}],\"parcoords\":[{\"line\":{\"colorbar\":{\"outlinewidth\":0,\"ticks\":\"\"}},\"type\":\"parcoords\"}],\"pie\":[{\"automargin\":true,\"type\":\"pie\"}],\"scatter3d\":[{\"line\":{\"colorbar\":{\"outlinewidth\":0,\"ticks\":\"\"}},\"marker\":{\"colorbar\":{\"outlinewidth\":0,\"ticks\":\"\"}},\"type\":\"scatter3d\"}],\"scattercarpet\":[{\"marker\":{\"colorbar\":{\"outlinewidth\":0,\"ticks\":\"\"}},\"type\":\"scattercarpet\"}],\"scattergeo\":[{\"marker\":{\"colorbar\":{\"outlinewidth\":0,\"ticks\":\"\"}},\"type\":\"scattergeo\"}],\"scattergl\":[{\"marker\":{\"line\":{\"color\":\"#283442\"}},\"type\":\"scattergl\"}],\"scattermapbox\":[{\"marker\":{\"colorbar\":{\"outlinewidth\":0,\"ticks\":\"\"}},\"type\":\"scattermapbox\"}],\"scatterpolargl\":[{\"marker\":{\"colorbar\":{\"outlinewidth\":0,\"ticks\":\"\"}},\"type\":\"scatterpolargl\"}],\"scatterpolar\":[{\"marker\":{\"colorbar\":{\"outlinewidth\":0,\"ticks\":\"\"}},\"type\":\"scatterpolar\"}],\"scatter\":[{\"marker\":{\"line\":{\"color\":\"#283442\"}},\"type\":\"scatter\"}],\"scatterternary\":[{\"marker\":{\"colorbar\":{\"outlinewidth\":0,\"ticks\":\"\"}},\"type\":\"scatterternary\"}],\"surface\":[{\"colorbar\":{\"outlinewidth\":0,\"ticks\":\"\"},\"colorscale\":[[0.0,\"#0d0887\"],[0.1111111111111111,\"#46039f\"],[0.2222222222222222,\"#7201a8\"],[0.3333333333333333,\"#9c179e\"],[0.4444444444444444,\"#bd3786\"],[0.5555555555555556,\"#d8576b\"],[0.6666666666666666,\"#ed7953\"],[0.7777777777777778,\"#fb9f3a\"],[0.8888888888888888,\"#fdca26\"],[1.0,\"#f0f921\"]],\"type\":\"surface\"}],\"table\":[{\"cells\":{\"fill\":{\"color\":\"#506784\"},\"line\":{\"color\":\"rgb(17,17,17)\"}},\"header\":{\"fill\":{\"color\":\"#2a3f5f\"},\"line\":{\"color\":\"rgb(17,17,17)\"}},\"type\":\"table\"}]},\"layout\":{\"annotationdefaults\":{\"arrowcolor\":\"#f2f5fa\",\"arrowhead\":0,\"arrowwidth\":1},\"autotypenumbers\":\"strict\",\"coloraxis\":{\"colorbar\":{\"outlinewidth\":0,\"ticks\":\"\"}},\"colorscale\":{\"diverging\":[[0,\"#8e0152\"],[0.1,\"#c51b7d\"],[0.2,\"#de77ae\"],[0.3,\"#f1b6da\"],[0.4,\"#fde0ef\"],[0.5,\"#f7f7f7\"],[0.6,\"#e6f5d0\"],[0.7,\"#b8e186\"],[0.8,\"#7fbc41\"],[0.9,\"#4d9221\"],[1,\"#276419\"]],\"sequential\":[[0.0,\"#0d0887\"],[0.1111111111111111,\"#46039f\"],[0.2222222222222222,\"#7201a8\"],[0.3333333333333333,\"#9c179e\"],[0.4444444444444444,\"#bd3786\"],[0.5555555555555556,\"#d8576b\"],[0.6666666666666666,\"#ed7953\"],[0.7777777777777778,\"#fb9f3a\"],[0.8888888888888888,\"#fdca26\"],[1.0,\"#f0f921\"]],\"sequentialminus\":[[0.0,\"#0d0887\"],[0.1111111111111111,\"#46039f\"],[0.2222222222222222,\"#7201a8\"],[0.3333333333333333,\"#9c179e\"],[0.4444444444444444,\"#bd3786\"],[0.5555555555555556,\"#d8576b\"],[0.6666666666666666,\"#ed7953\"],[0.7777777777777778,\"#fb9f3a\"],[0.8888888888888888,\"#fdca26\"],[1.0,\"#f0f921\"]]},\"colorway\":[\"#636efa\",\"#EF553B\",\"#00cc96\",\"#ab63fa\",\"#FFA15A\",\"#19d3f3\",\"#FF6692\",\"#B6E880\",\"#FF97FF\",\"#FECB52\"],\"font\":{\"color\":\"#f2f5fa\"},\"geo\":{\"bgcolor\":\"rgb(17,17,17)\",\"lakecolor\":\"rgb(17,17,17)\",\"landcolor\":\"rgb(17,17,17)\",\"showlakes\":true,\"showland\":true,\"subunitcolor\":\"#506784\"},\"hoverlabel\":{\"align\":\"left\"},\"hovermode\":\"closest\",\"mapbox\":{\"style\":\"dark\"},\"paper_bgcolor\":\"rgb(17,17,17)\",\"plot_bgcolor\":\"rgb(17,17,17)\",\"polar\":{\"angularaxis\":{\"gridcolor\":\"#506784\",\"linecolor\":\"#506784\",\"ticks\":\"\"},\"bgcolor\":\"rgb(17,17,17)\",\"radialaxis\":{\"gridcolor\":\"#506784\",\"linecolor\":\"#506784\",\"ticks\":\"\"}},\"scene\":{\"xaxis\":{\"backgroundcolor\":\"rgb(17,17,17)\",\"gridcolor\":\"#506784\",\"gridwidth\":2,\"linecolor\":\"#506784\",\"showbackground\":true,\"ticks\":\"\",\"zerolinecolor\":\"#C8D4E3\"},\"yaxis\":{\"backgroundcolor\":\"rgb(17,17,17)\",\"gridcolor\":\"#506784\",\"gridwidth\":2,\"linecolor\":\"#506784\",\"showbackground\":true,\"ticks\":\"\",\"zerolinecolor\":\"#C8D4E3\"},\"zaxis\":{\"backgroundcolor\":\"rgb(17,17,17)\",\"gridcolor\":\"#506784\",\"gridwidth\":2,\"linecolor\":\"#506784\",\"showbackground\":true,\"ticks\":\"\",\"zerolinecolor\":\"#C8D4E3\"}},\"shapedefaults\":{\"line\":{\"color\":\"#f2f5fa\"}},\"sliderdefaults\":{\"bgcolor\":\"#C8D4E3\",\"bordercolor\":\"rgb(17,17,17)\",\"borderwidth\":1,\"tickwidth\":0},\"ternary\":{\"aaxis\":{\"gridcolor\":\"#506784\",\"linecolor\":\"#506784\",\"ticks\":\"\"},\"baxis\":{\"gridcolor\":\"#506784\",\"linecolor\":\"#506784\",\"ticks\":\"\"},\"bgcolor\":\"rgb(17,17,17)\",\"caxis\":{\"gridcolor\":\"#506784\",\"linecolor\":\"#506784\",\"ticks\":\"\"}},\"title\":{\"x\":0.05},\"updatemenudefaults\":{\"bgcolor\":\"#506784\",\"borderwidth\":0},\"xaxis\":{\"automargin\":true,\"gridcolor\":\"#283442\",\"linecolor\":\"#506784\",\"ticks\":\"\",\"title\":{\"standoff\":15},\"zerolinecolor\":\"#283442\",\"zerolinewidth\":2},\"yaxis\":{\"automargin\":true,\"gridcolor\":\"#283442\",\"linecolor\":\"#506784\",\"ticks\":\"\",\"title\":{\"standoff\":15},\"zerolinecolor\":\"#283442\",\"zerolinewidth\":2}}},\"xaxis\":{\"anchor\":\"y\",\"domain\":[0.0,1.0],\"title\":{\"text\":\"Product line\"},\"categoryorder\":\"array\",\"categoryarray\":[\"Fashion accessories\",\"Food and beverages\",\"Home and lifestyle\",\"Sports and travel\",\"Electronic accessories\",\"Health and beauty\"]},\"yaxis\":{\"anchor\":\"x\",\"domain\":[0.0,1.0],\"title\":{\"text\":\"gross income\"}},\"legend\":{\"title\":{\"text\":\"Product line\"},\"tracegroupgap\":0},\"title\":{\"text\":\"Product line with gross income\"},\"boxmode\":\"overlay\"},                        {\"responsive\": true}                    ).then(function(){\n",
       "                            \n",
       "var gd = document.getElementById('ec604699-b175-4e24-9e04-305956e72c54');\n",
       "var x = new MutationObserver(function (mutations, observer) {{\n",
       "        var display = window.getComputedStyle(gd).display;\n",
       "        if (!display || display === 'none') {{\n",
       "            console.log([gd, 'removed!']);\n",
       "            Plotly.purge(gd);\n",
       "            observer.disconnect();\n",
       "        }}\n",
       "}});\n",
       "\n",
       "// Listen for the removal of the full notebook cells\n",
       "var notebookContainer = gd.closest('#notebook-container');\n",
       "if (notebookContainer) {{\n",
       "    x.observe(notebookContainer, {childList: true});\n",
       "}}\n",
       "\n",
       "// Listen for the clearing of the current output cell\n",
       "var outputEl = gd.closest('.output');\n",
       "if (outputEl) {{\n",
       "    x.observe(outputEl, {childList: true});\n",
       "}}\n",
       "\n",
       "                        })                };                });            </script>        </div>"
      ]
     },
     "metadata": {},
     "output_type": "display_data"
    }
   ],
   "source": [
    "#Gross income for each Product line¶\n",
    "figure=px.box(df,x='Product line',color='Product line',y='gross income',template='plotly_dark',title='Product line with gross income')\n",
    "figure.show()"
   ]
  },
  {
   "cell_type": "code",
   "execution_count": null,
   "id": "e1563b82",
   "metadata": {},
   "outputs": [],
   "source": []
  }
 ],
 "metadata": {
  "kernelspec": {
   "display_name": "Python 3 (ipykernel)",
   "language": "python",
   "name": "python3"
  },
  "language_info": {
   "codemirror_mode": {
    "name": "ipython",
    "version": 3
   },
   "file_extension": ".py",
   "mimetype": "text/x-python",
   "name": "python",
   "nbconvert_exporter": "python",
   "pygments_lexer": "ipython3",
   "version": "3.9.12"
  }
 },
 "nbformat": 4,
 "nbformat_minor": 5
}
